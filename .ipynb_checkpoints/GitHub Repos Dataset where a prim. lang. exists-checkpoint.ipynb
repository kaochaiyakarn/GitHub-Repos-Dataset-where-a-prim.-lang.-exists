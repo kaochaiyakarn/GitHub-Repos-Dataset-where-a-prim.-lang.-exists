{
 "cells": [
  {
   "cell_type": "markdown",
   "metadata": {},
   "source": [
    "# GitHub Repos Dataset where a prim. lang. exists"
   ]
  },
  {
   "cell_type": "markdown",
   "metadata": {},
   "source": [
    "From https://www.kaggle.com/muname/github-repos-mainlang"
   ]
  },
  {
   "cell_type": "markdown",
   "metadata": {},
   "source": [
    "## pre-process"
   ]
  },
  {
   "cell_type": "code",
   "execution_count": 1,
   "metadata": {},
   "outputs": [],
   "source": [
    "import pandas as pd"
   ]
  },
  {
   "cell_type": "code",
   "execution_count": 2,
   "metadata": {},
   "outputs": [],
   "source": [
    "df = pd.read_csv(\"./DatasetDataKaggle.csv\")"
   ]
  },
  {
   "cell_type": "code",
   "execution_count": 3,
   "metadata": {},
   "outputs": [
    {
     "data": {
      "text/html": [
       "<div>\n",
       "<style scoped>\n",
       "    .dataframe tbody tr th:only-of-type {\n",
       "        vertical-align: middle;\n",
       "    }\n",
       "\n",
       "    .dataframe tbody tr th {\n",
       "        vertical-align: top;\n",
       "    }\n",
       "\n",
       "    .dataframe thead th {\n",
       "        text-align: right;\n",
       "    }\n",
       "</style>\n",
       "<table border=\"1\" class=\"dataframe\">\n",
       "  <thead>\n",
       "    <tr style=\"text-align: right;\">\n",
       "      <th></th>\n",
       "      <th>repo_id</th>\n",
       "      <th>Primary Language</th>\n",
       "      <th>Repo_description</th>\n",
       "      <th>size</th>\n",
       "      <th>stars</th>\n",
       "      <th>commits_count</th>\n",
       "      <th>contributors_count_without_anonymous</th>\n",
       "      <th>contributors_count_with_anonymous</th>\n",
       "      <th>created_at</th>\n",
       "      <th>pushed_at</th>\n",
       "      <th>repo/username</th>\n",
       "      <th>repo_link</th>\n",
       "    </tr>\n",
       "  </thead>\n",
       "  <tbody>\n",
       "    <tr>\n",
       "      <th>0</th>\n",
       "      <td>1.0</td>\n",
       "      <td>Ruby</td>\n",
       "      <td>**Grit is no longer maintained. Check out libg...</td>\n",
       "      <td>7954.0</td>\n",
       "      <td>1877.0</td>\n",
       "      <td>516.0</td>\n",
       "      <td>43.0</td>\n",
       "      <td>48.0</td>\n",
       "      <td>29 October 2007</td>\n",
       "      <td>03 August 2017</td>\n",
       "      <td>grit</td>\n",
       "      <td>NaN</td>\n",
       "    </tr>\n",
       "    <tr>\n",
       "      <th>1</th>\n",
       "      <td>144.0</td>\n",
       "      <td>Ruby</td>\n",
       "      <td>Chronic is a pure Ruby natural language date p...</td>\n",
       "      <td>681.0</td>\n",
       "      <td>2809.0</td>\n",
       "      <td>630.0</td>\n",
       "      <td>51.0</td>\n",
       "      <td>67.0</td>\n",
       "      <td>29 January 2008</td>\n",
       "      <td>12 January 2018</td>\n",
       "      <td>chronic</td>\n",
       "      <td>NaN</td>\n",
       "    </tr>\n",
       "    <tr>\n",
       "      <th>2</th>\n",
       "      <td>363.0</td>\n",
       "      <td>Ruby</td>\n",
       "      <td>Audited (formerly acts_as_audited) is an ORM e...</td>\n",
       "      <td>761.0</td>\n",
       "      <td>2077.0</td>\n",
       "      <td>668.0</td>\n",
       "      <td>84.0</td>\n",
       "      <td>100.0</td>\n",
       "      <td>09 February 2008</td>\n",
       "      <td>14 March 2018</td>\n",
       "      <td>audited</td>\n",
       "      <td>NaN</td>\n",
       "    </tr>\n",
       "    <tr>\n",
       "      <th>3</th>\n",
       "      <td>507.0</td>\n",
       "      <td>Ruby</td>\n",
       "      <td>A Ruby interface to the Twitter API.</td>\n",
       "      <td>19823.0</td>\n",
       "      <td>4009.0</td>\n",
       "      <td>2595.0</td>\n",
       "      <td>160.0</td>\n",
       "      <td>180.0</td>\n",
       "      <td>14 February 2008</td>\n",
       "      <td>08 February 2018</td>\n",
       "      <td>twitter</td>\n",
       "      <td>NaN</td>\n",
       "    </tr>\n",
       "    <tr>\n",
       "      <th>4</th>\n",
       "      <td>1462.0</td>\n",
       "      <td>Ruby</td>\n",
       "      <td>Annotate Rails classes with schema and routes ...</td>\n",
       "      <td>1206.0</td>\n",
       "      <td>2877.0</td>\n",
       "      <td>829.0</td>\n",
       "      <td>153.0</td>\n",
       "      <td>183.0</td>\n",
       "      <td>27 February 2008</td>\n",
       "      <td>23 February 2018</td>\n",
       "      <td>annotate_models</td>\n",
       "      <td>NaN</td>\n",
       "    </tr>\n",
       "  </tbody>\n",
       "</table>\n",
       "</div>"
      ],
      "text/plain": [
       "   repo_id Primary Language  \\\n",
       "0      1.0             Ruby   \n",
       "1    144.0             Ruby   \n",
       "2    363.0             Ruby   \n",
       "3    507.0             Ruby   \n",
       "4   1462.0             Ruby   \n",
       "\n",
       "                                    Repo_description     size   stars  \\\n",
       "0  **Grit is no longer maintained. Check out libg...   7954.0  1877.0   \n",
       "1  Chronic is a pure Ruby natural language date p...    681.0  2809.0   \n",
       "2  Audited (formerly acts_as_audited) is an ORM e...    761.0  2077.0   \n",
       "3               A Ruby interface to the Twitter API.  19823.0  4009.0   \n",
       "4  Annotate Rails classes with schema and routes ...   1206.0  2877.0   \n",
       "\n",
       "   commits_count  contributors_count_without_anonymous  \\\n",
       "0          516.0                                  43.0   \n",
       "1          630.0                                  51.0   \n",
       "2          668.0                                  84.0   \n",
       "3         2595.0                                 160.0   \n",
       "4          829.0                                 153.0   \n",
       "\n",
       "   contributors_count_with_anonymous        created_at         pushed_at  \\\n",
       "0                               48.0   29 October 2007    03 August 2017   \n",
       "1                               67.0   29 January 2008   12 January 2018   \n",
       "2                              100.0  09 February 2008     14 March 2018   \n",
       "3                              180.0  14 February 2008  08 February 2018   \n",
       "4                              183.0  27 February 2008  23 February 2018   \n",
       "\n",
       "     repo/username  repo_link  \n",
       "0             grit        NaN  \n",
       "1          chronic        NaN  \n",
       "2          audited        NaN  \n",
       "3          twitter        NaN  \n",
       "4  annotate_models        NaN  "
      ]
     },
     "execution_count": 3,
     "metadata": {},
     "output_type": "execute_result"
    }
   ],
   "source": [
    "df.head(5)"
   ]
  },
  {
   "cell_type": "code",
   "execution_count": 4,
   "metadata": {},
   "outputs": [
    {
     "data": {
      "text/plain": [
       "['**Grit',\n",
       " 'is',\n",
       " 'no',\n",
       " 'longer',\n",
       " 'maintained.',\n",
       " 'Check',\n",
       " 'out',\n",
       " 'libgit2/rugged.**',\n",
       " 'Grit',\n",
       " 'gives',\n",
       " 'you',\n",
       " 'object',\n",
       " 'oriented',\n",
       " 'read/write',\n",
       " 'access',\n",
       " 'to',\n",
       " 'Git',\n",
       " 'repositories',\n",
       " 'via',\n",
       " 'Ruby.']"
      ]
     },
     "execution_count": 4,
     "metadata": {},
     "output_type": "execute_result"
    }
   ],
   "source": [
    "temp_df = df[df['repo_id']==1]\n",
    "test = temp_df['Repo_description'].str.split()\n",
    "test[0]"
   ]
  },
  {
   "cell_type": "code",
   "execution_count": 5,
   "metadata": {},
   "outputs": [
    {
     "name": "stdout",
     "output_type": "stream",
     "text": [
      "<class 'pandas.core.frame.DataFrame'>\n",
      "RangeIndex: 4598 entries, 0 to 4597\n",
      "Data columns (total 12 columns):\n",
      "repo_id                                 4597 non-null float64\n",
      "Primary Language                        4597 non-null object\n",
      "Repo_description                        4541 non-null object\n",
      "size                                    4597 non-null float64\n",
      "stars                                   4597 non-null float64\n",
      "commits_count                           4597 non-null float64\n",
      "contributors_count_without_anonymous    4597 non-null float64\n",
      "contributors_count_with_anonymous       4597 non-null float64\n",
      "created_at                              4597 non-null object\n",
      "pushed_at                               4597 non-null object\n",
      "repo/username                           4597 non-null object\n",
      "repo_link                               0 non-null float64\n",
      "dtypes: float64(7), object(5)\n",
      "memory usage: 431.1+ KB\n"
     ]
    }
   ],
   "source": [
    "df.info()"
   ]
  },
  {
   "cell_type": "code",
   "execution_count": 6,
   "metadata": {},
   "outputs": [
    {
     "data": {
      "text/plain": [
       "repo_id                                    1\n",
       "Primary Language                           1\n",
       "Repo_description                          57\n",
       "size                                       1\n",
       "stars                                      1\n",
       "commits_count                              1\n",
       "contributors_count_without_anonymous       1\n",
       "contributors_count_with_anonymous          1\n",
       "created_at                                 1\n",
       "pushed_at                                  1\n",
       "repo/username                              1\n",
       "repo_link                               4598\n",
       "dtype: int64"
      ]
     },
     "execution_count": 6,
     "metadata": {},
     "output_type": "execute_result"
    }
   ],
   "source": [
    "df.isnull().sum()"
   ]
  },
  {
   "cell_type": "code",
   "execution_count": 7,
   "metadata": {},
   "outputs": [
    {
     "data": {
      "text/plain": [
       "0    **Grit is no longer maintained. Check out libg...\n",
       "1    Chronic is a pure Ruby natural language date p...\n",
       "2    Audited (formerly acts_as_audited) is an ORM e...\n",
       "3                 A Ruby interface to the Twitter API.\n",
       "4    Annotate Rails classes with schema and routes ...\n",
       "Name: Repo_description, dtype: object"
      ]
     },
     "execution_count": 7,
     "metadata": {},
     "output_type": "execute_result"
    }
   ],
   "source": [
    "df['Repo_description'].head()"
   ]
  },
  {
   "cell_type": "code",
   "execution_count": 8,
   "metadata": {},
   "outputs": [
    {
     "data": {
      "text/plain": [
       "repo_id                                 float64\n",
       "Primary Language                         object\n",
       "Repo_description                         object\n",
       "size                                    float64\n",
       "stars                                   float64\n",
       "commits_count                           float64\n",
       "contributors_count_without_anonymous    float64\n",
       "contributors_count_with_anonymous       float64\n",
       "created_at                               object\n",
       "pushed_at                                object\n",
       "repo/username                            object\n",
       "repo_link                               float64\n",
       "dtype: object"
      ]
     },
     "execution_count": 8,
     "metadata": {},
     "output_type": "execute_result"
    }
   ],
   "source": [
    "df.dtypes"
   ]
  },
  {
   "cell_type": "code",
   "execution_count": 9,
   "metadata": {},
   "outputs": [
    {
     "data": {
      "text/plain": [
       "JavaScript     1330\n",
       "Java           1067\n",
       "Python          598\n",
       "Go              364\n",
       "Objective-C     326\n",
       "Swift           244\n",
       "PHP             198\n",
       "Ruby            168\n",
       "C#              133\n",
       "C++             101\n",
       "C                68\n",
       "Name: Primary Language, dtype: int64"
      ]
     },
     "execution_count": 9,
     "metadata": {},
     "output_type": "execute_result"
    }
   ],
   "source": [
    "df['Primary Language'].value_counts()"
   ]
  },
  {
   "cell_type": "code",
   "execution_count": 10,
   "metadata": {},
   "outputs": [
    {
     "data": {
      "text/html": [
       "<div>\n",
       "<style scoped>\n",
       "    .dataframe tbody tr th:only-of-type {\n",
       "        vertical-align: middle;\n",
       "    }\n",
       "\n",
       "    .dataframe tbody tr th {\n",
       "        vertical-align: top;\n",
       "    }\n",
       "\n",
       "    .dataframe thead th {\n",
       "        text-align: right;\n",
       "    }\n",
       "</style>\n",
       "<table border=\"1\" class=\"dataframe\">\n",
       "  <thead>\n",
       "    <tr style=\"text-align: right;\">\n",
       "      <th></th>\n",
       "      <th>repo_id</th>\n",
       "      <th>Primary Language</th>\n",
       "      <th>Repo_description</th>\n",
       "      <th>size</th>\n",
       "      <th>stars</th>\n",
       "      <th>commits_count</th>\n",
       "      <th>contributors_count_without_anonymous</th>\n",
       "      <th>contributors_count_with_anonymous</th>\n",
       "      <th>created_at</th>\n",
       "      <th>pushed_at</th>\n",
       "      <th>repo/username</th>\n",
       "      <th>repo_link</th>\n",
       "    </tr>\n",
       "  </thead>\n",
       "  <tbody>\n",
       "    <tr>\n",
       "      <th>0</th>\n",
       "      <td>1.0</td>\n",
       "      <td>Ruby</td>\n",
       "      <td>**Grit is no longer maintained. Check out libg...</td>\n",
       "      <td>7954.0</td>\n",
       "      <td>1877.0</td>\n",
       "      <td>516.0</td>\n",
       "      <td>43.0</td>\n",
       "      <td>48.0</td>\n",
       "      <td>29 October 2007</td>\n",
       "      <td>03 August 2017</td>\n",
       "      <td>grit</td>\n",
       "      <td>NaN</td>\n",
       "    </tr>\n",
       "    <tr>\n",
       "      <th>1</th>\n",
       "      <td>144.0</td>\n",
       "      <td>Ruby</td>\n",
       "      <td>Chronic is a pure Ruby natural language date p...</td>\n",
       "      <td>681.0</td>\n",
       "      <td>2809.0</td>\n",
       "      <td>630.0</td>\n",
       "      <td>51.0</td>\n",
       "      <td>67.0</td>\n",
       "      <td>29 January 2008</td>\n",
       "      <td>12 January 2018</td>\n",
       "      <td>chronic</td>\n",
       "      <td>NaN</td>\n",
       "    </tr>\n",
       "    <tr>\n",
       "      <th>2</th>\n",
       "      <td>363.0</td>\n",
       "      <td>Ruby</td>\n",
       "      <td>Audited (formerly acts_as_audited) is an ORM e...</td>\n",
       "      <td>761.0</td>\n",
       "      <td>2077.0</td>\n",
       "      <td>668.0</td>\n",
       "      <td>84.0</td>\n",
       "      <td>100.0</td>\n",
       "      <td>09 February 2008</td>\n",
       "      <td>14 March 2018</td>\n",
       "      <td>audited</td>\n",
       "      <td>NaN</td>\n",
       "    </tr>\n",
       "    <tr>\n",
       "      <th>3</th>\n",
       "      <td>507.0</td>\n",
       "      <td>Ruby</td>\n",
       "      <td>A Ruby interface to the Twitter API.</td>\n",
       "      <td>19823.0</td>\n",
       "      <td>4009.0</td>\n",
       "      <td>2595.0</td>\n",
       "      <td>160.0</td>\n",
       "      <td>180.0</td>\n",
       "      <td>14 February 2008</td>\n",
       "      <td>08 February 2018</td>\n",
       "      <td>twitter</td>\n",
       "      <td>NaN</td>\n",
       "    </tr>\n",
       "    <tr>\n",
       "      <th>4</th>\n",
       "      <td>1462.0</td>\n",
       "      <td>Ruby</td>\n",
       "      <td>Annotate Rails classes with schema and routes ...</td>\n",
       "      <td>1206.0</td>\n",
       "      <td>2877.0</td>\n",
       "      <td>829.0</td>\n",
       "      <td>153.0</td>\n",
       "      <td>183.0</td>\n",
       "      <td>27 February 2008</td>\n",
       "      <td>23 February 2018</td>\n",
       "      <td>annotate_models</td>\n",
       "      <td>NaN</td>\n",
       "    </tr>\n",
       "    <tr>\n",
       "      <th>5</th>\n",
       "      <td>1734.0</td>\n",
       "      <td>Ruby</td>\n",
       "      <td>AASM - State machines for Ruby classes (plain ...</td>\n",
       "      <td>1710.0</td>\n",
       "      <td>3197.0</td>\n",
       "      <td>1258.0</td>\n",
       "      <td>138.0</td>\n",
       "      <td>175.0</td>\n",
       "      <td>28 February 2008</td>\n",
       "      <td>14 February 2018</td>\n",
       "      <td>aasm/aasm</td>\n",
       "      <td>NaN</td>\n",
       "    </tr>\n",
       "    <tr>\n",
       "      <th>6</th>\n",
       "      <td>2727.0</td>\n",
       "      <td>Ruby</td>\n",
       "      <td>mini replacement for RMagick</td>\n",
       "      <td>3398.0</td>\n",
       "      <td>2186.0</td>\n",
       "      <td>668.0</td>\n",
       "      <td>80.0</td>\n",
       "      <td>89.0</td>\n",
       "      <td>06 March 2008</td>\n",
       "      <td>05 March 2018</td>\n",
       "      <td>minimagick</td>\n",
       "      <td>NaN</td>\n",
       "    </tr>\n",
       "    <tr>\n",
       "      <th>7</th>\n",
       "      <td>4828.0</td>\n",
       "      <td>Ruby</td>\n",
       "      <td>A tagging plugin for Rails applications that a...</td>\n",
       "      <td>1089.0</td>\n",
       "      <td>4204.0</td>\n",
       "      <td>1002.0</td>\n",
       "      <td>146.0</td>\n",
       "      <td>180.0</td>\n",
       "      <td>21 March 2008</td>\n",
       "      <td>08 February 2018</td>\n",
       "      <td>acts-as-taggable-on</td>\n",
       "      <td>NaN</td>\n",
       "    </tr>\n",
       "    <tr>\n",
       "      <th>8</th>\n",
       "      <td>5954.0</td>\n",
       "      <td>Ruby</td>\n",
       "      <td>Sequel: The Database Toolkit for Ruby</td>\n",
       "      <td>39963.0</td>\n",
       "      <td>3471.0</td>\n",
       "      <td>7105.0</td>\n",
       "      <td>249.0</td>\n",
       "      <td>309.0</td>\n",
       "      <td>31 March 2008</td>\n",
       "      <td>09 February 2018</td>\n",
       "      <td>jeremyevans/sequel</td>\n",
       "      <td>NaN</td>\n",
       "    </tr>\n",
       "    <tr>\n",
       "      <th>9</th>\n",
       "      <td>6040.0</td>\n",
       "      <td>C</td>\n",
       "      <td>Beanstalk is a simple, fast work queue.</td>\n",
       "      <td>1143.0</td>\n",
       "      <td>4359.0</td>\n",
       "      <td>710.0</td>\n",
       "      <td>42.0</td>\n",
       "      <td>53.0</td>\n",
       "      <td>31 March 2008</td>\n",
       "      <td>23 December 2017</td>\n",
       "      <td>beanstalkd</td>\n",
       "      <td>NaN</td>\n",
       "    </tr>\n",
       "    <tr>\n",
       "      <th>10</th>\n",
       "      <td>7050.0</td>\n",
       "      <td>Ruby</td>\n",
       "      <td>Fast, Nimble PDF Writer for Ruby</td>\n",
       "      <td>42405.0</td>\n",
       "      <td>3528.0</td>\n",
       "      <td>2958.0</td>\n",
       "      <td>125.0</td>\n",
       "      <td>168.0</td>\n",
       "      <td>04 April 2008</td>\n",
       "      <td>11 January 2018</td>\n",
       "      <td>prawn</td>\n",
       "      <td>NaN</td>\n",
       "    </tr>\n",
       "    <tr>\n",
       "      <th>11</th>\n",
       "      <td>7497.0</td>\n",
       "      <td>Ruby</td>\n",
       "      <td>A Rails form builder plugin with semantically ...</td>\n",
       "      <td>3751.0</td>\n",
       "      <td>5031.0</td>\n",
       "      <td>2461.0</td>\n",
       "      <td>176.0</td>\n",
       "      <td>218.0</td>\n",
       "      <td>07 April 2008</td>\n",
       "      <td>13 February 2018</td>\n",
       "      <td>formtastic</td>\n",
       "      <td>NaN</td>\n",
       "    </tr>\n",
       "    <tr>\n",
       "      <th>12</th>\n",
       "      <td>8393.0</td>\n",
       "      <td>Ruby</td>\n",
       "      <td>Easy file attachment management for ActiveRecord</td>\n",
       "      <td>3396.0</td>\n",
       "      <td>8870.0</td>\n",
       "      <td>1908.0</td>\n",
       "      <td>355.0</td>\n",
       "      <td>418.0</td>\n",
       "      <td>10 April 2008</td>\n",
       "      <td>13 February 2018</td>\n",
       "      <td>paperclip</td>\n",
       "      <td>NaN</td>\n",
       "    </tr>\n",
       "    <tr>\n",
       "      <th>13</th>\n",
       "      <td>15257.0</td>\n",
       "      <td>Ruby</td>\n",
       "      <td>Thor is a toolkit for building powerful comman...</td>\n",
       "      <td>2326.0</td>\n",
       "      <td>3960.0</td>\n",
       "      <td>1373.0</td>\n",
       "      <td>134.0</td>\n",
       "      <td>167.0</td>\n",
       "      <td>07 May 2008</td>\n",
       "      <td>06 February 2018</td>\n",
       "      <td>erikhuda/thor</td>\n",
       "      <td>NaN</td>\n",
       "    </tr>\n",
       "    <tr>\n",
       "      <th>14</th>\n",
       "      <td>31341.0</td>\n",
       "      <td>Ruby</td>\n",
       "      <td>Game written in Ruby for learning Ruby and art...</td>\n",
       "      <td>880.0</td>\n",
       "      <td>3460.0</td>\n",
       "      <td>221.0</td>\n",
       "      <td>6.0</td>\n",
       "      <td>8.0</td>\n",
       "      <td>04 July 2008</td>\n",
       "      <td>16 September 2016</td>\n",
       "      <td>ruby-warrior</td>\n",
       "      <td>NaN</td>\n",
       "    </tr>\n",
       "    <tr>\n",
       "      <th>15</th>\n",
       "      <td>34045.0</td>\n",
       "      <td>Objective-C</td>\n",
       "      <td>Easy to use CFNetwork wrapper for HTTP request...</td>\n",
       "      <td>7160.0</td>\n",
       "      <td>5797.0</td>\n",
       "      <td>822.0</td>\n",
       "      <td>49.0</td>\n",
       "      <td>65.0</td>\n",
       "      <td>14 July 2008</td>\n",
       "      <td>17 January 2018</td>\n",
       "      <td>asi-http-request</td>\n",
       "      <td>NaN</td>\n",
       "    </tr>\n",
       "    <tr>\n",
       "      <th>16</th>\n",
       "      <td>38867.0</td>\n",
       "      <td>Ruby</td>\n",
       "      <td>Repository for collecting Locale data for Ruby...</td>\n",
       "      <td>2311.0</td>\n",
       "      <td>3175.0</td>\n",
       "      <td>1665.0</td>\n",
       "      <td>385.0</td>\n",
       "      <td>469.0</td>\n",
       "      <td>31 July 2008</td>\n",
       "      <td>10 March 2018</td>\n",
       "      <td>rails-i18n</td>\n",
       "      <td>NaN</td>\n",
       "    </tr>\n",
       "    <tr>\n",
       "      <th>17</th>\n",
       "      <td>40407.0</td>\n",
       "      <td>Ruby</td>\n",
       "      <td>View components for Ruby and Rails.</td>\n",
       "      <td>1665.0</td>\n",
       "      <td>2858.0</td>\n",
       "      <td>1163.0</td>\n",
       "      <td>57.0</td>\n",
       "      <td>66.0</td>\n",
       "      <td>06 August 2008</td>\n",
       "      <td>27 February 2018</td>\n",
       "      <td>cells</td>\n",
       "      <td>NaN</td>\n",
       "    </tr>\n",
       "    <tr>\n",
       "      <th>18</th>\n",
       "      <td>48296.0</td>\n",
       "      <td>JavaScript</td>\n",
       "      <td>JavaScript Vector Library</td>\n",
       "      <td>5564.0</td>\n",
       "      <td>9531.0</td>\n",
       "      <td>462.0</td>\n",
       "      <td>33.0</td>\n",
       "      <td>43.0</td>\n",
       "      <td>02 September 2008</td>\n",
       "      <td>31 December 2017</td>\n",
       "      <td>DmitryBaranovskiy/raphael</td>\n",
       "      <td>NaN</td>\n",
       "    </tr>\n",
       "    <tr>\n",
       "      <th>19</th>\n",
       "      <td>53374.0</td>\n",
       "      <td>Ruby</td>\n",
       "      <td>Search Engine Optimization (SEO) for Ruby on R...</td>\n",
       "      <td>430.0</td>\n",
       "      <td>1960.0</td>\n",
       "      <td>291.0</td>\n",
       "      <td>40.0</td>\n",
       "      <td>46.0</td>\n",
       "      <td>17 September 2008</td>\n",
       "      <td>01 March 2018</td>\n",
       "      <td>meta-tags</td>\n",
       "      <td>NaN</td>\n",
       "    </tr>\n",
       "    <tr>\n",
       "      <th>20</th>\n",
       "      <td>56125.0</td>\n",
       "      <td>Ruby</td>\n",
       "      <td>Rails authentication with email &amp; password.</td>\n",
       "      <td>6408.0</td>\n",
       "      <td>2834.0</td>\n",
       "      <td>1233.0</td>\n",
       "      <td>111.0</td>\n",
       "      <td>139.0</td>\n",
       "      <td>24 September 2008</td>\n",
       "      <td>09 March 2018</td>\n",
       "      <td>clearance</td>\n",
       "      <td>NaN</td>\n",
       "    </tr>\n",
       "    <tr>\n",
       "      <th>21</th>\n",
       "      <td>57419.0</td>\n",
       "      <td>Python</td>\n",
       "      <td>web.py is a web framework for python that is a...</td>\n",
       "      <td>1073.0</td>\n",
       "      <td>4725.0</td>\n",
       "      <td>805.0</td>\n",
       "      <td>44.0</td>\n",
       "      <td>55.0</td>\n",
       "      <td>29 September 2008</td>\n",
       "      <td>05 February 2018</td>\n",
       "      <td>webpy</td>\n",
       "      <td>NaN</td>\n",
       "    </tr>\n",
       "    <tr>\n",
       "      <th>22</th>\n",
       "      <td>63557.0</td>\n",
       "      <td>JavaScript</td>\n",
       "      <td>A jQuery plugin that adds cross-browser mouse ...</td>\n",
       "      <td>245.0</td>\n",
       "      <td>3578.0</td>\n",
       "      <td>151.0</td>\n",
       "      <td>11.0</td>\n",
       "      <td>12.0</td>\n",
       "      <td>16 October 2008</td>\n",
       "      <td>21 January 2017</td>\n",
       "      <td>jquery-mousewheel</td>\n",
       "      <td>NaN</td>\n",
       "    </tr>\n",
       "    <tr>\n",
       "      <th>23</th>\n",
       "      <td>72991.0</td>\n",
       "      <td>Ruby</td>\n",
       "      <td>A gem providing \"time travel\", \"time freezing\"...</td>\n",
       "      <td>295.0</td>\n",
       "      <td>2571.0</td>\n",
       "      <td>342.0</td>\n",
       "      <td>47.0</td>\n",
       "      <td>57.0</td>\n",
       "      <td>07 November 2008</td>\n",
       "      <td>12 March 2018</td>\n",
       "      <td>timecop</td>\n",
       "      <td>NaN</td>\n",
       "    </tr>\n",
       "    <tr>\n",
       "      <th>24</th>\n",
       "      <td>79352.0</td>\n",
       "      <td>Ruby</td>\n",
       "      <td>A Really Ruby Mail Library</td>\n",
       "      <td>5776.0</td>\n",
       "      <td>2861.0</td>\n",
       "      <td>1786.0</td>\n",
       "      <td>192.0</td>\n",
       "      <td>233.0</td>\n",
       "      <td>22 November 2008</td>\n",
       "      <td>07 March 2018</td>\n",
       "      <td>mail</td>\n",
       "      <td>NaN</td>\n",
       "    </tr>\n",
       "    <tr>\n",
       "      <th>25</th>\n",
       "      <td>84009.0</td>\n",
       "      <td>JavaScript</td>\n",
       "      <td>Simple JavaScript testing framework for browse...</td>\n",
       "      <td>8256.0</td>\n",
       "      <td>13274.0</td>\n",
       "      <td>1814.0</td>\n",
       "      <td>166.0</td>\n",
       "      <td>270.0</td>\n",
       "      <td>02 December 2008</td>\n",
       "      <td>16 February 2018</td>\n",
       "      <td>jasmine</td>\n",
       "      <td>NaN</td>\n",
       "    </tr>\n",
       "    <tr>\n",
       "      <th>26</th>\n",
       "      <td>85670.0</td>\n",
       "      <td>JavaScript</td>\n",
       "      <td>A library for building richly interactive web ...</td>\n",
       "      <td>264521.0</td>\n",
       "      <td>3721.0</td>\n",
       "      <td>25381.0</td>\n",
       "      <td>138.0</td>\n",
       "      <td>207.0</td>\n",
       "      <td>05 December 2008</td>\n",
       "      <td>21 August 2017</td>\n",
       "      <td>yui3</td>\n",
       "      <td>NaN</td>\n",
       "    </tr>\n",
       "    <tr>\n",
       "      <th>27</th>\n",
       "      <td>85953.0</td>\n",
       "      <td>C#</td>\n",
       "      <td>Git Extensions is a standalone UI tool for man...</td>\n",
       "      <td>71400.0</td>\n",
       "      <td>2642.0</td>\n",
       "      <td>9466.0</td>\n",
       "      <td>237.0</td>\n",
       "      <td>335.0</td>\n",
       "      <td>06 December 2008</td>\n",
       "      <td>14 March 2018</td>\n",
       "      <td>gitextensions</td>\n",
       "      <td>NaN</td>\n",
       "    </tr>\n",
       "    <tr>\n",
       "      <th>28</th>\n",
       "      <td>90981.0</td>\n",
       "      <td>Python</td>\n",
       "      <td>Python Twitter API</td>\n",
       "      <td>606.0</td>\n",
       "      <td>2109.0</td>\n",
       "      <td>674.0</td>\n",
       "      <td>60.0</td>\n",
       "      <td>81.0</td>\n",
       "      <td>15 December 2008</td>\n",
       "      <td>28 January 2018</td>\n",
       "      <td>twitter</td>\n",
       "      <td>NaN</td>\n",
       "    </tr>\n",
       "    <tr>\n",
       "      <th>29</th>\n",
       "      <td>93580.0</td>\n",
       "      <td>PHP</td>\n",
       "      <td>Comprehensive mailing tools for PHP</td>\n",
       "      <td>8892.0</td>\n",
       "      <td>4290.0</td>\n",
       "      <td>1462.0</td>\n",
       "      <td>129.0</td>\n",
       "      <td>157.0</td>\n",
       "      <td>19 December 2008</td>\n",
       "      <td>11 March 2018</td>\n",
       "      <td>swiftmailer</td>\n",
       "      <td>NaN</td>\n",
       "    </tr>\n",
       "    <tr>\n",
       "      <th>...</th>\n",
       "      <td>...</td>\n",
       "      <td>...</td>\n",
       "      <td>...</td>\n",
       "      <td>...</td>\n",
       "      <td>...</td>\n",
       "      <td>...</td>\n",
       "      <td>...</td>\n",
       "      <td>...</td>\n",
       "      <td>...</td>\n",
       "      <td>...</td>\n",
       "      <td>...</td>\n",
       "      <td>...</td>\n",
       "    </tr>\n",
       "    <tr>\n",
       "      <th>4568</th>\n",
       "      <td>106452675.0</td>\n",
       "      <td>Swift</td>\n",
       "      <td>A project to create a blazingly fast Swift gam...</td>\n",
       "      <td>1348.0</td>\n",
       "      <td>1190.0</td>\n",
       "      <td>356.0</td>\n",
       "      <td>18.0</td>\n",
       "      <td>21.0</td>\n",
       "      <td>10 October 2017</td>\n",
       "      <td>11 March 2018</td>\n",
       "      <td>ImagineEngine</td>\n",
       "      <td>NaN</td>\n",
       "    </tr>\n",
       "    <tr>\n",
       "      <th>4569</th>\n",
       "      <td>106712243.0</td>\n",
       "      <td>Java</td>\n",
       "      <td>An blocking socket client for Android applicat...</td>\n",
       "      <td>1962.0</td>\n",
       "      <td>871.0</td>\n",
       "      <td>84.0</td>\n",
       "      <td>1.0</td>\n",
       "      <td>3.0</td>\n",
       "      <td>12 October 2017</td>\n",
       "      <td>06 March 2018</td>\n",
       "      <td>OkSocket</td>\n",
       "      <td>NaN</td>\n",
       "    </tr>\n",
       "    <tr>\n",
       "      <th>4570</th>\n",
       "      <td>107108009.0</td>\n",
       "      <td>JavaScript</td>\n",
       "      <td>?? Make Bots in Your Way, Fast and Flexibly</td>\n",
       "      <td>3884.0</td>\n",
       "      <td>2129.0</td>\n",
       "      <td>1347.0</td>\n",
       "      <td>16.0</td>\n",
       "      <td>16.0</td>\n",
       "      <td>16 October 2017</td>\n",
       "      <td>13 March 2018</td>\n",
       "      <td>bottender</td>\n",
       "      <td>NaN</td>\n",
       "    </tr>\n",
       "    <tr>\n",
       "      <th>4571</th>\n",
       "      <td>107154646.0</td>\n",
       "      <td>Go</td>\n",
       "      <td>Interactive prompt for command-line applications</td>\n",
       "      <td>61.0</td>\n",
       "      <td>2224.0</td>\n",
       "      <td>46.0</td>\n",
       "      <td>9.0</td>\n",
       "      <td>9.0</td>\n",
       "      <td>16 October 2017</td>\n",
       "      <td>08 March 2018</td>\n",
       "      <td>promptui</td>\n",
       "      <td>NaN</td>\n",
       "    </tr>\n",
       "    <tr>\n",
       "      <th>4572</th>\n",
       "      <td>108030927.0</td>\n",
       "      <td>Swift</td>\n",
       "      <td>Collection of advice on optimizing compile tim...</td>\n",
       "      <td>1152.0</td>\n",
       "      <td>2291.0</td>\n",
       "      <td>42.0</td>\n",
       "      <td>5.0</td>\n",
       "      <td>5.0</td>\n",
       "      <td>23 October 2017</td>\n",
       "      <td>11 December 2017</td>\n",
       "      <td>Optimizing-Swift-Build-Times</td>\n",
       "      <td>NaN</td>\n",
       "    </tr>\n",
       "    <tr>\n",
       "      <th>4573</th>\n",
       "      <td>108231108.0</td>\n",
       "      <td>JavaScript</td>\n",
       "      <td>? ? The finest NBA CLI.</td>\n",
       "      <td>223.0</td>\n",
       "      <td>2854.0</td>\n",
       "      <td>96.0</td>\n",
       "      <td>12.0</td>\n",
       "      <td>14.0</td>\n",
       "      <td>25 October 2017</td>\n",
       "      <td>10 March 2018</td>\n",
       "      <td>nba-go</td>\n",
       "      <td>NaN</td>\n",
       "    </tr>\n",
       "    <tr>\n",
       "      <th>4574</th>\n",
       "      <td>108395495.0</td>\n",
       "      <td>JavaScript</td>\n",
       "      <td>Simple, responsive, modern SVG Charts with zer...</td>\n",
       "      <td>3152.0</td>\n",
       "      <td>10567.0</td>\n",
       "      <td>200.0</td>\n",
       "      <td>16.0</td>\n",
       "      <td>17.0</td>\n",
       "      <td>26 October 2017</td>\n",
       "      <td>06 March 2018</td>\n",
       "      <td>charts</td>\n",
       "      <td>NaN</td>\n",
       "    </tr>\n",
       "    <tr>\n",
       "      <th>4575</th>\n",
       "      <td>108459727.0</td>\n",
       "      <td>Python</td>\n",
       "      <td>Source-to-Source Debuggable Derivatives in Pur...</td>\n",
       "      <td>25774.0</td>\n",
       "      <td>1578.0</td>\n",
       "      <td>63.0</td>\n",
       "      <td>11.0</td>\n",
       "      <td>12.0</td>\n",
       "      <td>26 October 2017</td>\n",
       "      <td>02 March 2018</td>\n",
       "      <td>tangent</td>\n",
       "      <td>NaN</td>\n",
       "    </tr>\n",
       "    <tr>\n",
       "      <th>4576</th>\n",
       "      <td>108524017.0</td>\n",
       "      <td>Python</td>\n",
       "      <td>Progressive Growing of GANs for Improved Quali...</td>\n",
       "      <td>326.0</td>\n",
       "      <td>2042.0</td>\n",
       "      <td>28.0</td>\n",
       "      <td>1.0</td>\n",
       "      <td>1.0</td>\n",
       "      <td>27 October 2017</td>\n",
       "      <td>02 March 2018</td>\n",
       "      <td>progressive_growing_of_gans</td>\n",
       "      <td>NaN</td>\n",
       "    </tr>\n",
       "    <tr>\n",
       "      <th>4577</th>\n",
       "      <td>108619300.0</td>\n",
       "      <td>Python</td>\n",
       "      <td>A Tensorflow implementation of CapsNet(Capsule...</td>\n",
       "      <td>1626.0</td>\n",
       "      <td>2535.0</td>\n",
       "      <td>147.0</td>\n",
       "      <td>8.0</td>\n",
       "      <td>10.0</td>\n",
       "      <td>28 October 2017</td>\n",
       "      <td>06 March 2018</td>\n",
       "      <td>CapsNet-Tensorflow</td>\n",
       "      <td>NaN</td>\n",
       "    </tr>\n",
       "    <tr>\n",
       "      <th>4578</th>\n",
       "      <td>108761645.0</td>\n",
       "      <td>JavaScript</td>\n",
       "      <td>:rocket: One command to generate REST APIs for...</td>\n",
       "      <td>843.0</td>\n",
       "      <td>1769.0</td>\n",
       "      <td>218.0</td>\n",
       "      <td>4.0</td>\n",
       "      <td>4.0</td>\n",
       "      <td>29 October 2017</td>\n",
       "      <td>26 February 2018</td>\n",
       "      <td>xmysql</td>\n",
       "      <td>NaN</td>\n",
       "    </tr>\n",
       "    <tr>\n",
       "      <th>4579</th>\n",
       "      <td>108827874.0</td>\n",
       "      <td>Python</td>\n",
       "      <td>A Keras implementation of CapsNet in NIPS2017 ...</td>\n",
       "      <td>1083.0</td>\n",
       "      <td>1453.0</td>\n",
       "      <td>40.0</td>\n",
       "      <td>3.0</td>\n",
       "      <td>3.0</td>\n",
       "      <td>30 October 2017</td>\n",
       "      <td>21 February 2018</td>\n",
       "      <td>CapsNet-Keras</td>\n",
       "      <td>NaN</td>\n",
       "    </tr>\n",
       "    <tr>\n",
       "      <th>4580</th>\n",
       "      <td>109064980.0</td>\n",
       "      <td>JavaScript</td>\n",
       "      <td>A CLI React performance optimization tool that...</td>\n",
       "      <td>731.0</td>\n",
       "      <td>1913.0</td>\n",
       "      <td>169.0</td>\n",
       "      <td>4.0</td>\n",
       "      <td>5.0</td>\n",
       "      <td>31 October 2017</td>\n",
       "      <td>07 December 2017</td>\n",
       "      <td>reactopt</td>\n",
       "      <td>NaN</td>\n",
       "    </tr>\n",
       "    <tr>\n",
       "      <th>4581</th>\n",
       "      <td>109878485.0</td>\n",
       "      <td>Swift</td>\n",
       "      <td>An elegant way to show users that something is...</td>\n",
       "      <td>2164.0</td>\n",
       "      <td>4035.0</td>\n",
       "      <td>105.0</td>\n",
       "      <td>3.0</td>\n",
       "      <td>8.0</td>\n",
       "      <td>07 November 2017</td>\n",
       "      <td>05 March 2018</td>\n",
       "      <td>SkeletonView</td>\n",
       "      <td>NaN</td>\n",
       "    </tr>\n",
       "    <tr>\n",
       "      <th>4582</th>\n",
       "      <td>110424613.0</td>\n",
       "      <td>JavaScript</td>\n",
       "      <td>Aims to be the biggest checklist of inclusive ...</td>\n",
       "      <td>94.0</td>\n",
       "      <td>2140.0</td>\n",
       "      <td>104.0</td>\n",
       "      <td>11.0</td>\n",
       "      <td>13.0</td>\n",
       "      <td>12 November 2017</td>\n",
       "      <td>30 January 2018</td>\n",
       "      <td>inclusive-design-checklist</td>\n",
       "      <td>NaN</td>\n",
       "    </tr>\n",
       "    <tr>\n",
       "      <th>4583</th>\n",
       "      <td>110947712.0</td>\n",
       "      <td>JavaScript</td>\n",
       "      <td>? Analyze website stack from the terminal  ?</td>\n",
       "      <td>96.0</td>\n",
       "      <td>1884.0</td>\n",
       "      <td>58.0</td>\n",
       "      <td>5.0</td>\n",
       "      <td>5.0</td>\n",
       "      <td>16 November 2017</td>\n",
       "      <td>13 March 2018</td>\n",
       "      <td>stacks-cli</td>\n",
       "      <td>NaN</td>\n",
       "    </tr>\n",
       "    <tr>\n",
       "      <th>4584</th>\n",
       "      <td>111359065.0</td>\n",
       "      <td>JavaScript</td>\n",
       "      <td>?  The cryptocurrency price tool on CLI. ?</td>\n",
       "      <td>233.0</td>\n",
       "      <td>1315.0</td>\n",
       "      <td>86.0</td>\n",
       "      <td>10.0</td>\n",
       "      <td>11.0</td>\n",
       "      <td>20 November 2017</td>\n",
       "      <td>22 February 2018</td>\n",
       "      <td>coinmon</td>\n",
       "      <td>NaN</td>\n",
       "    </tr>\n",
       "    <tr>\n",
       "      <th>4585</th>\n",
       "      <td>111614342.0</td>\n",
       "      <td>JavaScript</td>\n",
       "      <td>State management and more for turn based games.</td>\n",
       "      <td>2448.0</td>\n",
       "      <td>5953.0</td>\n",
       "      <td>431.0</td>\n",
       "      <td>21.0</td>\n",
       "      <td>21.0</td>\n",
       "      <td>21 November 2017</td>\n",
       "      <td>15 March 2018</td>\n",
       "      <td>boardgame.io</td>\n",
       "      <td>NaN</td>\n",
       "    </tr>\n",
       "    <tr>\n",
       "      <th>4586</th>\n",
       "      <td>111756715.0</td>\n",
       "      <td>JavaScript</td>\n",
       "      <td>A simple and composable way  to validate data ...</td>\n",
       "      <td>1561.0</td>\n",
       "      <td>3129.0</td>\n",
       "      <td>203.0</td>\n",
       "      <td>14.0</td>\n",
       "      <td>14.0</td>\n",
       "      <td>23 November 2017</td>\n",
       "      <td>23 February 2018</td>\n",
       "      <td>superstruct</td>\n",
       "      <td>NaN</td>\n",
       "    </tr>\n",
       "    <tr>\n",
       "      <th>4587</th>\n",
       "      <td>112133243.0</td>\n",
       "      <td>Python</td>\n",
       "      <td>PyTorch Implementation of StarGAN - CVPR 2018</td>\n",
       "      <td>12054.0</td>\n",
       "      <td>2279.0</td>\n",
       "      <td>18.0</td>\n",
       "      <td>1.0</td>\n",
       "      <td>1.0</td>\n",
       "      <td>27 November 2017</td>\n",
       "      <td>01 March 2018</td>\n",
       "      <td>StarGAN</td>\n",
       "      <td>NaN</td>\n",
       "    </tr>\n",
       "    <tr>\n",
       "      <th>4588</th>\n",
       "      <td>112169994.0</td>\n",
       "      <td>Python</td>\n",
       "      <td>Every web site provides APIs.</td>\n",
       "      <td>1719.0</td>\n",
       "      <td>2380.0</td>\n",
       "      <td>456.0</td>\n",
       "      <td>7.0</td>\n",
       "      <td>10.0</td>\n",
       "      <td>27 November 2017</td>\n",
       "      <td>05 March 2018</td>\n",
       "      <td>toapi</td>\n",
       "      <td>NaN</td>\n",
       "    </tr>\n",
       "    <tr>\n",
       "      <th>4589</th>\n",
       "      <td>112507086.0</td>\n",
       "      <td>JavaScript</td>\n",
       "      <td>Curated collection of useful Javascript snippe...</td>\n",
       "      <td>6561.0</td>\n",
       "      <td>18955.0</td>\n",
       "      <td>2994.0</td>\n",
       "      <td>113.0</td>\n",
       "      <td>119.0</td>\n",
       "      <td>29 November 2017</td>\n",
       "      <td>14 March 2018</td>\n",
       "      <td>30-seconds-of-code</td>\n",
       "      <td>NaN</td>\n",
       "    </tr>\n",
       "    <tr>\n",
       "      <th>4590</th>\n",
       "      <td>112730541.0</td>\n",
       "      <td>Objective-C</td>\n",
       "      <td>In-app design review tool to inspect measureme...</td>\n",
       "      <td>43911.0</td>\n",
       "      <td>1369.0</td>\n",
       "      <td>79.0</td>\n",
       "      <td>8.0</td>\n",
       "      <td>8.0</td>\n",
       "      <td>01 December 2017</td>\n",
       "      <td>12 March 2018</td>\n",
       "      <td>Hyperion-iOS</td>\n",
       "      <td>NaN</td>\n",
       "    </tr>\n",
       "    <tr>\n",
       "      <th>4591</th>\n",
       "      <td>112770118.0</td>\n",
       "      <td>Java</td>\n",
       "      <td>AI on Hadoop</td>\n",
       "      <td>108123.0</td>\n",
       "      <td>1143.0</td>\n",
       "      <td>47.0</td>\n",
       "      <td>3.0</td>\n",
       "      <td>4.0</td>\n",
       "      <td>01 December 2017</td>\n",
       "      <td>13 March 2018</td>\n",
       "      <td>XLearning</td>\n",
       "      <td>NaN</td>\n",
       "    </tr>\n",
       "    <tr>\n",
       "      <th>4592</th>\n",
       "      <td>113065002.0</td>\n",
       "      <td>JavaScript</td>\n",
       "      <td>Pixel–perfect, native–looking typographic styl...</td>\n",
       "      <td>3744.0</td>\n",
       "      <td>1754.0</td>\n",
       "      <td>38.0</td>\n",
       "      <td>4.0</td>\n",
       "      <td>4.0</td>\n",
       "      <td>04 December 2017</td>\n",
       "      <td>29 January 2018</td>\n",
       "      <td>react-native-typography</td>\n",
       "      <td>NaN</td>\n",
       "    </tr>\n",
       "    <tr>\n",
       "      <th>4593</th>\n",
       "      <td>113351554.0</td>\n",
       "      <td>JavaScript</td>\n",
       "      <td>? 650b state container with component actions ...</td>\n",
       "      <td>99.0</td>\n",
       "      <td>1868.0</td>\n",
       "      <td>129.0</td>\n",
       "      <td>16.0</td>\n",
       "      <td>17.0</td>\n",
       "      <td>06 December 2017</td>\n",
       "      <td>05 March 2018</td>\n",
       "      <td>unistore</td>\n",
       "      <td>NaN</td>\n",
       "    </tr>\n",
       "    <tr>\n",
       "      <th>4594</th>\n",
       "      <td>113912360.0</td>\n",
       "      <td>JavaScript</td>\n",
       "      <td>? Zero-configuration bundler for tiny modules.</td>\n",
       "      <td>159.0</td>\n",
       "      <td>2004.0</td>\n",
       "      <td>166.0</td>\n",
       "      <td>23.0</td>\n",
       "      <td>25.0</td>\n",
       "      <td>11 December 2017</td>\n",
       "      <td>15 March 2018</td>\n",
       "      <td>microbundle</td>\n",
       "      <td>NaN</td>\n",
       "    </tr>\n",
       "    <tr>\n",
       "      <th>4595</th>\n",
       "      <td>113967646.0</td>\n",
       "      <td>C++</td>\n",
       "      <td>RetDec is a retargetable machine-code decompil...</td>\n",
       "      <td>5305.0</td>\n",
       "      <td>3698.0</td>\n",
       "      <td>346.0</td>\n",
       "      <td>10.0</td>\n",
       "      <td>11.0</td>\n",
       "      <td>12 December 2017</td>\n",
       "      <td>14 March 2018</td>\n",
       "      <td>retdec</td>\n",
       "      <td>NaN</td>\n",
       "    </tr>\n",
       "    <tr>\n",
       "      <th>4596</th>\n",
       "      <td>114781987.0</td>\n",
       "      <td>Go</td>\n",
       "      <td>Fireworq is a lightweight, high-performance, l...</td>\n",
       "      <td>167.0</td>\n",
       "      <td>1478.0</td>\n",
       "      <td>84.0</td>\n",
       "      <td>8.0</td>\n",
       "      <td>9.0</td>\n",
       "      <td>19 December 2017</td>\n",
       "      <td>18 February 2018</td>\n",
       "      <td>fireworq</td>\n",
       "      <td>NaN</td>\n",
       "    </tr>\n",
       "    <tr>\n",
       "      <th>4597</th>\n",
       "      <td>115675788.0</td>\n",
       "      <td>Python</td>\n",
       "      <td>python ?????????</td>\n",
       "      <td>26941.0</td>\n",
       "      <td>13595.0</td>\n",
       "      <td>324.0</td>\n",
       "      <td>65.0</td>\n",
       "      <td>69.0</td>\n",
       "      <td>29 December 2017</td>\n",
       "      <td>05 March 2018</td>\n",
       "      <td>wechat_jump_game</td>\n",
       "      <td>NaN</td>\n",
       "    </tr>\n",
       "  </tbody>\n",
       "</table>\n",
       "<p>4598 rows × 12 columns</p>\n",
       "</div>"
      ],
      "text/plain": [
       "          repo_id Primary Language  \\\n",
       "0             1.0             Ruby   \n",
       "1           144.0             Ruby   \n",
       "2           363.0             Ruby   \n",
       "3           507.0             Ruby   \n",
       "4          1462.0             Ruby   \n",
       "5          1734.0             Ruby   \n",
       "6          2727.0             Ruby   \n",
       "7          4828.0             Ruby   \n",
       "8          5954.0             Ruby   \n",
       "9          6040.0                C   \n",
       "10         7050.0             Ruby   \n",
       "11         7497.0             Ruby   \n",
       "12         8393.0             Ruby   \n",
       "13        15257.0             Ruby   \n",
       "14        31341.0             Ruby   \n",
       "15        34045.0      Objective-C   \n",
       "16        38867.0             Ruby   \n",
       "17        40407.0             Ruby   \n",
       "18        48296.0       JavaScript   \n",
       "19        53374.0             Ruby   \n",
       "20        56125.0             Ruby   \n",
       "21        57419.0           Python   \n",
       "22        63557.0       JavaScript   \n",
       "23        72991.0             Ruby   \n",
       "24        79352.0             Ruby   \n",
       "25        84009.0       JavaScript   \n",
       "26        85670.0       JavaScript   \n",
       "27        85953.0               C#   \n",
       "28        90981.0           Python   \n",
       "29        93580.0              PHP   \n",
       "...           ...              ...   \n",
       "4568  106452675.0            Swift   \n",
       "4569  106712243.0             Java   \n",
       "4570  107108009.0       JavaScript   \n",
       "4571  107154646.0               Go   \n",
       "4572  108030927.0            Swift   \n",
       "4573  108231108.0       JavaScript   \n",
       "4574  108395495.0       JavaScript   \n",
       "4575  108459727.0           Python   \n",
       "4576  108524017.0           Python   \n",
       "4577  108619300.0           Python   \n",
       "4578  108761645.0       JavaScript   \n",
       "4579  108827874.0           Python   \n",
       "4580  109064980.0       JavaScript   \n",
       "4581  109878485.0            Swift   \n",
       "4582  110424613.0       JavaScript   \n",
       "4583  110947712.0       JavaScript   \n",
       "4584  111359065.0       JavaScript   \n",
       "4585  111614342.0       JavaScript   \n",
       "4586  111756715.0       JavaScript   \n",
       "4587  112133243.0           Python   \n",
       "4588  112169994.0           Python   \n",
       "4589  112507086.0       JavaScript   \n",
       "4590  112730541.0      Objective-C   \n",
       "4591  112770118.0             Java   \n",
       "4592  113065002.0       JavaScript   \n",
       "4593  113351554.0       JavaScript   \n",
       "4594  113912360.0       JavaScript   \n",
       "4595  113967646.0              C++   \n",
       "4596  114781987.0               Go   \n",
       "4597  115675788.0           Python   \n",
       "\n",
       "                                       Repo_description      size    stars  \\\n",
       "0     **Grit is no longer maintained. Check out libg...    7954.0   1877.0   \n",
       "1     Chronic is a pure Ruby natural language date p...     681.0   2809.0   \n",
       "2     Audited (formerly acts_as_audited) is an ORM e...     761.0   2077.0   \n",
       "3                  A Ruby interface to the Twitter API.   19823.0   4009.0   \n",
       "4     Annotate Rails classes with schema and routes ...    1206.0   2877.0   \n",
       "5     AASM - State machines for Ruby classes (plain ...    1710.0   3197.0   \n",
       "6                          mini replacement for RMagick    3398.0   2186.0   \n",
       "7     A tagging plugin for Rails applications that a...    1089.0   4204.0   \n",
       "8                 Sequel: The Database Toolkit for Ruby   39963.0   3471.0   \n",
       "9               Beanstalk is a simple, fast work queue.    1143.0   4359.0   \n",
       "10                     Fast, Nimble PDF Writer for Ruby   42405.0   3528.0   \n",
       "11    A Rails form builder plugin with semantically ...    3751.0   5031.0   \n",
       "12     Easy file attachment management for ActiveRecord    3396.0   8870.0   \n",
       "13    Thor is a toolkit for building powerful comman...    2326.0   3960.0   \n",
       "14    Game written in Ruby for learning Ruby and art...     880.0   3460.0   \n",
       "15    Easy to use CFNetwork wrapper for HTTP request...    7160.0   5797.0   \n",
       "16    Repository for collecting Locale data for Ruby...    2311.0   3175.0   \n",
       "17                  View components for Ruby and Rails.    1665.0   2858.0   \n",
       "18                            JavaScript Vector Library    5564.0   9531.0   \n",
       "19    Search Engine Optimization (SEO) for Ruby on R...     430.0   1960.0   \n",
       "20          Rails authentication with email & password.    6408.0   2834.0   \n",
       "21    web.py is a web framework for python that is a...    1073.0   4725.0   \n",
       "22    A jQuery plugin that adds cross-browser mouse ...     245.0   3578.0   \n",
       "23    A gem providing \"time travel\", \"time freezing\"...     295.0   2571.0   \n",
       "24                           A Really Ruby Mail Library    5776.0   2861.0   \n",
       "25    Simple JavaScript testing framework for browse...    8256.0  13274.0   \n",
       "26    A library for building richly interactive web ...  264521.0   3721.0   \n",
       "27    Git Extensions is a standalone UI tool for man...   71400.0   2642.0   \n",
       "28                                   Python Twitter API     606.0   2109.0   \n",
       "29                  Comprehensive mailing tools for PHP    8892.0   4290.0   \n",
       "...                                                 ...       ...      ...   \n",
       "4568  A project to create a blazingly fast Swift gam...    1348.0   1190.0   \n",
       "4569  An blocking socket client for Android applicat...    1962.0    871.0   \n",
       "4570       ?? Make Bots in Your Way, Fast and Flexibly     3884.0   2129.0   \n",
       "4571   Interactive prompt for command-line applications      61.0   2224.0   \n",
       "4572  Collection of advice on optimizing compile tim...    1152.0   2291.0   \n",
       "4573                            ? ? The finest NBA CLI.     223.0   2854.0   \n",
       "4574  Simple, responsive, modern SVG Charts with zer...    3152.0  10567.0   \n",
       "4575  Source-to-Source Debuggable Derivatives in Pur...   25774.0   1578.0   \n",
       "4576  Progressive Growing of GANs for Improved Quali...     326.0   2042.0   \n",
       "4577  A Tensorflow implementation of CapsNet(Capsule...    1626.0   2535.0   \n",
       "4578  :rocket: One command to generate REST APIs for...     843.0   1769.0   \n",
       "4579  A Keras implementation of CapsNet in NIPS2017 ...    1083.0   1453.0   \n",
       "4580  A CLI React performance optimization tool that...     731.0   1913.0   \n",
       "4581  An elegant way to show users that something is...    2164.0   4035.0   \n",
       "4582  Aims to be the biggest checklist of inclusive ...      94.0   2140.0   \n",
       "4583      ? Analyze website stack from the terminal  ?       96.0   1884.0   \n",
       "4584         ?  The cryptocurrency price tool on CLI. ?     233.0   1315.0   \n",
       "4585    State management and more for turn based games.    2448.0   5953.0   \n",
       "4586  A simple and composable way  to validate data ...    1561.0   3129.0   \n",
       "4587      PyTorch Implementation of StarGAN - CVPR 2018   12054.0   2279.0   \n",
       "4588                      Every web site provides APIs.    1719.0   2380.0   \n",
       "4589  Curated collection of useful Javascript snippe...    6561.0  18955.0   \n",
       "4590  In-app design review tool to inspect measureme...   43911.0   1369.0   \n",
       "4591                                       AI on Hadoop  108123.0   1143.0   \n",
       "4592  Pixel–perfect, native–looking typographic styl...    3744.0   1754.0   \n",
       "4593  ? 650b state container with component actions ...      99.0   1868.0   \n",
       "4594     ? Zero-configuration bundler for tiny modules.     159.0   2004.0   \n",
       "4595  RetDec is a retargetable machine-code decompil...    5305.0   3698.0   \n",
       "4596  Fireworq is a lightweight, high-performance, l...     167.0   1478.0   \n",
       "4597                                   python ?????????   26941.0  13595.0   \n",
       "\n",
       "      commits_count  contributors_count_without_anonymous  \\\n",
       "0             516.0                                  43.0   \n",
       "1             630.0                                  51.0   \n",
       "2             668.0                                  84.0   \n",
       "3            2595.0                                 160.0   \n",
       "4             829.0                                 153.0   \n",
       "5            1258.0                                 138.0   \n",
       "6             668.0                                  80.0   \n",
       "7            1002.0                                 146.0   \n",
       "8            7105.0                                 249.0   \n",
       "9             710.0                                  42.0   \n",
       "10           2958.0                                 125.0   \n",
       "11           2461.0                                 176.0   \n",
       "12           1908.0                                 355.0   \n",
       "13           1373.0                                 134.0   \n",
       "14            221.0                                   6.0   \n",
       "15            822.0                                  49.0   \n",
       "16           1665.0                                 385.0   \n",
       "17           1163.0                                  57.0   \n",
       "18            462.0                                  33.0   \n",
       "19            291.0                                  40.0   \n",
       "20           1233.0                                 111.0   \n",
       "21            805.0                                  44.0   \n",
       "22            151.0                                  11.0   \n",
       "23            342.0                                  47.0   \n",
       "24           1786.0                                 192.0   \n",
       "25           1814.0                                 166.0   \n",
       "26          25381.0                                 138.0   \n",
       "27           9466.0                                 237.0   \n",
       "28            674.0                                  60.0   \n",
       "29           1462.0                                 129.0   \n",
       "...             ...                                   ...   \n",
       "4568          356.0                                  18.0   \n",
       "4569           84.0                                   1.0   \n",
       "4570         1347.0                                  16.0   \n",
       "4571           46.0                                   9.0   \n",
       "4572           42.0                                   5.0   \n",
       "4573           96.0                                  12.0   \n",
       "4574          200.0                                  16.0   \n",
       "4575           63.0                                  11.0   \n",
       "4576           28.0                                   1.0   \n",
       "4577          147.0                                   8.0   \n",
       "4578          218.0                                   4.0   \n",
       "4579           40.0                                   3.0   \n",
       "4580          169.0                                   4.0   \n",
       "4581          105.0                                   3.0   \n",
       "4582          104.0                                  11.0   \n",
       "4583           58.0                                   5.0   \n",
       "4584           86.0                                  10.0   \n",
       "4585          431.0                                  21.0   \n",
       "4586          203.0                                  14.0   \n",
       "4587           18.0                                   1.0   \n",
       "4588          456.0                                   7.0   \n",
       "4589         2994.0                                 113.0   \n",
       "4590           79.0                                   8.0   \n",
       "4591           47.0                                   3.0   \n",
       "4592           38.0                                   4.0   \n",
       "4593          129.0                                  16.0   \n",
       "4594          166.0                                  23.0   \n",
       "4595          346.0                                  10.0   \n",
       "4596           84.0                                   8.0   \n",
       "4597          324.0                                  65.0   \n",
       "\n",
       "      contributors_count_with_anonymous         created_at          pushed_at  \\\n",
       "0                                  48.0    29 October 2007     03 August 2017   \n",
       "1                                  67.0    29 January 2008    12 January 2018   \n",
       "2                                 100.0   09 February 2008      14 March 2018   \n",
       "3                                 180.0   14 February 2008   08 February 2018   \n",
       "4                                 183.0   27 February 2008   23 February 2018   \n",
       "5                                 175.0   28 February 2008   14 February 2018   \n",
       "6                                  89.0      06 March 2008      05 March 2018   \n",
       "7                                 180.0      21 March 2008   08 February 2018   \n",
       "8                                 309.0      31 March 2008   09 February 2018   \n",
       "9                                  53.0      31 March 2008   23 December 2017   \n",
       "10                                168.0      04 April 2008    11 January 2018   \n",
       "11                                218.0      07 April 2008   13 February 2018   \n",
       "12                                418.0      10 April 2008   13 February 2018   \n",
       "13                                167.0        07 May 2008   06 February 2018   \n",
       "14                                  8.0       04 July 2008  16 September 2016   \n",
       "15                                 65.0       14 July 2008    17 January 2018   \n",
       "16                                469.0       31 July 2008      10 March 2018   \n",
       "17                                 66.0     06 August 2008   27 February 2018   \n",
       "18                                 43.0  02 September 2008   31 December 2017   \n",
       "19                                 46.0  17 September 2008      01 March 2018   \n",
       "20                                139.0  24 September 2008      09 March 2018   \n",
       "21                                 55.0  29 September 2008   05 February 2018   \n",
       "22                                 12.0    16 October 2008    21 January 2017   \n",
       "23                                 57.0   07 November 2008      12 March 2018   \n",
       "24                                233.0   22 November 2008      07 March 2018   \n",
       "25                                270.0   02 December 2008   16 February 2018   \n",
       "26                                207.0   05 December 2008     21 August 2017   \n",
       "27                                335.0   06 December 2008      14 March 2018   \n",
       "28                                 81.0   15 December 2008    28 January 2018   \n",
       "29                                157.0   19 December 2008      11 March 2018   \n",
       "...                                 ...                ...                ...   \n",
       "4568                               21.0    10 October 2017      11 March 2018   \n",
       "4569                                3.0    12 October 2017      06 March 2018   \n",
       "4570                               16.0    16 October 2017      13 March 2018   \n",
       "4571                                9.0    16 October 2017      08 March 2018   \n",
       "4572                                5.0    23 October 2017   11 December 2017   \n",
       "4573                               14.0    25 October 2017      10 March 2018   \n",
       "4574                               17.0    26 October 2017      06 March 2018   \n",
       "4575                               12.0    26 October 2017      02 March 2018   \n",
       "4576                                1.0    27 October 2017      02 March 2018   \n",
       "4577                               10.0    28 October 2017      06 March 2018   \n",
       "4578                                4.0    29 October 2017   26 February 2018   \n",
       "4579                                3.0    30 October 2017   21 February 2018   \n",
       "4580                                5.0    31 October 2017   07 December 2017   \n",
       "4581                                8.0   07 November 2017      05 March 2018   \n",
       "4582                               13.0   12 November 2017    30 January 2018   \n",
       "4583                                5.0   16 November 2017      13 March 2018   \n",
       "4584                               11.0   20 November 2017   22 February 2018   \n",
       "4585                               21.0   21 November 2017      15 March 2018   \n",
       "4586                               14.0   23 November 2017   23 February 2018   \n",
       "4587                                1.0   27 November 2017      01 March 2018   \n",
       "4588                               10.0   27 November 2017      05 March 2018   \n",
       "4589                              119.0   29 November 2017      14 March 2018   \n",
       "4590                                8.0   01 December 2017      12 March 2018   \n",
       "4591                                4.0   01 December 2017      13 March 2018   \n",
       "4592                                4.0   04 December 2017    29 January 2018   \n",
       "4593                               17.0   06 December 2017      05 March 2018   \n",
       "4594                               25.0   11 December 2017      15 March 2018   \n",
       "4595                               11.0   12 December 2017      14 March 2018   \n",
       "4596                                9.0   19 December 2017   18 February 2018   \n",
       "4597                               69.0   29 December 2017      05 March 2018   \n",
       "\n",
       "                     repo/username  repo_link  \n",
       "0                             grit        NaN  \n",
       "1                          chronic        NaN  \n",
       "2                          audited        NaN  \n",
       "3                          twitter        NaN  \n",
       "4                  annotate_models        NaN  \n",
       "5                        aasm/aasm        NaN  \n",
       "6                       minimagick        NaN  \n",
       "7              acts-as-taggable-on        NaN  \n",
       "8               jeremyevans/sequel        NaN  \n",
       "9                       beanstalkd        NaN  \n",
       "10                           prawn        NaN  \n",
       "11                      formtastic        NaN  \n",
       "12                       paperclip        NaN  \n",
       "13                   erikhuda/thor        NaN  \n",
       "14                    ruby-warrior        NaN  \n",
       "15                asi-http-request        NaN  \n",
       "16                      rails-i18n        NaN  \n",
       "17                           cells        NaN  \n",
       "18       DmitryBaranovskiy/raphael        NaN  \n",
       "19                       meta-tags        NaN  \n",
       "20                       clearance        NaN  \n",
       "21                           webpy        NaN  \n",
       "22               jquery-mousewheel        NaN  \n",
       "23                         timecop        NaN  \n",
       "24                            mail        NaN  \n",
       "25                         jasmine        NaN  \n",
       "26                            yui3        NaN  \n",
       "27                   gitextensions        NaN  \n",
       "28                         twitter        NaN  \n",
       "29                     swiftmailer        NaN  \n",
       "...                            ...        ...  \n",
       "4568                 ImagineEngine        NaN  \n",
       "4569                      OkSocket        NaN  \n",
       "4570                     bottender        NaN  \n",
       "4571                      promptui        NaN  \n",
       "4572  Optimizing-Swift-Build-Times        NaN  \n",
       "4573                        nba-go        NaN  \n",
       "4574                        charts        NaN  \n",
       "4575                       tangent        NaN  \n",
       "4576   progressive_growing_of_gans        NaN  \n",
       "4577            CapsNet-Tensorflow        NaN  \n",
       "4578                        xmysql        NaN  \n",
       "4579                 CapsNet-Keras        NaN  \n",
       "4580                      reactopt        NaN  \n",
       "4581                  SkeletonView        NaN  \n",
       "4582    inclusive-design-checklist        NaN  \n",
       "4583                    stacks-cli        NaN  \n",
       "4584                       coinmon        NaN  \n",
       "4585                  boardgame.io        NaN  \n",
       "4586                   superstruct        NaN  \n",
       "4587                       StarGAN        NaN  \n",
       "4588                         toapi        NaN  \n",
       "4589            30-seconds-of-code        NaN  \n",
       "4590                  Hyperion-iOS        NaN  \n",
       "4591                     XLearning        NaN  \n",
       "4592       react-native-typography        NaN  \n",
       "4593                      unistore        NaN  \n",
       "4594                   microbundle        NaN  \n",
       "4595                        retdec        NaN  \n",
       "4596                      fireworq        NaN  \n",
       "4597              wechat_jump_game        NaN  \n",
       "\n",
       "[4598 rows x 12 columns]"
      ]
     },
     "execution_count": 10,
     "metadata": {},
     "output_type": "execute_result"
    }
   ],
   "source": [
    "df "
   ]
  },
  {
   "cell_type": "code",
   "execution_count": 11,
   "metadata": {},
   "outputs": [
    {
     "data": {
      "text/plain": [
       "4598"
      ]
     },
     "execution_count": 11,
     "metadata": {},
     "output_type": "execute_result"
    }
   ],
   "source": [
    "df['repo_link'].isnull().count()"
   ]
  },
  {
   "cell_type": "markdown",
   "metadata": {},
   "source": [
    "#### All of repo_link int this data set is null. Therefore, I drop this column"
   ]
  },
  {
   "cell_type": "code",
   "execution_count": 12,
   "metadata": {},
   "outputs": [],
   "source": [
    "df = df.drop(['repo_link'], axis =1)"
   ]
  },
  {
   "cell_type": "code",
   "execution_count": 13,
   "metadata": {},
   "outputs": [
    {
     "data": {
      "text/html": [
       "<div>\n",
       "<style scoped>\n",
       "    .dataframe tbody tr th:only-of-type {\n",
       "        vertical-align: middle;\n",
       "    }\n",
       "\n",
       "    .dataframe tbody tr th {\n",
       "        vertical-align: top;\n",
       "    }\n",
       "\n",
       "    .dataframe thead th {\n",
       "        text-align: right;\n",
       "    }\n",
       "</style>\n",
       "<table border=\"1\" class=\"dataframe\">\n",
       "  <thead>\n",
       "    <tr style=\"text-align: right;\">\n",
       "      <th></th>\n",
       "      <th>repo_id</th>\n",
       "      <th>Primary Language</th>\n",
       "      <th>Repo_description</th>\n",
       "      <th>size</th>\n",
       "      <th>stars</th>\n",
       "      <th>commits_count</th>\n",
       "      <th>contributors_count_without_anonymous</th>\n",
       "      <th>contributors_count_with_anonymous</th>\n",
       "      <th>created_at</th>\n",
       "      <th>pushed_at</th>\n",
       "      <th>repo/username</th>\n",
       "    </tr>\n",
       "  </thead>\n",
       "  <tbody>\n",
       "    <tr>\n",
       "      <th>0</th>\n",
       "      <td>1.0</td>\n",
       "      <td>Ruby</td>\n",
       "      <td>**Grit is no longer maintained. Check out libg...</td>\n",
       "      <td>7954.0</td>\n",
       "      <td>1877.0</td>\n",
       "      <td>516.0</td>\n",
       "      <td>43.0</td>\n",
       "      <td>48.0</td>\n",
       "      <td>29 October 2007</td>\n",
       "      <td>03 August 2017</td>\n",
       "      <td>grit</td>\n",
       "    </tr>\n",
       "    <tr>\n",
       "      <th>1</th>\n",
       "      <td>144.0</td>\n",
       "      <td>Ruby</td>\n",
       "      <td>Chronic is a pure Ruby natural language date p...</td>\n",
       "      <td>681.0</td>\n",
       "      <td>2809.0</td>\n",
       "      <td>630.0</td>\n",
       "      <td>51.0</td>\n",
       "      <td>67.0</td>\n",
       "      <td>29 January 2008</td>\n",
       "      <td>12 January 2018</td>\n",
       "      <td>chronic</td>\n",
       "    </tr>\n",
       "    <tr>\n",
       "      <th>2</th>\n",
       "      <td>363.0</td>\n",
       "      <td>Ruby</td>\n",
       "      <td>Audited (formerly acts_as_audited) is an ORM e...</td>\n",
       "      <td>761.0</td>\n",
       "      <td>2077.0</td>\n",
       "      <td>668.0</td>\n",
       "      <td>84.0</td>\n",
       "      <td>100.0</td>\n",
       "      <td>09 February 2008</td>\n",
       "      <td>14 March 2018</td>\n",
       "      <td>audited</td>\n",
       "    </tr>\n",
       "    <tr>\n",
       "      <th>3</th>\n",
       "      <td>507.0</td>\n",
       "      <td>Ruby</td>\n",
       "      <td>A Ruby interface to the Twitter API.</td>\n",
       "      <td>19823.0</td>\n",
       "      <td>4009.0</td>\n",
       "      <td>2595.0</td>\n",
       "      <td>160.0</td>\n",
       "      <td>180.0</td>\n",
       "      <td>14 February 2008</td>\n",
       "      <td>08 February 2018</td>\n",
       "      <td>twitter</td>\n",
       "    </tr>\n",
       "    <tr>\n",
       "      <th>4</th>\n",
       "      <td>1462.0</td>\n",
       "      <td>Ruby</td>\n",
       "      <td>Annotate Rails classes with schema and routes ...</td>\n",
       "      <td>1206.0</td>\n",
       "      <td>2877.0</td>\n",
       "      <td>829.0</td>\n",
       "      <td>153.0</td>\n",
       "      <td>183.0</td>\n",
       "      <td>27 February 2008</td>\n",
       "      <td>23 February 2018</td>\n",
       "      <td>annotate_models</td>\n",
       "    </tr>\n",
       "  </tbody>\n",
       "</table>\n",
       "</div>"
      ],
      "text/plain": [
       "   repo_id Primary Language  \\\n",
       "0      1.0             Ruby   \n",
       "1    144.0             Ruby   \n",
       "2    363.0             Ruby   \n",
       "3    507.0             Ruby   \n",
       "4   1462.0             Ruby   \n",
       "\n",
       "                                    Repo_description     size   stars  \\\n",
       "0  **Grit is no longer maintained. Check out libg...   7954.0  1877.0   \n",
       "1  Chronic is a pure Ruby natural language date p...    681.0  2809.0   \n",
       "2  Audited (formerly acts_as_audited) is an ORM e...    761.0  2077.0   \n",
       "3               A Ruby interface to the Twitter API.  19823.0  4009.0   \n",
       "4  Annotate Rails classes with schema and routes ...   1206.0  2877.0   \n",
       "\n",
       "   commits_count  contributors_count_without_anonymous  \\\n",
       "0          516.0                                  43.0   \n",
       "1          630.0                                  51.0   \n",
       "2          668.0                                  84.0   \n",
       "3         2595.0                                 160.0   \n",
       "4          829.0                                 153.0   \n",
       "\n",
       "   contributors_count_with_anonymous        created_at         pushed_at  \\\n",
       "0                               48.0   29 October 2007    03 August 2017   \n",
       "1                               67.0   29 January 2008   12 January 2018   \n",
       "2                              100.0  09 February 2008     14 March 2018   \n",
       "3                              180.0  14 February 2008  08 February 2018   \n",
       "4                              183.0  27 February 2008  23 February 2018   \n",
       "\n",
       "     repo/username  \n",
       "0             grit  \n",
       "1          chronic  \n",
       "2          audited  \n",
       "3          twitter  \n",
       "4  annotate_models  "
      ]
     },
     "execution_count": 13,
     "metadata": {},
     "output_type": "execute_result"
    }
   ],
   "source": [
    "df.head()"
   ]
  },
  {
   "cell_type": "code",
   "execution_count": 14,
   "metadata": {},
   "outputs": [
    {
     "data": {
      "text/html": [
       "<div>\n",
       "<style scoped>\n",
       "    .dataframe tbody tr th:only-of-type {\n",
       "        vertical-align: middle;\n",
       "    }\n",
       "\n",
       "    .dataframe tbody tr th {\n",
       "        vertical-align: top;\n",
       "    }\n",
       "\n",
       "    .dataframe thead th {\n",
       "        text-align: right;\n",
       "    }\n",
       "</style>\n",
       "<table border=\"1\" class=\"dataframe\">\n",
       "  <thead>\n",
       "    <tr style=\"text-align: right;\">\n",
       "      <th></th>\n",
       "      <th>repo_id</th>\n",
       "      <th>size</th>\n",
       "      <th>stars</th>\n",
       "      <th>commits_count</th>\n",
       "      <th>contributors_count_without_anonymous</th>\n",
       "      <th>contributors_count_with_anonymous</th>\n",
       "    </tr>\n",
       "  </thead>\n",
       "  <tbody>\n",
       "    <tr>\n",
       "      <th>count</th>\n",
       "      <td>4.597000e+03</td>\n",
       "      <td>4.597000e+03</td>\n",
       "      <td>4597.000000</td>\n",
       "      <td>4.597000e+03</td>\n",
       "      <td>4597.000000</td>\n",
       "      <td>4597.000000</td>\n",
       "    </tr>\n",
       "    <tr>\n",
       "      <th>mean</th>\n",
       "      <td>3.298334e+07</td>\n",
       "      <td>2.129217e+04</td>\n",
       "      <td>2844.555580</td>\n",
       "      <td>6.536042e+05</td>\n",
       "      <td>36.934305</td>\n",
       "      <td>58.259735</td>\n",
       "    </tr>\n",
       "    <tr>\n",
       "      <th>std</th>\n",
       "      <td>2.737279e+07</td>\n",
       "      <td>9.018951e+04</td>\n",
       "      <td>3562.456159</td>\n",
       "      <td>2.554044e+07</td>\n",
       "      <td>61.202261</td>\n",
       "      <td>417.927731</td>\n",
       "    </tr>\n",
       "    <tr>\n",
       "      <th>min</th>\n",
       "      <td>1.000000e+00</td>\n",
       "      <td>7.000000e+00</td>\n",
       "      <td>0.000000</td>\n",
       "      <td>2.000000e+00</td>\n",
       "      <td>0.000000</td>\n",
       "      <td>1.000000</td>\n",
       "    </tr>\n",
       "    <tr>\n",
       "      <th>25%</th>\n",
       "      <td>9.418724e+06</td>\n",
       "      <td>6.440000e+02</td>\n",
       "      <td>1372.000000</td>\n",
       "      <td>9.500000e+01</td>\n",
       "      <td>6.000000</td>\n",
       "      <td>7.000000</td>\n",
       "    </tr>\n",
       "    <tr>\n",
       "      <th>50%</th>\n",
       "      <td>2.671022e+07</td>\n",
       "      <td>2.523000e+03</td>\n",
       "      <td>1938.000000</td>\n",
       "      <td>2.570000e+02</td>\n",
       "      <td>15.000000</td>\n",
       "      <td>18.000000</td>\n",
       "    </tr>\n",
       "    <tr>\n",
       "      <th>75%</th>\n",
       "      <td>4.993581e+07</td>\n",
       "      <td>1.138700e+04</td>\n",
       "      <td>3047.000000</td>\n",
       "      <td>7.620000e+02</td>\n",
       "      <td>40.000000</td>\n",
       "      <td>46.000000</td>\n",
       "    </tr>\n",
       "    <tr>\n",
       "      <th>max</th>\n",
       "      <td>1.156758e+08</td>\n",
       "      <td>1.818501e+06</td>\n",
       "      <td>72522.000000</td>\n",
       "      <td>1.000000e+09</td>\n",
       "      <td>489.000000</td>\n",
       "      <td>21111.000000</td>\n",
       "    </tr>\n",
       "  </tbody>\n",
       "</table>\n",
       "</div>"
      ],
      "text/plain": [
       "            repo_id          size         stars  commits_count  \\\n",
       "count  4.597000e+03  4.597000e+03   4597.000000   4.597000e+03   \n",
       "mean   3.298334e+07  2.129217e+04   2844.555580   6.536042e+05   \n",
       "std    2.737279e+07  9.018951e+04   3562.456159   2.554044e+07   \n",
       "min    1.000000e+00  7.000000e+00      0.000000   2.000000e+00   \n",
       "25%    9.418724e+06  6.440000e+02   1372.000000   9.500000e+01   \n",
       "50%    2.671022e+07  2.523000e+03   1938.000000   2.570000e+02   \n",
       "75%    4.993581e+07  1.138700e+04   3047.000000   7.620000e+02   \n",
       "max    1.156758e+08  1.818501e+06  72522.000000   1.000000e+09   \n",
       "\n",
       "       contributors_count_without_anonymous  contributors_count_with_anonymous  \n",
       "count                           4597.000000                        4597.000000  \n",
       "mean                              36.934305                          58.259735  \n",
       "std                               61.202261                         417.927731  \n",
       "min                                0.000000                           1.000000  \n",
       "25%                                6.000000                           7.000000  \n",
       "50%                               15.000000                          18.000000  \n",
       "75%                               40.000000                          46.000000  \n",
       "max                              489.000000                       21111.000000  "
      ]
     },
     "execution_count": 14,
     "metadata": {},
     "output_type": "execute_result"
    }
   ],
   "source": [
    "df.describe()"
   ]
  },
  {
   "cell_type": "markdown",
   "metadata": {},
   "source": [
    "## Clean the null values"
   ]
  },
  {
   "cell_type": "code",
   "execution_count": 15,
   "metadata": {},
   "outputs": [
    {
     "data": {
      "text/plain": [
       "repo_id                                  1\n",
       "Primary Language                         1\n",
       "Repo_description                        57\n",
       "size                                     1\n",
       "stars                                    1\n",
       "commits_count                            1\n",
       "contributors_count_without_anonymous     1\n",
       "contributors_count_with_anonymous        1\n",
       "created_at                               1\n",
       "pushed_at                                1\n",
       "repo/username                            1\n",
       "dtype: int64"
      ]
     },
     "execution_count": 15,
     "metadata": {},
     "output_type": "execute_result"
    }
   ],
   "source": [
    "df.isnull().sum()"
   ]
  },
  {
   "cell_type": "code",
   "execution_count": 16,
   "metadata": {},
   "outputs": [
    {
     "data": {
      "text/html": [
       "<div>\n",
       "<style scoped>\n",
       "    .dataframe tbody tr th:only-of-type {\n",
       "        vertical-align: middle;\n",
       "    }\n",
       "\n",
       "    .dataframe tbody tr th {\n",
       "        vertical-align: top;\n",
       "    }\n",
       "\n",
       "    .dataframe thead th {\n",
       "        text-align: right;\n",
       "    }\n",
       "</style>\n",
       "<table border=\"1\" class=\"dataframe\">\n",
       "  <thead>\n",
       "    <tr style=\"text-align: right;\">\n",
       "      <th></th>\n",
       "      <th>repo_id</th>\n",
       "      <th>Primary Language</th>\n",
       "      <th>Repo_description</th>\n",
       "      <th>size</th>\n",
       "      <th>stars</th>\n",
       "      <th>commits_count</th>\n",
       "      <th>contributors_count_without_anonymous</th>\n",
       "      <th>contributors_count_with_anonymous</th>\n",
       "      <th>created_at</th>\n",
       "      <th>pushed_at</th>\n",
       "      <th>repo/username</th>\n",
       "    </tr>\n",
       "  </thead>\n",
       "  <tbody>\n",
       "    <tr>\n",
       "      <th>1423</th>\n",
       "      <td>NaN</td>\n",
       "      <td>NaN</td>\n",
       "      <td>NaN</td>\n",
       "      <td>NaN</td>\n",
       "      <td>NaN</td>\n",
       "      <td>NaN</td>\n",
       "      <td>NaN</td>\n",
       "      <td>NaN</td>\n",
       "      <td>NaN</td>\n",
       "      <td>NaN</td>\n",
       "      <td>NaN</td>\n",
       "    </tr>\n",
       "  </tbody>\n",
       "</table>\n",
       "</div>"
      ],
      "text/plain": [
       "      repo_id Primary Language Repo_description  size  stars  commits_count  \\\n",
       "1423      NaN              NaN              NaN   NaN    NaN            NaN   \n",
       "\n",
       "      contributors_count_without_anonymous  contributors_count_with_anonymous  \\\n",
       "1423                                   NaN                                NaN   \n",
       "\n",
       "     created_at pushed_at repo/username  \n",
       "1423        NaN       NaN           NaN  "
      ]
     },
     "execution_count": 16,
     "metadata": {},
     "output_type": "execute_result"
    }
   ],
   "source": [
    "df[df[\"repo_id\"].isnull()]"
   ]
  },
  {
   "cell_type": "code",
   "execution_count": 17,
   "metadata": {},
   "outputs": [
    {
     "data": {
      "text/html": [
       "<div>\n",
       "<style scoped>\n",
       "    .dataframe tbody tr th:only-of-type {\n",
       "        vertical-align: middle;\n",
       "    }\n",
       "\n",
       "    .dataframe tbody tr th {\n",
       "        vertical-align: top;\n",
       "    }\n",
       "\n",
       "    .dataframe thead th {\n",
       "        text-align: right;\n",
       "    }\n",
       "</style>\n",
       "<table border=\"1\" class=\"dataframe\">\n",
       "  <thead>\n",
       "    <tr style=\"text-align: right;\">\n",
       "      <th></th>\n",
       "      <th>repo_id</th>\n",
       "      <th>Primary Language</th>\n",
       "      <th>Repo_description</th>\n",
       "      <th>size</th>\n",
       "      <th>stars</th>\n",
       "      <th>commits_count</th>\n",
       "      <th>contributors_count_without_anonymous</th>\n",
       "      <th>contributors_count_with_anonymous</th>\n",
       "      <th>created_at</th>\n",
       "      <th>pushed_at</th>\n",
       "      <th>repo/username</th>\n",
       "    </tr>\n",
       "  </thead>\n",
       "  <tbody>\n",
       "    <tr>\n",
       "      <th>1423</th>\n",
       "      <td>NaN</td>\n",
       "      <td>NaN</td>\n",
       "      <td>NaN</td>\n",
       "      <td>NaN</td>\n",
       "      <td>NaN</td>\n",
       "      <td>NaN</td>\n",
       "      <td>NaN</td>\n",
       "      <td>NaN</td>\n",
       "      <td>NaN</td>\n",
       "      <td>NaN</td>\n",
       "      <td>NaN</td>\n",
       "    </tr>\n",
       "  </tbody>\n",
       "</table>\n",
       "</div>"
      ],
      "text/plain": [
       "      repo_id Primary Language Repo_description  size  stars  commits_count  \\\n",
       "1423      NaN              NaN              NaN   NaN    NaN            NaN   \n",
       "\n",
       "      contributors_count_without_anonymous  contributors_count_with_anonymous  \\\n",
       "1423                                   NaN                                NaN   \n",
       "\n",
       "     created_at pushed_at repo/username  \n",
       "1423        NaN       NaN           NaN  "
      ]
     },
     "execution_count": 17,
     "metadata": {},
     "output_type": "execute_result"
    }
   ],
   "source": [
    "df[df[\"Primary Language\"].isnull()]"
   ]
  },
  {
   "cell_type": "code",
   "execution_count": 18,
   "metadata": {},
   "outputs": [
    {
     "name": "stdout",
     "output_type": "stream",
     "text": [
      "column name repo_id\n",
      "      repo_id Primary Language Repo_description  size  stars  commits_count  \\\n",
      "1423      NaN              NaN              NaN   NaN    NaN            NaN   \n",
      "\n",
      "      contributors_count_without_anonymous  contributors_count_with_anonymous  \\\n",
      "1423                                   NaN                                NaN   \n",
      "\n",
      "     created_at pushed_at repo/username  \n",
      "1423        NaN       NaN           NaN  \n",
      "===========================\n",
      "column name Primary Language\n",
      "      repo_id Primary Language Repo_description  size  stars  commits_count  \\\n",
      "1423      NaN              NaN              NaN   NaN    NaN            NaN   \n",
      "\n",
      "      contributors_count_without_anonymous  contributors_count_with_anonymous  \\\n",
      "1423                                   NaN                                NaN   \n",
      "\n",
      "     created_at pushed_at repo/username  \n",
      "1423        NaN       NaN           NaN  \n",
      "===========================\n",
      "column name Repo_description\n",
      "         repo_id Primary Language Repo_description      size   stars  \\\n",
      "68      241458.0           Python              NaN   13611.0  2458.0   \n",
      "118     506402.0       JavaScript              NaN     166.0  3318.0   \n",
      "155     679662.0       JavaScript              NaN     217.0  1872.0   \n",
      "506    2804438.0       JavaScript              NaN    1042.0  3346.0   \n",
      "571    3238349.0           Python              NaN     255.0  1787.0   \n",
      "572    3277842.0             Ruby              NaN   28635.0  1768.0   \n",
      "647    3911317.0             Java              NaN   18977.0  1870.0   \n",
      "802    5420051.0       JavaScript              NaN     341.0  2503.0   \n",
      "846    5840173.0           Python              NaN    1135.0  1388.0   \n",
      "983    7346126.0      Objective-C              NaN    2192.0  1068.0   \n",
      "1167   9696392.0      Objective-C              NaN    2966.0   912.0   \n",
      "1252  10917976.0             Java              NaN  524174.0  1502.0   \n",
      "1253  10929138.0      Objective-C              NaN     170.0  1251.0   \n",
      "1423         NaN              NaN              NaN       NaN     NaN   \n",
      "1483  13942024.0             Java              NaN     107.0  1327.0   \n",
      "1508  14281190.0             Java              NaN    6759.0  1337.0   \n",
      "1516  14416399.0      Objective-C              NaN    5710.0  1882.0   \n",
      "1611  15749269.0           Python              NaN   29575.0  1983.0   \n",
      "1671  16653581.0           Python              NaN     576.0  3029.0   \n",
      "1696  17199785.0      Objective-C              NaN    1721.0  1315.0   \n",
      "1879  20187636.0           Python              NaN     207.0  1499.0   \n",
      "1893  20341242.0       JavaScript              NaN   99941.0  1458.0   \n",
      "2086  23056580.0              PHP              NaN     260.0  2911.0   \n",
      "2253  25923208.0               Go              NaN    8539.0  3860.0   \n",
      "2257  25987947.0              PHP              NaN   13126.0  1245.0   \n",
      "2289  26492886.0             Java              NaN    4126.0  1005.0   \n",
      "2323  27277596.0             Java              NaN     281.0  1917.0   \n",
      "2330  27519800.0             Java              NaN    7132.0  3726.0   \n",
      "2524  31240384.0             Java              NaN     167.0  1660.0   \n",
      "2545  31617364.0            Swift              NaN    2422.0  2910.0   \n",
      "2653  33431398.0           Python              NaN    1506.0  1109.0   \n",
      "2663  33611821.0            Swift              NaN     287.0  2210.0   \n",
      "2693  34161476.0             Java              NaN    2924.0  1179.0   \n",
      "2736  35245982.0       JavaScript              NaN    5683.0  1735.0   \n",
      "2751  35555089.0               C#              NaN  483696.0  2471.0   \n",
      "2893  38441254.0           Python              NaN   10130.0  1960.0   \n",
      "2968  39815147.0             Java              NaN    7512.0  1700.0   \n",
      "3034  40798524.0             Java              NaN   42018.0  2319.0   \n",
      "3089  41879478.0      Objective-C              NaN   14077.0  1423.0   \n",
      "3095  42018308.0       JavaScript              NaN     226.0  1516.0   \n",
      "3244  45433811.0           Python              NaN  223473.0   886.0   \n",
      "3394  48560572.0           Python              NaN   14096.0  1764.0   \n",
      "3568  53037983.0              C++              NaN   40542.0  1828.0   \n",
      "3580  53449780.0             Java              NaN     344.0  1085.0   \n",
      "3652  55726144.0           Python              NaN      67.0  1356.0   \n",
      "3706  58001483.0              PHP              NaN   28256.0  1124.0   \n",
      "3925  65903301.0             Java              NaN     210.0  1671.0   \n",
      "3989  68132933.0              C++              NaN  116219.0  2644.0   \n",
      "4026  69709572.0           Python              NaN   43663.0  1276.0   \n",
      "4121  74171928.0           Python              NaN     118.0  2265.0   \n",
      "4133  74722666.0             Java              NaN    6319.0  1150.0   \n",
      "4184  77115049.0           Python              NaN    1929.0  1026.0   \n",
      "4200  77902132.0             Java              NaN    2380.0  1977.0   \n",
      "4248  79936381.0             Java              NaN    1045.0  1396.0   \n",
      "4258  80399758.0           Python              NaN    1824.0  1636.0   \n",
      "4322  84289270.0               Go              NaN    8798.0  1356.0   \n",
      "4506  98540438.0               C#              NaN    8013.0  1869.0   \n",
      "\n",
      "      commits_count  contributors_count_without_anonymous  \\\n",
      "68            992.0                                  32.0   \n",
      "118           240.0                                  39.0   \n",
      "155           187.0                                  28.0   \n",
      "506           988.0                                  84.0   \n",
      "571           139.0                                   9.0   \n",
      "572          1225.0                                  86.0   \n",
      "647          1048.0                                  49.0   \n",
      "802           110.0                                  30.0   \n",
      "846            10.0                                   3.0   \n",
      "983           118.0                                  17.0   \n",
      "1167          316.0                                   5.0   \n",
      "1252          256.0                                   3.0   \n",
      "1253            8.0                                   4.0   \n",
      "1423            NaN                                   NaN   \n",
      "1483           61.0                                   7.0   \n",
      "1508          751.0                                  24.0   \n",
      "1516          328.0                                  19.0   \n",
      "1611          923.0                                  77.0   \n",
      "1671          103.0                                   9.0   \n",
      "1696           30.0                                   3.0   \n",
      "1879          114.0                                   8.0   \n",
      "1893         1620.0                                  18.0   \n",
      "2086          405.0                                  76.0   \n",
      "2253          647.0                                  32.0   \n",
      "2257         4614.0                                  17.0   \n",
      "2289           64.0                                   3.0   \n",
      "2323           43.0                                   6.0   \n",
      "2330         2223.0                                  70.0   \n",
      "2524           28.0                                   5.0   \n",
      "2545         1587.0                                  31.0   \n",
      "2653         1114.0                                  31.0   \n",
      "2663           15.0                                   4.0   \n",
      "2693           20.0                                   1.0   \n",
      "2736         2441.0                                  26.0   \n",
      "2751          402.0                                  35.0   \n",
      "2893         1839.0                                  25.0   \n",
      "2968           36.0                                   4.0   \n",
      "3034           31.0                                   4.0   \n",
      "3089          422.0                                   3.0   \n",
      "3095          214.0                                   1.0   \n",
      "3244           68.0                                   7.0   \n",
      "3394          238.0                                   7.0   \n",
      "3568           57.0                                   1.0   \n",
      "3580           13.0                                   2.0   \n",
      "3652           54.0                                   4.0   \n",
      "3706          641.0                                  86.0   \n",
      "3925           35.0                                   8.0   \n",
      "3989           36.0                                   5.0   \n",
      "4026          229.0                                  79.0   \n",
      "4121          147.0                                  20.0   \n",
      "4133           24.0                                   1.0   \n",
      "4184           15.0                                   1.0   \n",
      "4200           40.0                                   6.0   \n",
      "4248         1980.0                                  38.0   \n",
      "4258           42.0                                   9.0   \n",
      "4322          201.0                                   5.0   \n",
      "4506          786.0                                  24.0   \n",
      "\n",
      "      contributors_count_with_anonymous         created_at          pushed_at  \\\n",
      "68                                 53.0       02 July 2009   17 December 2017   \n",
      "118                                54.0   07 February 2010   19 December 2017   \n",
      "155                                30.0        21 May 2010      08 March 2018   \n",
      "506                                93.0   18 November 2011   29 December 2017   \n",
      "571                                13.0    22 January 2012  12 September 2017   \n",
      "572                               103.0    26 January 2012      14 March 2018   \n",
      "647                                55.0      02 April 2012   10 February 2018   \n",
      "802                                33.0     14 August 2012    03 October 2017   \n",
      "846                                 4.0  17 September 2012      14 March 2016   \n",
      "983                                19.0   27 December 2012   22 December 2015   \n",
      "1167                                5.0      26 April 2013    11 October 2013   \n",
      "1252                                5.0       24 June 2013    20 January 2018   \n",
      "1253                                4.0       25 June 2013   29 December 2013   \n",
      "1423                                NaN                NaN                NaN   \n",
      "1483                                7.0    28 October 2013   03 February 2018   \n",
      "1508                               30.0   10 November 2013      11 March 2018   \n",
      "1516                               23.0   15 November 2013    10 January 2018   \n",
      "1611                               91.0    08 January 2014   02 February 2018   \n",
      "1671                               10.0   08 February 2014    01 October 2017   \n",
      "1696                                4.0   26 February 2014  13 September 2016   \n",
      "1879                                9.0        26 May 2014   12 February 2018   \n",
      "1893                               79.0        30 May 2014   21 February 2018   \n",
      "2086                               81.0     18 August 2014   12 December 2017   \n",
      "2253                               39.0    29 October 2014   03 February 2018   \n",
      "2257                               51.0    30 October 2014   12 February 2018   \n",
      "2289                                3.0   11 November 2014       18 June 2015   \n",
      "2323                                7.0   28 November 2014    31 January 2018   \n",
      "2330                               99.0   04 December 2014    31 January 2018   \n",
      "2524                                5.0   24 February 2015   09 February 2018   \n",
      "2545                               33.0      03 March 2015   11 February 2018   \n",
      "2653                               35.0      05 April 2015      08 March 2018   \n",
      "2663                                4.0      08 April 2015        30 May 2017   \n",
      "2693                                1.0      18 April 2015   22 November 2015   \n",
      "2736                               34.0        07 May 2015  23 September 2015   \n",
      "2751                               39.0        13 May 2015    03 January 2018   \n",
      "2893                               28.0       02 July 2015      14 March 2018   \n",
      "2968                                4.0       28 July 2015   30 December 2016   \n",
      "3034                                4.0     16 August 2015    29 January 2018   \n",
      "3089                                6.0  03 September 2015    08 January 2018   \n",
      "3095                                1.0  06 September 2015        24 May 2017   \n",
      "3244                               10.0   03 November 2015       17 July 2016   \n",
      "3394                               10.0   25 December 2015   21 December 2017   \n",
      "3568                                5.0      03 March 2016  11 September 2017   \n",
      "3580                                3.0      08 March 2016   21 February 2017   \n",
      "3652                                5.0      07 April 2016   06 November 2017   \n",
      "3706                               90.0        03 May 2016      10 March 2018   \n",
      "3925                                9.0     17 August 2016    12 October 2016   \n",
      "3989                                5.0  13 September 2016   27 December 2017   \n",
      "4026                               80.0  30 September 2016      15 March 2018   \n",
      "4121                               20.0   18 November 2016   22 November 2017   \n",
      "4133                                1.0   25 November 2016      03 March 2017   \n",
      "4184                                2.0   22 December 2016   26 February 2018   \n",
      "4200                                6.0    03 January 2017      08 March 2018   \n",
      "4248                               65.0    24 January 2017    18 January 2018   \n",
      "4258                               10.0    30 January 2017   21 February 2018   \n",
      "4322                                5.0      08 March 2017      04 March 2018   \n",
      "4506                               26.0       27 July 2017      14 March 2018   \n",
      "\n",
      "                                 repo/username  \n",
      "68                             pybrain/pybrain  \n",
      "118                            node-supervisor  \n",
      "155                             node-lru-cache  \n",
      "506                                  engine.io  \n",
      "571                              derv82/wifite  \n",
      "572                     google-api-ruby-client  \n",
      "647                     rovo89/XposedInstaller  \n",
      "802                          angular-http-auth  \n",
      "846                               anim_encoder  \n",
      "983                    HTAutocompleteTextField  \n",
      "1167                                  Upcoming  \n",
      "1252                                anonymouth  \n",
      "1253                                       DB5  \n",
      "1423                                       NaN  \n",
      "1483                             Java8InAction  \n",
      "1508                                   JCTools  \n",
      "1516                             CLImageEditor  \n",
      "1611           google/google-api-python-client  \n",
      "1671                        jmcarp/robobrowser  \n",
      "1696                           FRDLivelyButton  \n",
      "1879                                 algorithm  \n",
      "1893                                 chalktalk  \n",
      "2086                         laravel/socialite  \n",
      "2253                 Workiva/go-datastructures  \n",
      "2257                                    smarty  \n",
      "2289                          android-cube-app  \n",
      "2323                  AnderWeb/discreteSeekBar  \n",
      "2330                  MyCATApache/Mycat-Server  \n",
      "2524   googlesamples/android-testing-templates  \n",
      "2545           socketio/socket.io-client-swift  \n",
      "2653                                  pyethapp  \n",
      "2663                   inFullMobile/WobbleView  \n",
      "2693          saulmm/Curved-Fab-Reveal-Example  \n",
      "2736                             Famous/engine  \n",
      "2751          KeenSoftwareHouse/SpaceEngineers  \n",
      "2893                              auto-sklearn  \n",
      "2968  recruit-lifestyle/WaveSwipeRefreshLayout  \n",
      "3034         saulmm/CoordinatorBehaviorExample  \n",
      "3089                       Pluto-Y/iOS-Echarts  \n",
      "3095       robertsdionne/neural-network-papers  \n",
      "3244                    DeepLearningVideoGames  \n",
      "3394                           cemoody/lda2vec  \n",
      "3568                runner365/LiveVideoCoreSDK  \n",
      "3580                  android-ui-toolkit-demos  \n",
      "3652                         alex-sherman/deco  \n",
      "3706                                     valet  \n",
      "3925                              google/tiger  \n",
      "3989                 seetaface/SeetaFaceEngine  \n",
      "4026                                 tutorials  \n",
      "4121                              pypa/pipfile  \n",
      "4133                ModularizationArchitecture  \n",
      "4184                                  StackGAN  \n",
      "4200                       ShimmerRecyclerView  \n",
      "4248                                    volley  \n",
      "4258                            WassersteinGAN  \n",
      "4322                                    gonvim  \n",
      "4506                       shadowsocksr-csharp  \n",
      "===========================\n",
      "column name size\n",
      "      repo_id Primary Language Repo_description  size  stars  commits_count  \\\n",
      "1423      NaN              NaN              NaN   NaN    NaN            NaN   \n",
      "\n",
      "      contributors_count_without_anonymous  contributors_count_with_anonymous  \\\n",
      "1423                                   NaN                                NaN   \n",
      "\n",
      "     created_at pushed_at repo/username  \n",
      "1423        NaN       NaN           NaN  \n",
      "===========================\n",
      "column name stars\n",
      "      repo_id Primary Language Repo_description  size  stars  commits_count  \\\n",
      "1423      NaN              NaN              NaN   NaN    NaN            NaN   \n",
      "\n",
      "      contributors_count_without_anonymous  contributors_count_with_anonymous  \\\n",
      "1423                                   NaN                                NaN   \n",
      "\n",
      "     created_at pushed_at repo/username  \n",
      "1423        NaN       NaN           NaN  \n",
      "===========================\n",
      "column name commits_count\n",
      "      repo_id Primary Language Repo_description  size  stars  commits_count  \\\n",
      "1423      NaN              NaN              NaN   NaN    NaN            NaN   \n",
      "\n",
      "      contributors_count_without_anonymous  contributors_count_with_anonymous  \\\n",
      "1423                                   NaN                                NaN   \n",
      "\n",
      "     created_at pushed_at repo/username  \n",
      "1423        NaN       NaN           NaN  \n",
      "===========================\n",
      "column name contributors_count_without_anonymous\n",
      "      repo_id Primary Language Repo_description  size  stars  commits_count  \\\n",
      "1423      NaN              NaN              NaN   NaN    NaN            NaN   \n",
      "\n",
      "      contributors_count_without_anonymous  contributors_count_with_anonymous  \\\n",
      "1423                                   NaN                                NaN   \n",
      "\n",
      "     created_at pushed_at repo/username  \n",
      "1423        NaN       NaN           NaN  \n",
      "===========================\n",
      "column name contributors_count_with_anonymous\n",
      "      repo_id Primary Language Repo_description  size  stars  commits_count  \\\n",
      "1423      NaN              NaN              NaN   NaN    NaN            NaN   \n",
      "\n",
      "      contributors_count_without_anonymous  contributors_count_with_anonymous  \\\n",
      "1423                                   NaN                                NaN   \n",
      "\n",
      "     created_at pushed_at repo/username  \n",
      "1423        NaN       NaN           NaN  \n",
      "===========================\n",
      "column name created_at\n",
      "      repo_id Primary Language Repo_description  size  stars  commits_count  \\\n",
      "1423      NaN              NaN              NaN   NaN    NaN            NaN   \n",
      "\n",
      "      contributors_count_without_anonymous  contributors_count_with_anonymous  \\\n",
      "1423                                   NaN                                NaN   \n",
      "\n",
      "     created_at pushed_at repo/username  \n",
      "1423        NaN       NaN           NaN  \n",
      "===========================\n",
      "column name pushed_at\n",
      "      repo_id Primary Language Repo_description  size  stars  commits_count  \\\n",
      "1423      NaN              NaN              NaN   NaN    NaN            NaN   \n",
      "\n",
      "      contributors_count_without_anonymous  contributors_count_with_anonymous  \\\n",
      "1423                                   NaN                                NaN   \n",
      "\n",
      "     created_at pushed_at repo/username  \n",
      "1423        NaN       NaN           NaN  \n",
      "===========================\n",
      "column name repo/username\n",
      "      repo_id Primary Language Repo_description  size  stars  commits_count  \\\n",
      "1423      NaN              NaN              NaN   NaN    NaN            NaN   \n",
      "\n",
      "      contributors_count_without_anonymous  contributors_count_with_anonymous  \\\n",
      "1423                                   NaN                                NaN   \n",
      "\n",
      "     created_at pushed_at repo/username  \n",
      "1423        NaN       NaN           NaN  \n",
      "===========================\n"
     ]
    }
   ],
   "source": [
    "for column in df.columns:\n",
    "    print(\"column name\", column)\n",
    "    print(df[df[column].isnull()])\n",
    "    print(\"===========================\")"
   ]
  },
  {
   "cell_type": "markdown",
   "metadata": {},
   "source": [
    "#### In conclusion in this null, I show that all null is the same row, so I drop this row follow this row"
   ]
  },
  {
   "cell_type": "code",
   "execution_count": 19,
   "metadata": {},
   "outputs": [],
   "source": [
    "df['Repo_description'].fillna(\"no-description\", inplace = True)"
   ]
  },
  {
   "cell_type": "code",
   "execution_count": 20,
   "metadata": {},
   "outputs": [
    {
     "data": {
      "text/plain": [
       "repo_id                                 1\n",
       "Primary Language                        1\n",
       "Repo_description                        0\n",
       "size                                    1\n",
       "stars                                   1\n",
       "commits_count                           1\n",
       "contributors_count_without_anonymous    1\n",
       "contributors_count_with_anonymous       1\n",
       "created_at                              1\n",
       "pushed_at                               1\n",
       "repo/username                           1\n",
       "dtype: int64"
      ]
     },
     "execution_count": 20,
     "metadata": {},
     "output_type": "execute_result"
    }
   ],
   "source": [
    "df.isnull().sum()"
   ]
  },
  {
   "cell_type": "code",
   "execution_count": 21,
   "metadata": {},
   "outputs": [
    {
     "data": {
      "text/plain": [
       "repo_id                                 4597\n",
       "Primary Language                        4597\n",
       "Repo_description                        4598\n",
       "size                                    4597\n",
       "stars                                   4597\n",
       "commits_count                           4597\n",
       "contributors_count_without_anonymous    4597\n",
       "contributors_count_with_anonymous       4597\n",
       "created_at                              4597\n",
       "pushed_at                               4597\n",
       "repo/username                           4597\n",
       "dtype: int64"
      ]
     },
     "execution_count": 21,
     "metadata": {},
     "output_type": "execute_result"
    }
   ],
   "source": [
    "df.count()"
   ]
  },
  {
   "cell_type": "code",
   "execution_count": 22,
   "metadata": {},
   "outputs": [],
   "source": [
    "df = df.dropna()"
   ]
  },
  {
   "cell_type": "code",
   "execution_count": 23,
   "metadata": {},
   "outputs": [
    {
     "data": {
      "text/plain": [
       "repo_id                                 4597\n",
       "Primary Language                        4597\n",
       "Repo_description                        4597\n",
       "size                                    4597\n",
       "stars                                   4597\n",
       "commits_count                           4597\n",
       "contributors_count_without_anonymous    4597\n",
       "contributors_count_with_anonymous       4597\n",
       "created_at                              4597\n",
       "pushed_at                               4597\n",
       "repo/username                           4597\n",
       "dtype: int64"
      ]
     },
     "execution_count": 23,
     "metadata": {},
     "output_type": "execute_result"
    }
   ],
   "source": [
    "df.count()"
   ]
  },
  {
   "cell_type": "code",
   "execution_count": 24,
   "metadata": {},
   "outputs": [
    {
     "data": {
      "text/plain": [
       "repo_id                                 0\n",
       "Primary Language                        0\n",
       "Repo_description                        0\n",
       "size                                    0\n",
       "stars                                   0\n",
       "commits_count                           0\n",
       "contributors_count_without_anonymous    0\n",
       "contributors_count_with_anonymous       0\n",
       "created_at                              0\n",
       "pushed_at                               0\n",
       "repo/username                           0\n",
       "dtype: int64"
      ]
     },
     "execution_count": 24,
     "metadata": {},
     "output_type": "execute_result"
    }
   ],
   "source": [
    "df.isnull().sum()"
   ]
  },
  {
   "cell_type": "markdown",
   "metadata": {},
   "source": [
    "### Finish data clean"
   ]
  },
  {
   "cell_type": "markdown",
   "metadata": {},
   "source": [
    "## Visualize the data to find some relation"
   ]
  },
  {
   "cell_type": "markdown",
   "metadata": {},
   "source": [
    "Test rotate file"
   ]
  },
  {
   "cell_type": "code",
   "execution_count": 25,
   "metadata": {},
   "outputs": [
    {
     "name": "stdout",
     "output_type": "stream",
     "text": [
      "test from mac\n"
     ]
    }
   ],
   "source": [
    "print(\"test from mac\")"
   ]
  },
  {
   "cell_type": "code",
   "execution_count": 26,
   "metadata": {},
   "outputs": [
    {
     "data": {
      "text/plain": [
       "Go              364\n",
       "Java           1067\n",
       "PHP             198\n",
       "Python          598\n",
       "JavaScript     1330\n",
       "C++             101\n",
       "Ruby            168\n",
       "C                68\n",
       "Swift           244\n",
       "Objective-C     326\n",
       "C#              133\n",
       "dtype: int64"
      ]
     },
     "execution_count": 26,
     "metadata": {},
     "output_type": "execute_result"
    }
   ],
   "source": [
    "pd.value_counts(df['Primary Language'].values, sort=False)"
   ]
  },
  {
   "cell_type": "code",
   "execution_count": 27,
   "metadata": {},
   "outputs": [],
   "source": [
    "from sklearn.preprocessing import LabelEncoder"
   ]
  },
  {
   "cell_type": "code",
   "execution_count": 28,
   "metadata": {},
   "outputs": [],
   "source": [
    "le_encoders = {}\n",
    "le = LabelEncoder()    \n",
    "le_encoders['Primary Language'] = le\n",
    "df['Primary Language'] = le.fit_transform(df['Primary Language'])"
   ]
  },
  {
   "cell_type": "code",
   "execution_count": 29,
   "metadata": {
    "scrolled": true
   },
   "outputs": [
    {
     "data": {
      "text/plain": [
       "0       68\n",
       "4     1067\n",
       "8      598\n",
       "1      133\n",
       "5     1330\n",
       "9      168\n",
       "2      101\n",
       "6      326\n",
       "10     244\n",
       "3      364\n",
       "7      198\n",
       "dtype: int64"
      ]
     },
     "execution_count": 29,
     "metadata": {},
     "output_type": "execute_result"
    }
   ],
   "source": [
    "pd.value_counts(df['Primary Language'].values, sort=False)"
   ]
  },
  {
   "cell_type": "markdown",
   "metadata": {},
   "source": [
    "Conclude number instead language<br>\n",
    "0 -> C<br>\n",
    "1 -> C#<br>\n",
    "2 -> C++<br>\n",
    "3 -> GO<br>\n",
    "4 -> Java<br>\n",
    "5 -> Java Script<br>\n",
    "6 -> Objective C<br>\n",
    "7 -> PHP<br>\n",
    "8 -> Python<br>\n",
    "9 -> Ruby<br>\n",
    "10 -> Swift"
   ]
  },
  {
   "cell_type": "code",
   "execution_count": 30,
   "metadata": {},
   "outputs": [
    {
     "data": {
      "text/plain": [
       "repo_id                                 float64\n",
       "Primary Language                          int64\n",
       "Repo_description                         object\n",
       "size                                    float64\n",
       "stars                                   float64\n",
       "commits_count                           float64\n",
       "contributors_count_without_anonymous    float64\n",
       "contributors_count_with_anonymous       float64\n",
       "created_at                               object\n",
       "pushed_at                                object\n",
       "repo/username                            object\n",
       "dtype: object"
      ]
     },
     "execution_count": 30,
     "metadata": {},
     "output_type": "execute_result"
    }
   ],
   "source": [
    "df.dtypes"
   ]
  },
  {
   "cell_type": "code",
   "execution_count": 31,
   "metadata": {},
   "outputs": [],
   "source": [
    "import seaborn as sns\n",
    "import numpy as np\n",
    "%matplotlib inline\n",
    "import matplotlib.pyplot as plt"
   ]
  },
  {
   "cell_type": "code",
   "execution_count": 32,
   "metadata": {},
   "outputs": [
    {
     "data": {
      "text/plain": [
       "<matplotlib.axes._subplots.AxesSubplot at 0x11ac92080>"
      ]
     },
     "execution_count": 32,
     "metadata": {},
     "output_type": "execute_result"
    },
    {
     "data": {
      "image/png": "[encoded data removed]",
      "text/plain": [
       "<Figure size 720x576 with 2 Axes>"
      ]
     },
     "metadata": {
      "needs_background": "light"
     },
     "output_type": "display_data"
    }
   ],
   "source": [
    "fi, axis = plt.subplots(figsize=(10, 8))\n",
    "corr = df.corr()\n",
    "sns.heatmap(corr, mask=np.zeros_like(corr, dtype=np.bool), cmap=sns.diverging_palette(200,10,as_cmap=True), \n",
    "           square=True, ax=axis)"
   ]
  },
  {
   "cell_type": "code",
   "execution_count": 33,
   "metadata": {},
   "outputs": [
    {
     "data": {
      "text/html": [
       "<div>\n",
       "<style scoped>\n",
       "    .dataframe tbody tr th:only-of-type {\n",
       "        vertical-align: middle;\n",
       "    }\n",
       "\n",
       "    .dataframe tbody tr th {\n",
       "        vertical-align: top;\n",
       "    }\n",
       "\n",
       "    .dataframe thead th {\n",
       "        text-align: right;\n",
       "    }\n",
       "</style>\n",
       "<table border=\"1\" class=\"dataframe\">\n",
       "  <thead>\n",
       "    <tr style=\"text-align: right;\">\n",
       "      <th></th>\n",
       "      <th>repo_id</th>\n",
       "      <th>Primary Language</th>\n",
       "      <th>Repo_description</th>\n",
       "      <th>size</th>\n",
       "      <th>stars</th>\n",
       "      <th>commits_count</th>\n",
       "      <th>contributors_count_without_anonymous</th>\n",
       "      <th>contributors_count_with_anonymous</th>\n",
       "      <th>created_at</th>\n",
       "      <th>pushed_at</th>\n",
       "      <th>repo/username</th>\n",
       "    </tr>\n",
       "  </thead>\n",
       "  <tbody>\n",
       "    <tr>\n",
       "      <th>0</th>\n",
       "      <td>1.0</td>\n",
       "      <td>9</td>\n",
       "      <td>**Grit is no longer maintained. Check out libg...</td>\n",
       "      <td>7954.0</td>\n",
       "      <td>1877.0</td>\n",
       "      <td>516.0</td>\n",
       "      <td>43.0</td>\n",
       "      <td>48.0</td>\n",
       "      <td>29 October 2007</td>\n",
       "      <td>03 August 2017</td>\n",
       "      <td>grit</td>\n",
       "    </tr>\n",
       "    <tr>\n",
       "      <th>1</th>\n",
       "      <td>144.0</td>\n",
       "      <td>9</td>\n",
       "      <td>Chronic is a pure Ruby natural language date p...</td>\n",
       "      <td>681.0</td>\n",
       "      <td>2809.0</td>\n",
       "      <td>630.0</td>\n",
       "      <td>51.0</td>\n",
       "      <td>67.0</td>\n",
       "      <td>29 January 2008</td>\n",
       "      <td>12 January 2018</td>\n",
       "      <td>chronic</td>\n",
       "    </tr>\n",
       "    <tr>\n",
       "      <th>2</th>\n",
       "      <td>363.0</td>\n",
       "      <td>9</td>\n",
       "      <td>Audited (formerly acts_as_audited) is an ORM e...</td>\n",
       "      <td>761.0</td>\n",
       "      <td>2077.0</td>\n",
       "      <td>668.0</td>\n",
       "      <td>84.0</td>\n",
       "      <td>100.0</td>\n",
       "      <td>09 February 2008</td>\n",
       "      <td>14 March 2018</td>\n",
       "      <td>audited</td>\n",
       "    </tr>\n",
       "    <tr>\n",
       "      <th>3</th>\n",
       "      <td>507.0</td>\n",
       "      <td>9</td>\n",
       "      <td>A Ruby interface to the Twitter API.</td>\n",
       "      <td>19823.0</td>\n",
       "      <td>4009.0</td>\n",
       "      <td>2595.0</td>\n",
       "      <td>160.0</td>\n",
       "      <td>180.0</td>\n",
       "      <td>14 February 2008</td>\n",
       "      <td>08 February 2018</td>\n",
       "      <td>twitter</td>\n",
       "    </tr>\n",
       "    <tr>\n",
       "      <th>4</th>\n",
       "      <td>1462.0</td>\n",
       "      <td>9</td>\n",
       "      <td>Annotate Rails classes with schema and routes ...</td>\n",
       "      <td>1206.0</td>\n",
       "      <td>2877.0</td>\n",
       "      <td>829.0</td>\n",
       "      <td>153.0</td>\n",
       "      <td>183.0</td>\n",
       "      <td>27 February 2008</td>\n",
       "      <td>23 February 2018</td>\n",
       "      <td>annotate_models</td>\n",
       "    </tr>\n",
       "  </tbody>\n",
       "</table>\n",
       "</div>"
      ],
      "text/plain": [
       "   repo_id  Primary Language  \\\n",
       "0      1.0                 9   \n",
       "1    144.0                 9   \n",
       "2    363.0                 9   \n",
       "3    507.0                 9   \n",
       "4   1462.0                 9   \n",
       "\n",
       "                                    Repo_description     size   stars  \\\n",
       "0  **Grit is no longer maintained. Check out libg...   7954.0  1877.0   \n",
       "1  Chronic is a pure Ruby natural language date p...    681.0  2809.0   \n",
       "2  Audited (formerly acts_as_audited) is an ORM e...    761.0  2077.0   \n",
       "3               A Ruby interface to the Twitter API.  19823.0  4009.0   \n",
       "4  Annotate Rails classes with schema and routes ...   1206.0  2877.0   \n",
       "\n",
       "   commits_count  contributors_count_without_anonymous  \\\n",
       "0          516.0                                  43.0   \n",
       "1          630.0                                  51.0   \n",
       "2          668.0                                  84.0   \n",
       "3         2595.0                                 160.0   \n",
       "4          829.0                                 153.0   \n",
       "\n",
       "   contributors_count_with_anonymous        created_at         pushed_at  \\\n",
       "0                               48.0   29 October 2007    03 August 2017   \n",
       "1                               67.0   29 January 2008   12 January 2018   \n",
       "2                              100.0  09 February 2008     14 March 2018   \n",
       "3                              180.0  14 February 2008  08 February 2018   \n",
       "4                              183.0  27 February 2008  23 February 2018   \n",
       "\n",
       "     repo/username  \n",
       "0             grit  \n",
       "1          chronic  \n",
       "2          audited  \n",
       "3          twitter  \n",
       "4  annotate_models  "
      ]
     },
     "execution_count": 33,
     "metadata": {},
     "output_type": "execute_result"
    }
   ],
   "source": [
    "df.head()"
   ]
  },
  {
   "cell_type": "markdown",
   "metadata": {},
   "source": [
    "#### Split date time \n",
    "https://stackabuse.com/how-to-format-dates-in-python/ for %a-z"
   ]
  },
  {
   "cell_type": "code",
   "execution_count": 34,
   "metadata": {},
   "outputs": [],
   "source": [
    "import datetime"
   ]
  },
  {
   "cell_type": "code",
   "execution_count": 35,
   "metadata": {},
   "outputs": [],
   "source": [
    "# date = datetime.datetime.strptime(\"29 October 2007\", \"%d %B %Y\")"
   ]
  },
  {
   "cell_type": "code",
   "execution_count": 36,
   "metadata": {},
   "outputs": [],
   "source": [
    "df['Created_Year'] = pd.DatetimeIndex(df['created_at']).year\n",
    "df['Created_Month'] = pd.DatetimeIndex(df['created_at']).month\n",
    "df['Created_Day'] = pd.DatetimeIndex(df['created_at']).day"
   ]
  },
  {
   "cell_type": "code",
   "execution_count": 37,
   "metadata": {},
   "outputs": [
    {
     "data": {
      "text/html": [
       "<div>\n",
       "<style scoped>\n",
       "    .dataframe tbody tr th:only-of-type {\n",
       "        vertical-align: middle;\n",
       "    }\n",
       "\n",
       "    .dataframe tbody tr th {\n",
       "        vertical-align: top;\n",
       "    }\n",
       "\n",
       "    .dataframe thead th {\n",
       "        text-align: right;\n",
       "    }\n",
       "</style>\n",
       "<table border=\"1\" class=\"dataframe\">\n",
       "  <thead>\n",
       "    <tr style=\"text-align: right;\">\n",
       "      <th></th>\n",
       "      <th>repo_id</th>\n",
       "      <th>Primary Language</th>\n",
       "      <th>Repo_description</th>\n",
       "      <th>size</th>\n",
       "      <th>stars</th>\n",
       "      <th>commits_count</th>\n",
       "      <th>contributors_count_without_anonymous</th>\n",
       "      <th>contributors_count_with_anonymous</th>\n",
       "      <th>created_at</th>\n",
       "      <th>pushed_at</th>\n",
       "      <th>repo/username</th>\n",
       "      <th>Created_Year</th>\n",
       "      <th>Created_Month</th>\n",
       "      <th>Created_Day</th>\n",
       "    </tr>\n",
       "  </thead>\n",
       "  <tbody>\n",
       "    <tr>\n",
       "      <th>0</th>\n",
       "      <td>1.0</td>\n",
       "      <td>9</td>\n",
       "      <td>**Grit is no longer maintained. Check out libg...</td>\n",
       "      <td>7954.0</td>\n",
       "      <td>1877.0</td>\n",
       "      <td>516.0</td>\n",
       "      <td>43.0</td>\n",
       "      <td>48.0</td>\n",
       "      <td>29 October 2007</td>\n",
       "      <td>03 August 2017</td>\n",
       "      <td>grit</td>\n",
       "      <td>2007</td>\n",
       "      <td>10</td>\n",
       "      <td>29</td>\n",
       "    </tr>\n",
       "    <tr>\n",
       "      <th>1</th>\n",
       "      <td>144.0</td>\n",
       "      <td>9</td>\n",
       "      <td>Chronic is a pure Ruby natural language date p...</td>\n",
       "      <td>681.0</td>\n",
       "      <td>2809.0</td>\n",
       "      <td>630.0</td>\n",
       "      <td>51.0</td>\n",
       "      <td>67.0</td>\n",
       "      <td>29 January 2008</td>\n",
       "      <td>12 January 2018</td>\n",
       "      <td>chronic</td>\n",
       "      <td>2008</td>\n",
       "      <td>1</td>\n",
       "      <td>29</td>\n",
       "    </tr>\n",
       "    <tr>\n",
       "      <th>2</th>\n",
       "      <td>363.0</td>\n",
       "      <td>9</td>\n",
       "      <td>Audited (formerly acts_as_audited) is an ORM e...</td>\n",
       "      <td>761.0</td>\n",
       "      <td>2077.0</td>\n",
       "      <td>668.0</td>\n",
       "      <td>84.0</td>\n",
       "      <td>100.0</td>\n",
       "      <td>09 February 2008</td>\n",
       "      <td>14 March 2018</td>\n",
       "      <td>audited</td>\n",
       "      <td>2008</td>\n",
       "      <td>2</td>\n",
       "      <td>9</td>\n",
       "    </tr>\n",
       "    <tr>\n",
       "      <th>3</th>\n",
       "      <td>507.0</td>\n",
       "      <td>9</td>\n",
       "      <td>A Ruby interface to the Twitter API.</td>\n",
       "      <td>19823.0</td>\n",
       "      <td>4009.0</td>\n",
       "      <td>2595.0</td>\n",
       "      <td>160.0</td>\n",
       "      <td>180.0</td>\n",
       "      <td>14 February 2008</td>\n",
       "      <td>08 February 2018</td>\n",
       "      <td>twitter</td>\n",
       "      <td>2008</td>\n",
       "      <td>2</td>\n",
       "      <td>14</td>\n",
       "    </tr>\n",
       "    <tr>\n",
       "      <th>4</th>\n",
       "      <td>1462.0</td>\n",
       "      <td>9</td>\n",
       "      <td>Annotate Rails classes with schema and routes ...</td>\n",
       "      <td>1206.0</td>\n",
       "      <td>2877.0</td>\n",
       "      <td>829.0</td>\n",
       "      <td>153.0</td>\n",
       "      <td>183.0</td>\n",
       "      <td>27 February 2008</td>\n",
       "      <td>23 February 2018</td>\n",
       "      <td>annotate_models</td>\n",
       "      <td>2008</td>\n",
       "      <td>2</td>\n",
       "      <td>27</td>\n",
       "    </tr>\n",
       "  </tbody>\n",
       "</table>\n",
       "</div>"
      ],
      "text/plain": [
       "   repo_id  Primary Language  \\\n",
       "0      1.0                 9   \n",
       "1    144.0                 9   \n",
       "2    363.0                 9   \n",
       "3    507.0                 9   \n",
       "4   1462.0                 9   \n",
       "\n",
       "                                    Repo_description     size   stars  \\\n",
       "0  **Grit is no longer maintained. Check out libg...   7954.0  1877.0   \n",
       "1  Chronic is a pure Ruby natural language date p...    681.0  2809.0   \n",
       "2  Audited (formerly acts_as_audited) is an ORM e...    761.0  2077.0   \n",
       "3               A Ruby interface to the Twitter API.  19823.0  4009.0   \n",
       "4  Annotate Rails classes with schema and routes ...   1206.0  2877.0   \n",
       "\n",
       "   commits_count  contributors_count_without_anonymous  \\\n",
       "0          516.0                                  43.0   \n",
       "1          630.0                                  51.0   \n",
       "2          668.0                                  84.0   \n",
       "3         2595.0                                 160.0   \n",
       "4          829.0                                 153.0   \n",
       "\n",
       "   contributors_count_with_anonymous        created_at         pushed_at  \\\n",
       "0                               48.0   29 October 2007    03 August 2017   \n",
       "1                               67.0   29 January 2008   12 January 2018   \n",
       "2                              100.0  09 February 2008     14 March 2018   \n",
       "3                              180.0  14 February 2008  08 February 2018   \n",
       "4                              183.0  27 February 2008  23 February 2018   \n",
       "\n",
       "     repo/username  Created_Year  Created_Month  Created_Day  \n",
       "0             grit          2007             10           29  \n",
       "1          chronic          2008              1           29  \n",
       "2          audited          2008              2            9  \n",
       "3          twitter          2008              2           14  \n",
       "4  annotate_models          2008              2           27  "
      ]
     },
     "execution_count": 37,
     "metadata": {},
     "output_type": "execute_result"
    }
   ],
   "source": [
    "df.head()"
   ]
  },
  {
   "cell_type": "code",
   "execution_count": 38,
   "metadata": {},
   "outputs": [],
   "source": [
    "df['Pushed_Year'] = pd.DatetimeIndex(df['pushed_at']).year\n",
    "df['Pushed_Month'] = pd.DatetimeIndex(df['pushed_at']).month\n",
    "df['Pushed_Day'] = pd.DatetimeIndex(df['pushed_at']).day"
   ]
  },
  {
   "cell_type": "code",
   "execution_count": 39,
   "metadata": {},
   "outputs": [
    {
     "data": {
      "text/html": [
       "<div>\n",
       "<style scoped>\n",
       "    .dataframe tbody tr th:only-of-type {\n",
       "        vertical-align: middle;\n",
       "    }\n",
       "\n",
       "    .dataframe tbody tr th {\n",
       "        vertical-align: top;\n",
       "    }\n",
       "\n",
       "    .dataframe thead th {\n",
       "        text-align: right;\n",
       "    }\n",
       "</style>\n",
       "<table border=\"1\" class=\"dataframe\">\n",
       "  <thead>\n",
       "    <tr style=\"text-align: right;\">\n",
       "      <th></th>\n",
       "      <th>repo_id</th>\n",
       "      <th>Primary Language</th>\n",
       "      <th>Repo_description</th>\n",
       "      <th>size</th>\n",
       "      <th>stars</th>\n",
       "      <th>commits_count</th>\n",
       "      <th>contributors_count_without_anonymous</th>\n",
       "      <th>contributors_count_with_anonymous</th>\n",
       "      <th>created_at</th>\n",
       "      <th>pushed_at</th>\n",
       "      <th>repo/username</th>\n",
       "      <th>Created_Year</th>\n",
       "      <th>Created_Month</th>\n",
       "      <th>Created_Day</th>\n",
       "      <th>Pushed_Year</th>\n",
       "      <th>Pushed_Month</th>\n",
       "      <th>Pushed_Day</th>\n",
       "    </tr>\n",
       "  </thead>\n",
       "  <tbody>\n",
       "    <tr>\n",
       "      <th>0</th>\n",
       "      <td>1.0</td>\n",
       "      <td>9</td>\n",
       "      <td>**Grit is no longer maintained. Check out libg...</td>\n",
       "      <td>7954.0</td>\n",
       "      <td>1877.0</td>\n",
       "      <td>516.0</td>\n",
       "      <td>43.0</td>\n",
       "      <td>48.0</td>\n",
       "      <td>29 October 2007</td>\n",
       "      <td>03 August 2017</td>\n",
       "      <td>grit</td>\n",
       "      <td>2007</td>\n",
       "      <td>10</td>\n",
       "      <td>29</td>\n",
       "      <td>2017</td>\n",
       "      <td>8</td>\n",
       "      <td>3</td>\n",
       "    </tr>\n",
       "    <tr>\n",
       "      <th>1</th>\n",
       "      <td>144.0</td>\n",
       "      <td>9</td>\n",
       "      <td>Chronic is a pure Ruby natural language date p...</td>\n",
       "      <td>681.0</td>\n",
       "      <td>2809.0</td>\n",
       "      <td>630.0</td>\n",
       "      <td>51.0</td>\n",
       "      <td>67.0</td>\n",
       "      <td>29 January 2008</td>\n",
       "      <td>12 January 2018</td>\n",
       "      <td>chronic</td>\n",
       "      <td>2008</td>\n",
       "      <td>1</td>\n",
       "      <td>29</td>\n",
       "      <td>2018</td>\n",
       "      <td>1</td>\n",
       "      <td>12</td>\n",
       "    </tr>\n",
       "    <tr>\n",
       "      <th>2</th>\n",
       "      <td>363.0</td>\n",
       "      <td>9</td>\n",
       "      <td>Audited (formerly acts_as_audited) is an ORM e...</td>\n",
       "      <td>761.0</td>\n",
       "      <td>2077.0</td>\n",
       "      <td>668.0</td>\n",
       "      <td>84.0</td>\n",
       "      <td>100.0</td>\n",
       "      <td>09 February 2008</td>\n",
       "      <td>14 March 2018</td>\n",
       "      <td>audited</td>\n",
       "      <td>2008</td>\n",
       "      <td>2</td>\n",
       "      <td>9</td>\n",
       "      <td>2018</td>\n",
       "      <td>3</td>\n",
       "      <td>14</td>\n",
       "    </tr>\n",
       "    <tr>\n",
       "      <th>3</th>\n",
       "      <td>507.0</td>\n",
       "      <td>9</td>\n",
       "      <td>A Ruby interface to the Twitter API.</td>\n",
       "      <td>19823.0</td>\n",
       "      <td>4009.0</td>\n",
       "      <td>2595.0</td>\n",
       "      <td>160.0</td>\n",
       "      <td>180.0</td>\n",
       "      <td>14 February 2008</td>\n",
       "      <td>08 February 2018</td>\n",
       "      <td>twitter</td>\n",
       "      <td>2008</td>\n",
       "      <td>2</td>\n",
       "      <td>14</td>\n",
       "      <td>2018</td>\n",
       "      <td>2</td>\n",
       "      <td>8</td>\n",
       "    </tr>\n",
       "    <tr>\n",
       "      <th>4</th>\n",
       "      <td>1462.0</td>\n",
       "      <td>9</td>\n",
       "      <td>Annotate Rails classes with schema and routes ...</td>\n",
       "      <td>1206.0</td>\n",
       "      <td>2877.0</td>\n",
       "      <td>829.0</td>\n",
       "      <td>153.0</td>\n",
       "      <td>183.0</td>\n",
       "      <td>27 February 2008</td>\n",
       "      <td>23 February 2018</td>\n",
       "      <td>annotate_models</td>\n",
       "      <td>2008</td>\n",
       "      <td>2</td>\n",
       "      <td>27</td>\n",
       "      <td>2018</td>\n",
       "      <td>2</td>\n",
       "      <td>23</td>\n",
       "    </tr>\n",
       "  </tbody>\n",
       "</table>\n",
       "</div>"
      ],
      "text/plain": [
       "   repo_id  Primary Language  \\\n",
       "0      1.0                 9   \n",
       "1    144.0                 9   \n",
       "2    363.0                 9   \n",
       "3    507.0                 9   \n",
       "4   1462.0                 9   \n",
       "\n",
       "                                    Repo_description     size   stars  \\\n",
       "0  **Grit is no longer maintained. Check out libg...   7954.0  1877.0   \n",
       "1  Chronic is a pure Ruby natural language date p...    681.0  2809.0   \n",
       "2  Audited (formerly acts_as_audited) is an ORM e...    761.0  2077.0   \n",
       "3               A Ruby interface to the Twitter API.  19823.0  4009.0   \n",
       "4  Annotate Rails classes with schema and routes ...   1206.0  2877.0   \n",
       "\n",
       "   commits_count  contributors_count_without_anonymous  \\\n",
       "0          516.0                                  43.0   \n",
       "1          630.0                                  51.0   \n",
       "2          668.0                                  84.0   \n",
       "3         2595.0                                 160.0   \n",
       "4          829.0                                 153.0   \n",
       "\n",
       "   contributors_count_with_anonymous        created_at         pushed_at  \\\n",
       "0                               48.0   29 October 2007    03 August 2017   \n",
       "1                               67.0   29 January 2008   12 January 2018   \n",
       "2                              100.0  09 February 2008     14 March 2018   \n",
       "3                              180.0  14 February 2008  08 February 2018   \n",
       "4                              183.0  27 February 2008  23 February 2018   \n",
       "\n",
       "     repo/username  Created_Year  Created_Month  Created_Day  Pushed_Year  \\\n",
       "0             grit          2007             10           29         2017   \n",
       "1          chronic          2008              1           29         2018   \n",
       "2          audited          2008              2            9         2018   \n",
       "3          twitter          2008              2           14         2018   \n",
       "4  annotate_models          2008              2           27         2018   \n",
       "\n",
       "   Pushed_Month  Pushed_Day  \n",
       "0             8           3  \n",
       "1             1          12  \n",
       "2             3          14  \n",
       "3             2           8  \n",
       "4             2          23  "
      ]
     },
     "execution_count": 39,
     "metadata": {},
     "output_type": "execute_result"
    }
   ],
   "source": [
    "df.head()"
   ]
  },
  {
   "cell_type": "code",
   "execution_count": 40,
   "metadata": {},
   "outputs": [],
   "source": [
    "df = df.drop(['created_at','pushed_at'], axis=1)"
   ]
  },
  {
   "cell_type": "code",
   "execution_count": 41,
   "metadata": {},
   "outputs": [
    {
     "data": {
      "text/html": [
       "<div>\n",
       "<style scoped>\n",
       "    .dataframe tbody tr th:only-of-type {\n",
       "        vertical-align: middle;\n",
       "    }\n",
       "\n",
       "    .dataframe tbody tr th {\n",
       "        vertical-align: top;\n",
       "    }\n",
       "\n",
       "    .dataframe thead th {\n",
       "        text-align: right;\n",
       "    }\n",
       "</style>\n",
       "<table border=\"1\" class=\"dataframe\">\n",
       "  <thead>\n",
       "    <tr style=\"text-align: right;\">\n",
       "      <th></th>\n",
       "      <th>repo_id</th>\n",
       "      <th>Primary Language</th>\n",
       "      <th>Repo_description</th>\n",
       "      <th>size</th>\n",
       "      <th>stars</th>\n",
       "      <th>commits_count</th>\n",
       "      <th>contributors_count_without_anonymous</th>\n",
       "      <th>contributors_count_with_anonymous</th>\n",
       "      <th>repo/username</th>\n",
       "      <th>Created_Year</th>\n",
       "      <th>Created_Month</th>\n",
       "      <th>Created_Day</th>\n",
       "      <th>Pushed_Year</th>\n",
       "      <th>Pushed_Month</th>\n",
       "      <th>Pushed_Day</th>\n",
       "    </tr>\n",
       "  </thead>\n",
       "  <tbody>\n",
       "    <tr>\n",
       "      <th>0</th>\n",
       "      <td>1.0</td>\n",
       "      <td>9</td>\n",
       "      <td>**Grit is no longer maintained. Check out libg...</td>\n",
       "      <td>7954.0</td>\n",
       "      <td>1877.0</td>\n",
       "      <td>516.0</td>\n",
       "      <td>43.0</td>\n",
       "      <td>48.0</td>\n",
       "      <td>grit</td>\n",
       "      <td>2007</td>\n",
       "      <td>10</td>\n",
       "      <td>29</td>\n",
       "      <td>2017</td>\n",
       "      <td>8</td>\n",
       "      <td>3</td>\n",
       "    </tr>\n",
       "    <tr>\n",
       "      <th>1</th>\n",
       "      <td>144.0</td>\n",
       "      <td>9</td>\n",
       "      <td>Chronic is a pure Ruby natural language date p...</td>\n",
       "      <td>681.0</td>\n",
       "      <td>2809.0</td>\n",
       "      <td>630.0</td>\n",
       "      <td>51.0</td>\n",
       "      <td>67.0</td>\n",
       "      <td>chronic</td>\n",
       "      <td>2008</td>\n",
       "      <td>1</td>\n",
       "      <td>29</td>\n",
       "      <td>2018</td>\n",
       "      <td>1</td>\n",
       "      <td>12</td>\n",
       "    </tr>\n",
       "    <tr>\n",
       "      <th>2</th>\n",
       "      <td>363.0</td>\n",
       "      <td>9</td>\n",
       "      <td>Audited (formerly acts_as_audited) is an ORM e...</td>\n",
       "      <td>761.0</td>\n",
       "      <td>2077.0</td>\n",
       "      <td>668.0</td>\n",
       "      <td>84.0</td>\n",
       "      <td>100.0</td>\n",
       "      <td>audited</td>\n",
       "      <td>2008</td>\n",
       "      <td>2</td>\n",
       "      <td>9</td>\n",
       "      <td>2018</td>\n",
       "      <td>3</td>\n",
       "      <td>14</td>\n",
       "    </tr>\n",
       "    <tr>\n",
       "      <th>3</th>\n",
       "      <td>507.0</td>\n",
       "      <td>9</td>\n",
       "      <td>A Ruby interface to the Twitter API.</td>\n",
       "      <td>19823.0</td>\n",
       "      <td>4009.0</td>\n",
       "      <td>2595.0</td>\n",
       "      <td>160.0</td>\n",
       "      <td>180.0</td>\n",
       "      <td>twitter</td>\n",
       "      <td>2008</td>\n",
       "      <td>2</td>\n",
       "      <td>14</td>\n",
       "      <td>2018</td>\n",
       "      <td>2</td>\n",
       "      <td>8</td>\n",
       "    </tr>\n",
       "    <tr>\n",
       "      <th>4</th>\n",
       "      <td>1462.0</td>\n",
       "      <td>9</td>\n",
       "      <td>Annotate Rails classes with schema and routes ...</td>\n",
       "      <td>1206.0</td>\n",
       "      <td>2877.0</td>\n",
       "      <td>829.0</td>\n",
       "      <td>153.0</td>\n",
       "      <td>183.0</td>\n",
       "      <td>annotate_models</td>\n",
       "      <td>2008</td>\n",
       "      <td>2</td>\n",
       "      <td>27</td>\n",
       "      <td>2018</td>\n",
       "      <td>2</td>\n",
       "      <td>23</td>\n",
       "    </tr>\n",
       "  </tbody>\n",
       "</table>\n",
       "</div>"
      ],
      "text/plain": [
       "   repo_id  Primary Language  \\\n",
       "0      1.0                 9   \n",
       "1    144.0                 9   \n",
       "2    363.0                 9   \n",
       "3    507.0                 9   \n",
       "4   1462.0                 9   \n",
       "\n",
       "                                    Repo_description     size   stars  \\\n",
       "0  **Grit is no longer maintained. Check out libg...   7954.0  1877.0   \n",
       "1  Chronic is a pure Ruby natural language date p...    681.0  2809.0   \n",
       "2  Audited (formerly acts_as_audited) is an ORM e...    761.0  2077.0   \n",
       "3               A Ruby interface to the Twitter API.  19823.0  4009.0   \n",
       "4  Annotate Rails classes with schema and routes ...   1206.0  2877.0   \n",
       "\n",
       "   commits_count  contributors_count_without_anonymous  \\\n",
       "0          516.0                                  43.0   \n",
       "1          630.0                                  51.0   \n",
       "2          668.0                                  84.0   \n",
       "3         2595.0                                 160.0   \n",
       "4          829.0                                 153.0   \n",
       "\n",
       "   contributors_count_with_anonymous    repo/username  Created_Year  \\\n",
       "0                               48.0             grit          2007   \n",
       "1                               67.0          chronic          2008   \n",
       "2                              100.0          audited          2008   \n",
       "3                              180.0          twitter          2008   \n",
       "4                              183.0  annotate_models          2008   \n",
       "\n",
       "   Created_Month  Created_Day  Pushed_Year  Pushed_Month  Pushed_Day  \n",
       "0             10           29         2017             8           3  \n",
       "1              1           29         2018             1          12  \n",
       "2              2            9         2018             3          14  \n",
       "3              2           14         2018             2           8  \n",
       "4              2           27         2018             2          23  "
      ]
     },
     "execution_count": 41,
     "metadata": {},
     "output_type": "execute_result"
    }
   ],
   "source": [
    "df.head()"
   ]
  },
  {
   "cell_type": "code",
   "execution_count": 42,
   "metadata": {},
   "outputs": [
    {
     "data": {
      "text/plain": [
       "<matplotlib.axes._subplots.AxesSubplot at 0x11ce162b0>"
      ]
     },
     "execution_count": 42,
     "metadata": {},
     "output_type": "execute_result"
    },
    {
     "data": {
      "image/png": "[encoded data removed]",
      "text/plain": [
       "<Figure size 720x576 with 2 Axes>"
      ]
     },
     "metadata": {
      "needs_background": "light"
     },
     "output_type": "display_data"
    }
   ],
   "source": [
    "fi, axis = plt.subplots(figsize=(10, 8))\n",
    "corr = df.corr()\n",
    "sns.heatmap(corr, mask=np.zeros_like(corr, dtype=np.bool), cmap=sns.diverging_palette(200,10,as_cmap=True), \n",
    "           square=True, ax=axis)"
   ]
  },
  {
   "cell_type": "code",
   "execution_count": 43,
   "metadata": {},
   "outputs": [],
   "source": [
    "# pd.value_counts(df['repo/username'].values, sort=False)"
   ]
  },
  {
   "cell_type": "code",
   "execution_count": 44,
   "metadata": {},
   "outputs": [],
   "source": [
    "# sns.distplot(df['stars'], hist=True, label=\"Primary Language\")"
   ]
  },
  {
   "cell_type": "code",
   "execution_count": 45,
   "metadata": {},
   "outputs": [
    {
     "data": {
      "text/plain": [
       "repo_id                                 0\n",
       "Primary Language                        0\n",
       "Repo_description                        0\n",
       "size                                    0\n",
       "stars                                   0\n",
       "commits_count                           0\n",
       "contributors_count_without_anonymous    0\n",
       "contributors_count_with_anonymous       0\n",
       "repo/username                           0\n",
       "Created_Year                            0\n",
       "Created_Month                           0\n",
       "Created_Day                             0\n",
       "Pushed_Year                             0\n",
       "Pushed_Month                            0\n",
       "Pushed_Day                              0\n",
       "dtype: int64"
      ]
     },
     "execution_count": 45,
     "metadata": {},
     "output_type": "execute_result"
    }
   ],
   "source": [
    "df.isnull().sum()"
   ]
  },
  {
   "cell_type": "markdown",
   "metadata": {},
   "source": [
    "Conclude number instead language<br>\n",
    "0 -> C<br>\n",
    "1 -> C#<br>\n",
    "2 -> C++<br>\n",
    "3 -> GO<br>\n",
    "4 -> Java<br>\n",
    "5 -> Java Script<br>\n",
    "6 -> Objective C<br>\n",
    "7 -> PHP<br>\n",
    "8 -> Python<br>\n",
    "9 -> Ruby<br>\n",
    "10 -> Swift"
   ]
  },
  {
   "cell_type": "code",
   "execution_count": 46,
   "metadata": {},
   "outputs": [
    {
     "data": {
      "image/png": "[encoded data removed]",
      "text/plain": [
       "<Figure size 360x360 with 1 Axes>"
      ]
     },
     "metadata": {
      "needs_background": "light"
     },
     "output_type": "display_data"
    }
   ],
   "source": [
    "sns.catplot(x=\"Primary Language\", kind=\"count\", palette=\"ch:.25\", data=df);"
   ]
  },
  {
   "cell_type": "code",
   "execution_count": 47,
   "metadata": {},
   "outputs": [
    {
     "data": {
      "text/html": [
       "<div>\n",
       "<style scoped>\n",
       "    .dataframe tbody tr th:only-of-type {\n",
       "        vertical-align: middle;\n",
       "    }\n",
       "\n",
       "    .dataframe tbody tr th {\n",
       "        vertical-align: top;\n",
       "    }\n",
       "\n",
       "    .dataframe thead th {\n",
       "        text-align: right;\n",
       "    }\n",
       "</style>\n",
       "<table border=\"1\" class=\"dataframe\">\n",
       "  <thead>\n",
       "    <tr style=\"text-align: right;\">\n",
       "      <th></th>\n",
       "      <th>repo_id</th>\n",
       "      <th>Primary Language</th>\n",
       "      <th>Repo_description</th>\n",
       "      <th>size</th>\n",
       "      <th>stars</th>\n",
       "      <th>commits_count</th>\n",
       "      <th>contributors_count_without_anonymous</th>\n",
       "      <th>contributors_count_with_anonymous</th>\n",
       "      <th>repo/username</th>\n",
       "      <th>Created_Year</th>\n",
       "      <th>Created_Month</th>\n",
       "      <th>Created_Day</th>\n",
       "      <th>Pushed_Year</th>\n",
       "      <th>Pushed_Month</th>\n",
       "      <th>Pushed_Day</th>\n",
       "    </tr>\n",
       "  </thead>\n",
       "  <tbody>\n",
       "    <tr>\n",
       "      <th>0</th>\n",
       "      <td>1.0</td>\n",
       "      <td>9</td>\n",
       "      <td>**Grit is no longer maintained. Check out libg...</td>\n",
       "      <td>7954.0</td>\n",
       "      <td>1877.0</td>\n",
       "      <td>516.0</td>\n",
       "      <td>43.0</td>\n",
       "      <td>48.0</td>\n",
       "      <td>grit</td>\n",
       "      <td>2007</td>\n",
       "      <td>10</td>\n",
       "      <td>29</td>\n",
       "      <td>2017</td>\n",
       "      <td>8</td>\n",
       "      <td>3</td>\n",
       "    </tr>\n",
       "    <tr>\n",
       "      <th>1</th>\n",
       "      <td>144.0</td>\n",
       "      <td>9</td>\n",
       "      <td>Chronic is a pure Ruby natural language date p...</td>\n",
       "      <td>681.0</td>\n",
       "      <td>2809.0</td>\n",
       "      <td>630.0</td>\n",
       "      <td>51.0</td>\n",
       "      <td>67.0</td>\n",
       "      <td>chronic</td>\n",
       "      <td>2008</td>\n",
       "      <td>1</td>\n",
       "      <td>29</td>\n",
       "      <td>2018</td>\n",
       "      <td>1</td>\n",
       "      <td>12</td>\n",
       "    </tr>\n",
       "    <tr>\n",
       "      <th>2</th>\n",
       "      <td>363.0</td>\n",
       "      <td>9</td>\n",
       "      <td>Audited (formerly acts_as_audited) is an ORM e...</td>\n",
       "      <td>761.0</td>\n",
       "      <td>2077.0</td>\n",
       "      <td>668.0</td>\n",
       "      <td>84.0</td>\n",
       "      <td>100.0</td>\n",
       "      <td>audited</td>\n",
       "      <td>2008</td>\n",
       "      <td>2</td>\n",
       "      <td>9</td>\n",
       "      <td>2018</td>\n",
       "      <td>3</td>\n",
       "      <td>14</td>\n",
       "    </tr>\n",
       "    <tr>\n",
       "      <th>3</th>\n",
       "      <td>507.0</td>\n",
       "      <td>9</td>\n",
       "      <td>A Ruby interface to the Twitter API.</td>\n",
       "      <td>19823.0</td>\n",
       "      <td>4009.0</td>\n",
       "      <td>2595.0</td>\n",
       "      <td>160.0</td>\n",
       "      <td>180.0</td>\n",
       "      <td>twitter</td>\n",
       "      <td>2008</td>\n",
       "      <td>2</td>\n",
       "      <td>14</td>\n",
       "      <td>2018</td>\n",
       "      <td>2</td>\n",
       "      <td>8</td>\n",
       "    </tr>\n",
       "    <tr>\n",
       "      <th>4</th>\n",
       "      <td>1462.0</td>\n",
       "      <td>9</td>\n",
       "      <td>Annotate Rails classes with schema and routes ...</td>\n",
       "      <td>1206.0</td>\n",
       "      <td>2877.0</td>\n",
       "      <td>829.0</td>\n",
       "      <td>153.0</td>\n",
       "      <td>183.0</td>\n",
       "      <td>annotate_models</td>\n",
       "      <td>2008</td>\n",
       "      <td>2</td>\n",
       "      <td>27</td>\n",
       "      <td>2018</td>\n",
       "      <td>2</td>\n",
       "      <td>23</td>\n",
       "    </tr>\n",
       "  </tbody>\n",
       "</table>\n",
       "</div>"
      ],
      "text/plain": [
       "   repo_id  Primary Language  \\\n",
       "0      1.0                 9   \n",
       "1    144.0                 9   \n",
       "2    363.0                 9   \n",
       "3    507.0                 9   \n",
       "4   1462.0                 9   \n",
       "\n",
       "                                    Repo_description     size   stars  \\\n",
       "0  **Grit is no longer maintained. Check out libg...   7954.0  1877.0   \n",
       "1  Chronic is a pure Ruby natural language date p...    681.0  2809.0   \n",
       "2  Audited (formerly acts_as_audited) is an ORM e...    761.0  2077.0   \n",
       "3               A Ruby interface to the Twitter API.  19823.0  4009.0   \n",
       "4  Annotate Rails classes with schema and routes ...   1206.0  2877.0   \n",
       "\n",
       "   commits_count  contributors_count_without_anonymous  \\\n",
       "0          516.0                                  43.0   \n",
       "1          630.0                                  51.0   \n",
       "2          668.0                                  84.0   \n",
       "3         2595.0                                 160.0   \n",
       "4          829.0                                 153.0   \n",
       "\n",
       "   contributors_count_with_anonymous    repo/username  Created_Year  \\\n",
       "0                               48.0             grit          2007   \n",
       "1                               67.0          chronic          2008   \n",
       "2                              100.0          audited          2008   \n",
       "3                              180.0          twitter          2008   \n",
       "4                              183.0  annotate_models          2008   \n",
       "\n",
       "   Created_Month  Created_Day  Pushed_Year  Pushed_Month  Pushed_Day  \n",
       "0             10           29         2017             8           3  \n",
       "1              1           29         2018             1          12  \n",
       "2              2            9         2018             3          14  \n",
       "3              2           14         2018             2           8  \n",
       "4              2           27         2018             2          23  "
      ]
     },
     "execution_count": 47,
     "metadata": {},
     "output_type": "execute_result"
    }
   ],
   "source": [
    "df.head(5)"
   ]
  },
  {
   "cell_type": "code",
   "execution_count": 48,
   "metadata": {},
   "outputs": [
    {
     "data": {
      "image/png": "[encoded data removed]",
      "text/plain": [
       "<Figure size 360x360 with 1 Axes>"
      ]
     },
     "metadata": {
      "needs_background": "light"
     },
     "output_type": "display_data"
    },
    {
     "data": {
      "image/png": "[encoded data removed]",
      "text/plain": [
       "<Figure size 360x360 with 1 Axes>"
      ]
     },
     "metadata": {
      "needs_background": "light"
     },
     "output_type": "display_data"
    },
    {
     "name": "stderr",
     "output_type": "stream",
     "text": [
      "/Library/Frameworks/Python.framework/Versions/3.7/lib/python3.7/site-packages/matplotlib/tight_layout.py:176: UserWarning: Tight layout not applied. The left and right margins cannot be made large enough to accommodate all axes decorations. \n",
      "  warnings.warn('Tight layout not applied. The left and right margins '\n"
     ]
    },
    {
     "data": {
      "image/png": "[encoded data removed]",
      "text/plain": [
       "<Figure size 360x360 with 1 Axes>"
      ]
     },
     "metadata": {
      "needs_background": "light"
     },
     "output_type": "display_data"
    },
    {
     "data": {
      "image/png": "[encoded data removed]",
      "text/plain": [
       "<Figure size 360x360 with 1 Axes>"
      ]
     },
     "metadata": {
      "needs_background": "light"
     },
     "output_type": "display_data"
    },
    {
     "data": {
      "image/png": "[encoded data removed]",
      "text/plain": [
       "<Figure size 360x360 with 1 Axes>"
      ]
     },
     "metadata": {
      "needs_background": "light"
     },
     "output_type": "display_data"
    },
    {
     "data": {
      "image/png": "[encoded data removed]",
      "text/plain": [
       "<Figure size 360x360 with 1 Axes>"
      ]
     },
     "metadata": {
      "needs_background": "light"
     },
     "output_type": "display_data"
    },
    {
     "data": {
      "image/png": "[encoded data removed]",
      "text/plain": [
       "<Figure size 360x360 with 1 Axes>"
      ]
     },
     "metadata": {
      "needs_background": "light"
     },
     "output_type": "display_data"
    },
    {
     "data": {
      "image/png": "[encoded data removed]",
      "text/plain": [
       "<Figure size 360x360 with 1 Axes>"
      ]
     },
     "metadata": {
      "needs_background": "light"
     },
     "output_type": "display_data"
    },
    {
     "data": {
      "image/png": "[encoded data removed]",
      "text/plain": [
       "<Figure size 360x360 with 1 Axes>"
      ]
     },
     "metadata": {
      "needs_background": "light"
     },
     "output_type": "display_data"
    },
    {
     "data": {
      "image/png": "[encoded data removed]",
      "text/plain": [
       "<Figure size 360x360 with 1 Axes>"
      ]
     },
     "metadata": {
      "needs_background": "light"
     },
     "output_type": "display_data"
    },
    {
     "data": {
      "image/png": "[encoded data removed]",
      "text/plain": [
       "<Figure size 360x360 with 1 Axes>"
      ]
     },
     "metadata": {
      "needs_background": "light"
     },
     "output_type": "display_data"
    },
    {
     "data": {
      "image/png": "[encoded data removed]",
      "text/plain": [
       "<Figure size 360x360 with 1 Axes>"
      ]
     },
     "metadata": {
      "needs_background": "light"
     },
     "output_type": "display_data"
    },
    {
     "data": {
      "image/png": "[encoded data removed]",
      "text/plain": [
       "<Figure size 360x360 with 1 Axes>"
      ]
     },
     "metadata": {
      "needs_background": "light"
     },
     "output_type": "display_data"
    },
    {
     "data": {
      "image/png": "[encoded data removed]",
      "text/plain": [
       "<Figure size 360x360 with 1 Axes>"
      ]
     },
     "metadata": {
      "needs_background": "light"
     },
     "output_type": "display_data"
    },
    {
     "data": {
      "image/png": "[encoded data removed]",
      "text/plain": [
       "<Figure size 360x360 with 1 Axes>"
      ]
     },
     "metadata": {
      "needs_background": "light"
     },
     "output_type": "display_data"
    }
   ],
   "source": [
    "for column in df.columns:\n",
    "    sns.catplot(x=column, kind=\"count\", palette=\"ch:.25\", data=df);\n",
    "    plt.show()"
   ]
  },
  {
   "cell_type": "code",
   "execution_count": null,
   "metadata": {},
   "outputs": [],
   "source": []
  },
  {
   "cell_type": "code",
   "execution_count": null,
   "metadata": {},
   "outputs": [],
   "source": []
  },
  {
   "cell_type": "code",
   "execution_count": null,
   "metadata": {},
   "outputs": [],
   "source": []
  },
  {
   "cell_type": "code",
   "execution_count": null,
   "metadata": {},
   "outputs": [],
   "source": []
  },
  {
   "cell_type": "code",
   "execution_count": null,
   "metadata": {},
   "outputs": [],
   "source": []
  },
  {
   "cell_type": "code",
   "execution_count": null,
   "metadata": {},
   "outputs": [],
   "source": []
  },
  {
   "cell_type": "markdown",
   "metadata": {},
   "source": [
    "## Cluster with K-means"
   ]
  },
  {
   "cell_type": "code",
   "execution_count": 49,
   "metadata": {},
   "outputs": [],
   "source": [
    "from sklearn.cluster import KMeans\n",
    "from sklearn.preprocessing import StandardScaler"
   ]
  },
  {
   "cell_type": "code",
   "execution_count": 50,
   "metadata": {},
   "outputs": [],
   "source": [
    "def Cluster_Kmeans_Elbow(X):\n",
    "#     X = df.drop(['repo_id','Repo_description','repo/username'], axis=1)\n",
    "    X_scale = StandardScaler().fit_transform(X)\n",
    "    X_scale\n",
    "    kpoint = []\n",
    "    costs = []\n",
    "    for k in range(2, 15):\n",
    "    #     kmeans = KMeans(n_clusters=k).fit(X)\n",
    "        kmeans = KMeans(n_clusters=k).fit(X_scale)\n",
    "        kpoint.append(k)\n",
    "        costs.append(kmeans.inertia_)\n",
    "    sns.set_style(\"whitegrid\", {'grid.linestyle': '--'})\n",
    "    sns.lineplot(x=kpoint, y=costs)"
   ]
  },
  {
   "cell_type": "code",
   "execution_count": 51,
   "metadata": {},
   "outputs": [],
   "source": [
    "def Cluster_Kmeans(X, num):\n",
    "#     X = df.drop(['repo_id','Repo_description','repo/username'], axis=1)\n",
    "    X_scale = StandardScaler().fit_transform(X)\n",
    "    X_scale\n",
    "    kmeans = KMeans(n_clusters=num).fit(X)\n",
    "    km = pd.DataFrame(kmeans.labels_, columns=['Cluster'])\n",
    "    df_km = pd.concat([df, km], axis=1)\n",
    "    return df_km"
   ]
  },
  {
   "cell_type": "code",
   "execution_count": 52,
   "metadata": {},
   "outputs": [
    {
     "data": {
      "text/html": [
       "<div>\n",
       "<style scoped>\n",
       "    .dataframe tbody tr th:only-of-type {\n",
       "        vertical-align: middle;\n",
       "    }\n",
       "\n",
       "    .dataframe tbody tr th {\n",
       "        vertical-align: top;\n",
       "    }\n",
       "\n",
       "    .dataframe thead th {\n",
       "        text-align: right;\n",
       "    }\n",
       "</style>\n",
       "<table border=\"1\" class=\"dataframe\">\n",
       "  <thead>\n",
       "    <tr style=\"text-align: right;\">\n",
       "      <th></th>\n",
       "      <th>repo_id</th>\n",
       "      <th>Primary Language</th>\n",
       "      <th>Repo_description</th>\n",
       "      <th>size</th>\n",
       "      <th>stars</th>\n",
       "      <th>commits_count</th>\n",
       "      <th>contributors_count_without_anonymous</th>\n",
       "      <th>contributors_count_with_anonymous</th>\n",
       "      <th>repo/username</th>\n",
       "      <th>Created_Year</th>\n",
       "      <th>Created_Month</th>\n",
       "      <th>Created_Day</th>\n",
       "      <th>Pushed_Year</th>\n",
       "      <th>Pushed_Month</th>\n",
       "      <th>Pushed_Day</th>\n",
       "    </tr>\n",
       "  </thead>\n",
       "  <tbody>\n",
       "    <tr>\n",
       "      <th>0</th>\n",
       "      <td>1.0</td>\n",
       "      <td>9</td>\n",
       "      <td>**Grit is no longer maintained. Check out libg...</td>\n",
       "      <td>7954.0</td>\n",
       "      <td>1877.0</td>\n",
       "      <td>516.0</td>\n",
       "      <td>43.0</td>\n",
       "      <td>48.0</td>\n",
       "      <td>grit</td>\n",
       "      <td>2007</td>\n",
       "      <td>10</td>\n",
       "      <td>29</td>\n",
       "      <td>2017</td>\n",
       "      <td>8</td>\n",
       "      <td>3</td>\n",
       "    </tr>\n",
       "    <tr>\n",
       "      <th>1</th>\n",
       "      <td>144.0</td>\n",
       "      <td>9</td>\n",
       "      <td>Chronic is a pure Ruby natural language date p...</td>\n",
       "      <td>681.0</td>\n",
       "      <td>2809.0</td>\n",
       "      <td>630.0</td>\n",
       "      <td>51.0</td>\n",
       "      <td>67.0</td>\n",
       "      <td>chronic</td>\n",
       "      <td>2008</td>\n",
       "      <td>1</td>\n",
       "      <td>29</td>\n",
       "      <td>2018</td>\n",
       "      <td>1</td>\n",
       "      <td>12</td>\n",
       "    </tr>\n",
       "  </tbody>\n",
       "</table>\n",
       "</div>"
      ],
      "text/plain": [
       "   repo_id  Primary Language  \\\n",
       "0      1.0                 9   \n",
       "1    144.0                 9   \n",
       "\n",
       "                                    Repo_description    size   stars  \\\n",
       "0  **Grit is no longer maintained. Check out libg...  7954.0  1877.0   \n",
       "1  Chronic is a pure Ruby natural language date p...   681.0  2809.0   \n",
       "\n",
       "   commits_count  contributors_count_without_anonymous  \\\n",
       "0          516.0                                  43.0   \n",
       "1          630.0                                  51.0   \n",
       "\n",
       "   contributors_count_with_anonymous repo/username  Created_Year  \\\n",
       "0                               48.0          grit          2007   \n",
       "1                               67.0       chronic          2008   \n",
       "\n",
       "   Created_Month  Created_Day  Pushed_Year  Pushed_Month  Pushed_Day  \n",
       "0             10           29         2017             8           3  \n",
       "1              1           29         2018             1          12  "
      ]
     },
     "execution_count": 52,
     "metadata": {},
     "output_type": "execute_result"
    }
   ],
   "source": [
    "df.head(2)"
   ]
  },
  {
   "cell_type": "code",
   "execution_count": 53,
   "metadata": {},
   "outputs": [
    {
     "name": "stdout",
     "output_type": "stream",
     "text": [
      "<class 'pandas.core.frame.DataFrame'>\n",
      "Int64Index: 4597 entries, 0 to 4597\n",
      "Data columns (total 15 columns):\n",
      "repo_id                                 4597 non-null float64\n",
      "Primary Language                        4597 non-null int64\n",
      "Repo_description                        4597 non-null object\n",
      "size                                    4597 non-null float64\n",
      "stars                                   4597 non-null float64\n",
      "commits_count                           4597 non-null float64\n",
      "contributors_count_without_anonymous    4597 non-null float64\n",
      "contributors_count_with_anonymous       4597 non-null float64\n",
      "repo/username                           4597 non-null object\n",
      "Created_Year                            4597 non-null int64\n",
      "Created_Month                           4597 non-null int64\n",
      "Created_Day                             4597 non-null int64\n",
      "Pushed_Year                             4597 non-null int64\n",
      "Pushed_Month                            4597 non-null int64\n",
      "Pushed_Day                              4597 non-null int64\n",
      "dtypes: float64(6), int64(7), object(2)\n",
      "memory usage: 734.6+ KB\n"
     ]
    }
   ],
   "source": [
    "df.info()"
   ]
  },
  {
   "cell_type": "code",
   "execution_count": 54,
   "metadata": {},
   "outputs": [
    {
     "name": "stderr",
     "output_type": "stream",
     "text": [
      "/Library/Frameworks/Python.framework/Versions/3.7/lib/python3.7/site-packages/sklearn/preprocessing/data.py:645: DataConversionWarning: Data with input dtype int64, float64 were all converted to float64 by StandardScaler.\n",
      "  return self.partial_fit(X, y)\n",
      "/Library/Frameworks/Python.framework/Versions/3.7/lib/python3.7/site-packages/sklearn/base.py:464: DataConversionWarning: Data with input dtype int64, float64 were all converted to float64 by StandardScaler.\n",
      "  return self.fit(X, **fit_params).transform(X)\n"
     ]
    },
    {
     "data": {
      "image/png": "[encoded data removed]",
      "text/plain": [
       "<Figure size 432x288 with 1 Axes>"
      ]
     },
     "metadata": {},
     "output_type": "display_data"
    }
   ],
   "source": [
    "# X = df.drop(['repo_id','Repo_description','repo/username','Created_Year','Created_Month','Created_Day','Pushed_Year','Pushed_Month','Pushed_Day'], axis=1)\n",
    "# X = df['contributors_count_without_anonymous','contributors_count_with_anonymous','size','stars']\n",
    "X = df.drop(['Repo_description','repo/username'], axis=1)\n",
    "Cluster_Kmeans_Elbow(X)"
   ]
  },
  {
   "cell_type": "code",
   "execution_count": 55,
   "metadata": {},
   "outputs": [
    {
     "data": {
      "text/html": [
       "<div>\n",
       "<style scoped>\n",
       "    .dataframe tbody tr th:only-of-type {\n",
       "        vertical-align: middle;\n",
       "    }\n",
       "\n",
       "    .dataframe tbody tr th {\n",
       "        vertical-align: top;\n",
       "    }\n",
       "\n",
       "    .dataframe thead th {\n",
       "        text-align: right;\n",
       "    }\n",
       "</style>\n",
       "<table border=\"1\" class=\"dataframe\">\n",
       "  <thead>\n",
       "    <tr style=\"text-align: right;\">\n",
       "      <th></th>\n",
       "      <th>repo_id</th>\n",
       "      <th>Primary Language</th>\n",
       "      <th>size</th>\n",
       "      <th>stars</th>\n",
       "      <th>commits_count</th>\n",
       "      <th>contributors_count_without_anonymous</th>\n",
       "      <th>contributors_count_with_anonymous</th>\n",
       "      <th>Created_Year</th>\n",
       "      <th>Created_Month</th>\n",
       "      <th>Created_Day</th>\n",
       "      <th>Pushed_Year</th>\n",
       "      <th>Pushed_Month</th>\n",
       "      <th>Pushed_Day</th>\n",
       "    </tr>\n",
       "  </thead>\n",
       "  <tbody>\n",
       "    <tr>\n",
       "      <th>0</th>\n",
       "      <td>1.0</td>\n",
       "      <td>9</td>\n",
       "      <td>7954.0</td>\n",
       "      <td>1877.0</td>\n",
       "      <td>516.0</td>\n",
       "      <td>43.0</td>\n",
       "      <td>48.0</td>\n",
       "      <td>2007</td>\n",
       "      <td>10</td>\n",
       "      <td>29</td>\n",
       "      <td>2017</td>\n",
       "      <td>8</td>\n",
       "      <td>3</td>\n",
       "    </tr>\n",
       "  </tbody>\n",
       "</table>\n",
       "</div>"
      ],
      "text/plain": [
       "   repo_id  Primary Language    size   stars  commits_count  \\\n",
       "0      1.0                 9  7954.0  1877.0          516.0   \n",
       "\n",
       "   contributors_count_without_anonymous  contributors_count_with_anonymous  \\\n",
       "0                                  43.0                               48.0   \n",
       "\n",
       "   Created_Year  Created_Month  Created_Day  Pushed_Year  Pushed_Month  \\\n",
       "0          2007             10           29         2017             8   \n",
       "\n",
       "   Pushed_Day  \n",
       "0           3  "
      ]
     },
     "execution_count": 55,
     "metadata": {},
     "output_type": "execute_result"
    }
   ],
   "source": [
    "X.head(1)"
   ]
  },
  {
   "cell_type": "code",
   "execution_count": 56,
   "metadata": {},
   "outputs": [
    {
     "name": "stderr",
     "output_type": "stream",
     "text": [
      "/Library/Frameworks/Python.framework/Versions/3.7/lib/python3.7/site-packages/sklearn/preprocessing/data.py:645: DataConversionWarning: Data with input dtype int64, float64 were all converted to float64 by StandardScaler.\n",
      "  return self.partial_fit(X, y)\n",
      "/Library/Frameworks/Python.framework/Versions/3.7/lib/python3.7/site-packages/sklearn/base.py:464: DataConversionWarning: Data with input dtype int64, float64 were all converted to float64 by StandardScaler.\n",
      "  return self.fit(X, **fit_params).transform(X)\n"
     ]
    }
   ],
   "source": [
    "df_km = Cluster_Kmeans(X,6)"
   ]
  },
  {
   "cell_type": "code",
   "execution_count": 57,
   "metadata": {},
   "outputs": [
    {
     "data": {
      "text/plain": [
       "4.0    1562\n",
       "1.0    1120\n",
       "5.0     937\n",
       "3.0     586\n",
       "0.0     389\n",
       "2.0       3\n",
       "Name: Cluster, dtype: int64"
      ]
     },
     "execution_count": 57,
     "metadata": {},
     "output_type": "execute_result"
    }
   ],
   "source": [
    "df_km.Cluster.value_counts()"
   ]
  },
  {
   "cell_type": "code",
   "execution_count": 58,
   "metadata": {},
   "outputs": [
    {
     "data": {
      "text/html": [
       "<div>\n",
       "<style scoped>\n",
       "    .dataframe tbody tr th:only-of-type {\n",
       "        vertical-align: middle;\n",
       "    }\n",
       "\n",
       "    .dataframe tbody tr th {\n",
       "        vertical-align: top;\n",
       "    }\n",
       "\n",
       "    .dataframe thead th {\n",
       "        text-align: right;\n",
       "    }\n",
       "</style>\n",
       "<table border=\"1\" class=\"dataframe\">\n",
       "  <thead>\n",
       "    <tr style=\"text-align: right;\">\n",
       "      <th></th>\n",
       "      <th>repo_id</th>\n",
       "      <th>Primary Language</th>\n",
       "      <th>Repo_description</th>\n",
       "      <th>size</th>\n",
       "      <th>stars</th>\n",
       "      <th>commits_count</th>\n",
       "      <th>contributors_count_without_anonymous</th>\n",
       "      <th>contributors_count_with_anonymous</th>\n",
       "      <th>repo/username</th>\n",
       "      <th>Created_Year</th>\n",
       "      <th>Created_Month</th>\n",
       "      <th>Created_Day</th>\n",
       "      <th>Pushed_Year</th>\n",
       "      <th>Pushed_Month</th>\n",
       "      <th>Pushed_Day</th>\n",
       "      <th>Cluster</th>\n",
       "    </tr>\n",
       "  </thead>\n",
       "  <tbody>\n",
       "  </tbody>\n",
       "</table>\n",
       "</div>"
      ],
      "text/plain": [
       "Empty DataFrame\n",
       "Columns: [repo_id, Primary Language, Repo_description, size, stars, commits_count, contributors_count_without_anonymous, contributors_count_with_anonymous, repo/username, Created_Year, Created_Month, Created_Day, Pushed_Year, Pushed_Month, Pushed_Day, Cluster]\n",
       "Index: []"
      ]
     },
     "execution_count": 58,
     "metadata": {},
     "output_type": "execute_result"
    }
   ],
   "source": [
    "df_km[df_km['Cluster'] == 6].head()"
   ]
  },
  {
   "cell_type": "code",
   "execution_count": 59,
   "metadata": {},
   "outputs": [
    {
     "data": {
      "text/plain": [
       "<matplotlib.axes._subplots.AxesSubplot at 0x1233db5c0>"
      ]
     },
     "execution_count": 59,
     "metadata": {},
     "output_type": "execute_result"
    },
    {
     "data": {
      "image/png": "[encoded data removed]",
      "text/plain": [
       "<Figure size 720x576 with 2 Axes>"
      ]
     },
     "metadata": {},
     "output_type": "display_data"
    }
   ],
   "source": [
    "fi, axis = plt.subplots(figsize=(10, 8))\n",
    "corr = df_km.corr()\n",
    "sns.heatmap(corr, mask=np.zeros_like(corr, dtype=np.bool), cmap=sns.diverging_palette(200,10,as_cmap=True), \n",
    "           square=True, ax=axis)"
   ]
  },
  {
   "cell_type": "markdown",
   "metadata": {},
   "source": [
    "## PCA"
   ]
  },
  {
   "cell_type": "code",
   "execution_count": 60,
   "metadata": {},
   "outputs": [],
   "source": [
    "from sklearn.decomposition import PCA"
   ]
  },
  {
   "cell_type": "code",
   "execution_count": 61,
   "metadata": {},
   "outputs": [],
   "source": [
    "def PCA_Plot(df_km):\n",
    "    X =df_km.drop(['repo_id','Repo_description','repo/username','Cluster'], axis=1)\n",
    "#     print(X)\n",
    "    X = X.dropna()\n",
    "    pca = PCA(n_components=2)\n",
    "    principalComponents = pca.fit_transform(X)\n",
    "    principalDf = pd.DataFrame(data = principalComponents, columns = ['xaxis', 'yaxis'])\n",
    "    pca_cluster =  pd.concat([principalDf, df_km['Cluster']], axis = 1)\n",
    "    sns.scatterplot(y='xaxis', x='yaxis', hue='Cluster', palette=\"Set2\",data=pca_cluster)"
   ]
  },
  {
   "cell_type": "code",
   "execution_count": null,
   "metadata": {},
   "outputs": [],
   "source": []
  },
  {
   "cell_type": "code",
   "execution_count": 62,
   "metadata": {},
   "outputs": [
    {
     "data": {
      "image/png": "[encoded data removed]",
      "text/plain": [
       "<Figure size 432x288 with 1 Axes>"
      ]
     },
     "metadata": {},
     "output_type": "display_data"
    }
   ],
   "source": [
    "PCA_Plot(df_km)"
   ]
  },
  {
   "cell_type": "markdown",
   "metadata": {},
   "source": [
    "## Keras, tensorflow"
   ]
  },
  {
   "cell_type": "code",
   "execution_count": 63,
   "metadata": {},
   "outputs": [],
   "source": [
    "import tensorflow as tf\n",
    "# print(tf.__version__)"
   ]
  },
  {
   "cell_type": "code",
   "execution_count": 64,
   "metadata": {},
   "outputs": [],
   "source": [
    "from tensorflow import keras\n",
    "import matplotlib.pyplot as plt\n",
    "import numpy as np\n",
    "from sklearn.model_selection import train_test_split"
   ]
  },
  {
   "cell_type": "markdown",
   "metadata": {},
   "source": [
    "## Split data"
   ]
  },
  {
   "cell_type": "code",
   "execution_count": 65,
   "metadata": {},
   "outputs": [],
   "source": [
    "import sklearn as sk\n",
    "from sklearn.neural_network import MLPClassifier #testmodel"
   ]
  },
  {
   "cell_type": "code",
   "execution_count": 66,
   "metadata": {},
   "outputs": [
    {
     "data": {
      "text/html": [
       "<div>\n",
       "<style scoped>\n",
       "    .dataframe tbody tr th:only-of-type {\n",
       "        vertical-align: middle;\n",
       "    }\n",
       "\n",
       "    .dataframe tbody tr th {\n",
       "        vertical-align: top;\n",
       "    }\n",
       "\n",
       "    .dataframe thead th {\n",
       "        text-align: right;\n",
       "    }\n",
       "</style>\n",
       "<table border=\"1\" class=\"dataframe\">\n",
       "  <thead>\n",
       "    <tr style=\"text-align: right;\">\n",
       "      <th></th>\n",
       "      <th>repo_id</th>\n",
       "      <th>Primary Language</th>\n",
       "      <th>Repo_description</th>\n",
       "      <th>size</th>\n",
       "      <th>stars</th>\n",
       "      <th>commits_count</th>\n",
       "      <th>contributors_count_without_anonymous</th>\n",
       "      <th>contributors_count_with_anonymous</th>\n",
       "      <th>repo/username</th>\n",
       "      <th>Created_Year</th>\n",
       "      <th>Created_Month</th>\n",
       "      <th>Created_Day</th>\n",
       "      <th>Pushed_Year</th>\n",
       "      <th>Pushed_Month</th>\n",
       "      <th>Pushed_Day</th>\n",
       "    </tr>\n",
       "  </thead>\n",
       "  <tbody>\n",
       "    <tr>\n",
       "      <th>0</th>\n",
       "      <td>1.0</td>\n",
       "      <td>9</td>\n",
       "      <td>**Grit is no longer maintained. Check out libg...</td>\n",
       "      <td>7954.0</td>\n",
       "      <td>1877.0</td>\n",
       "      <td>516.0</td>\n",
       "      <td>43.0</td>\n",
       "      <td>48.0</td>\n",
       "      <td>grit</td>\n",
       "      <td>2007</td>\n",
       "      <td>10</td>\n",
       "      <td>29</td>\n",
       "      <td>2017</td>\n",
       "      <td>8</td>\n",
       "      <td>3</td>\n",
       "    </tr>\n",
       "    <tr>\n",
       "      <th>1</th>\n",
       "      <td>144.0</td>\n",
       "      <td>9</td>\n",
       "      <td>Chronic is a pure Ruby natural language date p...</td>\n",
       "      <td>681.0</td>\n",
       "      <td>2809.0</td>\n",
       "      <td>630.0</td>\n",
       "      <td>51.0</td>\n",
       "      <td>67.0</td>\n",
       "      <td>chronic</td>\n",
       "      <td>2008</td>\n",
       "      <td>1</td>\n",
       "      <td>29</td>\n",
       "      <td>2018</td>\n",
       "      <td>1</td>\n",
       "      <td>12</td>\n",
       "    </tr>\n",
       "  </tbody>\n",
       "</table>\n",
       "</div>"
      ],
      "text/plain": [
       "   repo_id  Primary Language  \\\n",
       "0      1.0                 9   \n",
       "1    144.0                 9   \n",
       "\n",
       "                                    Repo_description    size   stars  \\\n",
       "0  **Grit is no longer maintained. Check out libg...  7954.0  1877.0   \n",
       "1  Chronic is a pure Ruby natural language date p...   681.0  2809.0   \n",
       "\n",
       "   commits_count  contributors_count_without_anonymous  \\\n",
       "0          516.0                                  43.0   \n",
       "1          630.0                                  51.0   \n",
       "\n",
       "   contributors_count_with_anonymous repo/username  Created_Year  \\\n",
       "0                               48.0          grit          2007   \n",
       "1                               67.0       chronic          2008   \n",
       "\n",
       "   Created_Month  Created_Day  Pushed_Year  Pushed_Month  Pushed_Day  \n",
       "0             10           29         2017             8           3  \n",
       "1              1           29         2018             1          12  "
      ]
     },
     "execution_count": 66,
     "metadata": {},
     "output_type": "execute_result"
    }
   ],
   "source": [
    "df.head(2)"
   ]
  },
  {
   "cell_type": "code",
   "execution_count": 67,
   "metadata": {},
   "outputs": [
    {
     "data": {
      "text/html": [
       "<div>\n",
       "<style scoped>\n",
       "    .dataframe tbody tr th:only-of-type {\n",
       "        vertical-align: middle;\n",
       "    }\n",
       "\n",
       "    .dataframe tbody tr th {\n",
       "        vertical-align: top;\n",
       "    }\n",
       "\n",
       "    .dataframe thead th {\n",
       "        text-align: right;\n",
       "    }\n",
       "</style>\n",
       "<table border=\"1\" class=\"dataframe\">\n",
       "  <thead>\n",
       "    <tr style=\"text-align: right;\">\n",
       "      <th></th>\n",
       "      <th>repo_id</th>\n",
       "      <th>Primary Language</th>\n",
       "      <th>Repo_description</th>\n",
       "      <th>size</th>\n",
       "      <th>stars</th>\n",
       "      <th>commits_count</th>\n",
       "      <th>contributors_count_without_anonymous</th>\n",
       "      <th>contributors_count_with_anonymous</th>\n",
       "      <th>repo/username</th>\n",
       "      <th>Created_Year</th>\n",
       "      <th>Created_Month</th>\n",
       "      <th>Created_Day</th>\n",
       "      <th>Pushed_Year</th>\n",
       "      <th>Pushed_Month</th>\n",
       "      <th>Pushed_Day</th>\n",
       "      <th>Cluster</th>\n",
       "    </tr>\n",
       "  </thead>\n",
       "  <tbody>\n",
       "    <tr>\n",
       "      <th>0</th>\n",
       "      <td>1.0</td>\n",
       "      <td>9.0</td>\n",
       "      <td>**Grit is no longer maintained. Check out libg...</td>\n",
       "      <td>7954.0</td>\n",
       "      <td>1877.0</td>\n",
       "      <td>516.0</td>\n",
       "      <td>43.0</td>\n",
       "      <td>48.0</td>\n",
       "      <td>grit</td>\n",
       "      <td>2007.0</td>\n",
       "      <td>10.0</td>\n",
       "      <td>29.0</td>\n",
       "      <td>2017.0</td>\n",
       "      <td>8.0</td>\n",
       "      <td>3.0</td>\n",
       "      <td>4.0</td>\n",
       "    </tr>\n",
       "    <tr>\n",
       "      <th>1</th>\n",
       "      <td>144.0</td>\n",
       "      <td>9.0</td>\n",
       "      <td>Chronic is a pure Ruby natural language date p...</td>\n",
       "      <td>681.0</td>\n",
       "      <td>2809.0</td>\n",
       "      <td>630.0</td>\n",
       "      <td>51.0</td>\n",
       "      <td>67.0</td>\n",
       "      <td>chronic</td>\n",
       "      <td>2008.0</td>\n",
       "      <td>1.0</td>\n",
       "      <td>29.0</td>\n",
       "      <td>2018.0</td>\n",
       "      <td>1.0</td>\n",
       "      <td>12.0</td>\n",
       "      <td>4.0</td>\n",
       "    </tr>\n",
       "  </tbody>\n",
       "</table>\n",
       "</div>"
      ],
      "text/plain": [
       "   repo_id  Primary Language  \\\n",
       "0      1.0               9.0   \n",
       "1    144.0               9.0   \n",
       "\n",
       "                                    Repo_description    size   stars  \\\n",
       "0  **Grit is no longer maintained. Check out libg...  7954.0  1877.0   \n",
       "1  Chronic is a pure Ruby natural language date p...   681.0  2809.0   \n",
       "\n",
       "   commits_count  contributors_count_without_anonymous  \\\n",
       "0          516.0                                  43.0   \n",
       "1          630.0                                  51.0   \n",
       "\n",
       "   contributors_count_with_anonymous repo/username  Created_Year  \\\n",
       "0                               48.0          grit        2007.0   \n",
       "1                               67.0       chronic        2008.0   \n",
       "\n",
       "   Created_Month  Created_Day  Pushed_Year  Pushed_Month  Pushed_Day  Cluster  \n",
       "0           10.0         29.0       2017.0           8.0         3.0      4.0  \n",
       "1            1.0         29.0       2018.0           1.0        12.0      4.0  "
      ]
     },
     "execution_count": 67,
     "metadata": {},
     "output_type": "execute_result"
    }
   ],
   "source": [
    "df_km.head(2)"
   ]
  },
  {
   "cell_type": "code",
   "execution_count": 68,
   "metadata": {},
   "outputs": [],
   "source": [
    "df_DL = df_km.dropna()\n",
    "X = df_DL.drop(['Repo_description','repo/username','Primary Language'], axis=1)\n",
    "Y = df_DL['Primary Language']"
   ]
  },
  {
   "cell_type": "code",
   "execution_count": 69,
   "metadata": {},
   "outputs": [],
   "source": [
    "X_train, X_rest, Y_train, Y_rest = train_test_split(X, Y, test_size=0.10)\n",
    "X_valid, X_test, Y_valid, Y_test = train_test_split(X_rest, Y_rest, test_size=0.50)"
   ]
  },
  {
   "cell_type": "code",
   "execution_count": 70,
   "metadata": {},
   "outputs": [
    {
     "data": {
      "text/plain": [
       "4592    5.0\n",
       "4593    5.0\n",
       "4594    5.0\n",
       "4595    2.0\n",
       "4596    3.0\n",
       "Name: Primary Language, dtype: float64"
      ]
     },
     "execution_count": 70,
     "metadata": {},
     "output_type": "execute_result"
    }
   ],
   "source": [
    "Y.tail()"
   ]
  },
  {
   "cell_type": "code",
   "execution_count": 71,
   "metadata": {},
   "outputs": [
    {
     "data": {
      "text/plain": [
       "(4136, 13)"
      ]
     },
     "execution_count": 71,
     "metadata": {},
     "output_type": "execute_result"
    }
   ],
   "source": [
    "X_train.shape"
   ]
  },
  {
   "cell_type": "code",
   "execution_count": 72,
   "metadata": {},
   "outputs": [
    {
     "data": {
      "text/plain": [
       "(4136,)"
      ]
     },
     "execution_count": 72,
     "metadata": {},
     "output_type": "execute_result"
    }
   ],
   "source": [
    "Y_train.shape"
   ]
  },
  {
   "cell_type": "code",
   "execution_count": 73,
   "metadata": {},
   "outputs": [
    {
     "data": {
      "text/plain": [
       "(460, 13)"
      ]
     },
     "execution_count": 73,
     "metadata": {},
     "output_type": "execute_result"
    }
   ],
   "source": [
    "X_rest.shape"
   ]
  },
  {
   "cell_type": "code",
   "execution_count": 74,
   "metadata": {},
   "outputs": [
    {
     "data": {
      "text/plain": [
       "(230,)"
      ]
     },
     "execution_count": 74,
     "metadata": {},
     "output_type": "execute_result"
    }
   ],
   "source": [
    "Y_test.shape"
   ]
  },
  {
   "cell_type": "code",
   "execution_count": 75,
   "metadata": {},
   "outputs": [
    {
     "data": {
      "text/html": [
       "<div>\n",
       "<style scoped>\n",
       "    .dataframe tbody tr th:only-of-type {\n",
       "        vertical-align: middle;\n",
       "    }\n",
       "\n",
       "    .dataframe tbody tr th {\n",
       "        vertical-align: top;\n",
       "    }\n",
       "\n",
       "    .dataframe thead th {\n",
       "        text-align: right;\n",
       "    }\n",
       "</style>\n",
       "<table border=\"1\" class=\"dataframe\">\n",
       "  <thead>\n",
       "    <tr style=\"text-align: right;\">\n",
       "      <th></th>\n",
       "      <th>repo_id</th>\n",
       "      <th>size</th>\n",
       "      <th>stars</th>\n",
       "      <th>commits_count</th>\n",
       "      <th>contributors_count_without_anonymous</th>\n",
       "      <th>contributors_count_with_anonymous</th>\n",
       "      <th>Created_Year</th>\n",
       "      <th>Created_Month</th>\n",
       "      <th>Created_Day</th>\n",
       "      <th>Pushed_Year</th>\n",
       "      <th>Pushed_Month</th>\n",
       "      <th>Pushed_Day</th>\n",
       "      <th>Cluster</th>\n",
       "    </tr>\n",
       "  </thead>\n",
       "  <tbody>\n",
       "    <tr>\n",
       "      <th>4592</th>\n",
       "      <td>113065002.0</td>\n",
       "      <td>3744.0</td>\n",
       "      <td>1754.0</td>\n",
       "      <td>38.0</td>\n",
       "      <td>4.0</td>\n",
       "      <td>4.0</td>\n",
       "      <td>2017.0</td>\n",
       "      <td>12.0</td>\n",
       "      <td>4.0</td>\n",
       "      <td>2018.0</td>\n",
       "      <td>1.0</td>\n",
       "      <td>29.0</td>\n",
       "      <td>0.0</td>\n",
       "    </tr>\n",
       "    <tr>\n",
       "      <th>4593</th>\n",
       "      <td>113351554.0</td>\n",
       "      <td>99.0</td>\n",
       "      <td>1868.0</td>\n",
       "      <td>129.0</td>\n",
       "      <td>16.0</td>\n",
       "      <td>17.0</td>\n",
       "      <td>2017.0</td>\n",
       "      <td>12.0</td>\n",
       "      <td>6.0</td>\n",
       "      <td>2018.0</td>\n",
       "      <td>3.0</td>\n",
       "      <td>5.0</td>\n",
       "      <td>0.0</td>\n",
       "    </tr>\n",
       "    <tr>\n",
       "      <th>4594</th>\n",
       "      <td>113912360.0</td>\n",
       "      <td>159.0</td>\n",
       "      <td>2004.0</td>\n",
       "      <td>166.0</td>\n",
       "      <td>23.0</td>\n",
       "      <td>25.0</td>\n",
       "      <td>2017.0</td>\n",
       "      <td>12.0</td>\n",
       "      <td>11.0</td>\n",
       "      <td>2018.0</td>\n",
       "      <td>3.0</td>\n",
       "      <td>15.0</td>\n",
       "      <td>0.0</td>\n",
       "    </tr>\n",
       "    <tr>\n",
       "      <th>4595</th>\n",
       "      <td>113967646.0</td>\n",
       "      <td>5305.0</td>\n",
       "      <td>3698.0</td>\n",
       "      <td>346.0</td>\n",
       "      <td>10.0</td>\n",
       "      <td>11.0</td>\n",
       "      <td>2017.0</td>\n",
       "      <td>12.0</td>\n",
       "      <td>12.0</td>\n",
       "      <td>2018.0</td>\n",
       "      <td>3.0</td>\n",
       "      <td>14.0</td>\n",
       "      <td>0.0</td>\n",
       "    </tr>\n",
       "    <tr>\n",
       "      <th>4596</th>\n",
       "      <td>114781987.0</td>\n",
       "      <td>167.0</td>\n",
       "      <td>1478.0</td>\n",
       "      <td>84.0</td>\n",
       "      <td>8.0</td>\n",
       "      <td>9.0</td>\n",
       "      <td>2017.0</td>\n",
       "      <td>12.0</td>\n",
       "      <td>19.0</td>\n",
       "      <td>2018.0</td>\n",
       "      <td>2.0</td>\n",
       "      <td>18.0</td>\n",
       "      <td>0.0</td>\n",
       "    </tr>\n",
       "  </tbody>\n",
       "</table>\n",
       "</div>"
      ],
      "text/plain": [
       "          repo_id    size   stars  commits_count  \\\n",
       "4592  113065002.0  3744.0  1754.0           38.0   \n",
       "4593  113351554.0    99.0  1868.0          129.0   \n",
       "4594  113912360.0   159.0  2004.0          166.0   \n",
       "4595  113967646.0  5305.0  3698.0          346.0   \n",
       "4596  114781987.0   167.0  1478.0           84.0   \n",
       "\n",
       "      contributors_count_without_anonymous  contributors_count_with_anonymous  \\\n",
       "4592                                   4.0                                4.0   \n",
       "4593                                  16.0                               17.0   \n",
       "4594                                  23.0                               25.0   \n",
       "4595                                  10.0                               11.0   \n",
       "4596                                   8.0                                9.0   \n",
       "\n",
       "      Created_Year  Created_Month  Created_Day  Pushed_Year  Pushed_Month  \\\n",
       "4592        2017.0           12.0          4.0       2018.0           1.0   \n",
       "4593        2017.0           12.0          6.0       2018.0           3.0   \n",
       "4594        2017.0           12.0         11.0       2018.0           3.0   \n",
       "4595        2017.0           12.0         12.0       2018.0           3.0   \n",
       "4596        2017.0           12.0         19.0       2018.0           2.0   \n",
       "\n",
       "      Pushed_Day  Cluster  \n",
       "4592        29.0      0.0  \n",
       "4593         5.0      0.0  \n",
       "4594        15.0      0.0  \n",
       "4595        14.0      0.0  \n",
       "4596        18.0      0.0  "
      ]
     },
     "execution_count": 75,
     "metadata": {},
     "output_type": "execute_result"
    }
   ],
   "source": [
    "X.tail()"
   ]
  },
  {
   "cell_type": "markdown",
   "metadata": {},
   "source": [
    "## MLPClassifier"
   ]
  },
  {
   "cell_type": "code",
   "execution_count": 76,
   "metadata": {},
   "outputs": [],
   "source": [
    "NN = MLPClassifier(solver='lbfgs', alpha = 1e-5, hidden_layer_sizes=(5,2), random_state=1)"
   ]
  },
  {
   "cell_type": "code",
   "execution_count": 77,
   "metadata": {},
   "outputs": [
    {
     "data": {
      "text/plain": [
       "MLPClassifier(activation='relu', alpha=1e-05, batch_size='auto', beta_1=0.9,\n",
       "       beta_2=0.999, early_stopping=False, epsilon=1e-08,\n",
       "       hidden_layer_sizes=(5, 2), learning_rate='constant',\n",
       "       learning_rate_init=0.001, max_iter=200, momentum=0.9,\n",
       "       n_iter_no_change=10, nesterovs_momentum=True, power_t=0.5,\n",
       "       random_state=1, shuffle=True, solver='lbfgs', tol=0.0001,\n",
       "       validation_fraction=0.1, verbose=False, warm_start=False)"
      ]
     },
     "execution_count": 77,
     "metadata": {},
     "output_type": "execute_result"
    }
   ],
   "source": [
    "NN.fit(X_train,Y_train)"
   ]
  },
  {
   "cell_type": "code",
   "execution_count": 78,
   "metadata": {},
   "outputs": [],
   "source": [
    "Y_trainpre = NN.predict(X_train)\n",
    "Y_testpre = NN.predict(X_test)\n",
    "Y_validpre = NN.predict(X_valid)"
   ]
  },
  {
   "cell_type": "code",
   "execution_count": 79,
   "metadata": {},
   "outputs": [],
   "source": [
    "from sklearn.metrics import mean_squared_error"
   ]
  },
  {
   "cell_type": "code",
   "execution_count": 80,
   "metadata": {},
   "outputs": [
    {
     "name": "stdout",
     "output_type": "stream",
     "text": [
      "train:  10.059235976789168\n",
      "valid:  9.78695652173913\n",
      "test:  12.169565217391304\n"
     ]
    }
   ],
   "source": [
    "print('train: ', mean_squared_error(Y_train, Y_trainpre))\n",
    "print('valid: ', mean_squared_error(Y_valid, Y_validpre))\n",
    "print('test: ', mean_squared_error(Y_test, Y_testpre))"
   ]
  },
  {
   "cell_type": "code",
   "execution_count": 81,
   "metadata": {},
   "outputs": [
    {
     "data": {
      "text/plain": [
       "0.07963446475195822"
      ]
     },
     "execution_count": 81,
     "metadata": {},
     "output_type": "execute_result"
    }
   ],
   "source": [
    "NN.score(X,Y)"
   ]
  },
  {
   "cell_type": "code",
   "execution_count": 82,
   "metadata": {},
   "outputs": [
    {
     "data": {
      "text/plain": [
       "0.0783"
      ]
     },
     "execution_count": 82,
     "metadata": {},
     "output_type": "execute_result"
    }
   ],
   "source": [
    "round(NN.score(X_test,Y_test),4)"
   ]
  },
  {
   "cell_type": "markdown",
   "metadata": {},
   "source": [
    "## RandomForestClassifier"
   ]
  },
  {
   "cell_type": "code",
   "execution_count": 83,
   "metadata": {},
   "outputs": [],
   "source": [
    "from sklearn.ensemble import RandomForestRegressor"
   ]
  },
  {
   "cell_type": "code",
   "execution_count": 84,
   "metadata": {},
   "outputs": [],
   "source": [
    "rf = RandomForestRegressor(n_estimators = 1000, random_state = 42)"
   ]
  },
  {
   "cell_type": "code",
   "execution_count": 85,
   "metadata": {},
   "outputs": [
    {
     "data": {
      "text/plain": [
       "RandomForestRegressor(bootstrap=True, criterion='mse', max_depth=None,\n",
       "           max_features='auto', max_leaf_nodes=None,\n",
       "           min_impurity_decrease=0.0, min_impurity_split=None,\n",
       "           min_samples_leaf=1, min_samples_split=2,\n",
       "           min_weight_fraction_leaf=0.0, n_estimators=1000, n_jobs=None,\n",
       "           oob_score=False, random_state=42, verbose=0, warm_start=False)"
      ]
     },
     "execution_count": 85,
     "metadata": {},
     "output_type": "execute_result"
    }
   ],
   "source": [
    "rf.fit(X_train, Y_train)"
   ]
  },
  {
   "cell_type": "code",
   "execution_count": 86,
   "metadata": {},
   "outputs": [
    {
     "data": {
      "text/plain": [
       "0.016873343630560256"
      ]
     },
     "execution_count": 86,
     "metadata": {},
     "output_type": "execute_result"
    }
   ],
   "source": [
    "rf.score(X_test, Y_test)"
   ]
  },
  {
   "cell_type": "code",
   "execution_count": 87,
   "metadata": {},
   "outputs": [],
   "source": [
    "Y_trainpre = rf.predict(X_train)\n",
    "Y_testpre = rf.predict(X_test)\n",
    "Y_validpre = rf.predict(X_valid)"
   ]
  },
  {
   "cell_type": "code",
   "execution_count": 88,
   "metadata": {},
   "outputs": [
    {
     "name": "stdout",
     "output_type": "stream",
     "text": [
      "train:  0.6070867857833656\n",
      "valid:  4.778526982608695\n",
      "test:  5.0715397\n"
     ]
    }
   ],
   "source": [
    "print('train: ', mean_squared_error(Y_train, Y_trainpre))\n",
    "print('valid: ', mean_squared_error(Y_valid, Y_validpre))\n",
    "print('test: ', mean_squared_error(Y_test, Y_testpre))"
   ]
  },
  {
   "cell_type": "markdown",
   "metadata": {},
   "source": [
    "## More DL"
   ]
  },
  {
   "cell_type": "code",
   "execution_count": 89,
   "metadata": {},
   "outputs": [],
   "source": [
    "# X_train = df_DL.drop(['Primary Language'], axis= 1)"
   ]
  },
  {
   "cell_type": "code",
   "execution_count": 90,
   "metadata": {},
   "outputs": [],
   "source": [
    "# Y_train = df[['Primary Language']]"
   ]
  },
  {
   "cell_type": "code",
   "execution_count": 91,
   "metadata": {},
   "outputs": [],
   "source": [
    "df_model_DL = df_km.dropna()\n",
    "X = df_DL.drop(['Repo_description','repo/username','Primary Language'], axis=1)\n",
    "Y = df_DL['Primary Language']"
   ]
  },
  {
   "cell_type": "code",
   "execution_count": 92,
   "metadata": {},
   "outputs": [],
   "source": [
    "X_train, X_rest, Y_train, Y_rest = train_test_split(X, Y, test_size=0.10)\n",
    "X_valid, X_test, Y_valid, Y_test = train_test_split(X_rest, Y_rest, test_size=0.50)"
   ]
  },
  {
   "cell_type": "code",
   "execution_count": 93,
   "metadata": {},
   "outputs": [
    {
     "data": {
      "text/html": [
       "<div>\n",
       "<style scoped>\n",
       "    .dataframe tbody tr th:only-of-type {\n",
       "        vertical-align: middle;\n",
       "    }\n",
       "\n",
       "    .dataframe tbody tr th {\n",
       "        vertical-align: top;\n",
       "    }\n",
       "\n",
       "    .dataframe thead th {\n",
       "        text-align: right;\n",
       "    }\n",
       "</style>\n",
       "<table border=\"1\" class=\"dataframe\">\n",
       "  <thead>\n",
       "    <tr style=\"text-align: right;\">\n",
       "      <th></th>\n",
       "      <th>repo_id</th>\n",
       "      <th>size</th>\n",
       "      <th>stars</th>\n",
       "      <th>commits_count</th>\n",
       "      <th>contributors_count_without_anonymous</th>\n",
       "      <th>contributors_count_with_anonymous</th>\n",
       "      <th>Created_Year</th>\n",
       "      <th>Created_Month</th>\n",
       "      <th>Created_Day</th>\n",
       "      <th>Pushed_Year</th>\n",
       "      <th>Pushed_Month</th>\n",
       "      <th>Pushed_Day</th>\n",
       "      <th>Cluster</th>\n",
       "    </tr>\n",
       "  </thead>\n",
       "  <tbody>\n",
       "    <tr>\n",
       "      <th>4574</th>\n",
       "      <td>108395495.0</td>\n",
       "      <td>3152.0</td>\n",
       "      <td>10567.0</td>\n",
       "      <td>200.0</td>\n",
       "      <td>16.0</td>\n",
       "      <td>17.0</td>\n",
       "      <td>2017.0</td>\n",
       "      <td>10.0</td>\n",
       "      <td>26.0</td>\n",
       "      <td>2018.0</td>\n",
       "      <td>3.0</td>\n",
       "      <td>6.0</td>\n",
       "      <td>0.0</td>\n",
       "    </tr>\n",
       "    <tr>\n",
       "      <th>652</th>\n",
       "      <td>3995054.0</td>\n",
       "      <td>12259.0</td>\n",
       "      <td>4280.0</td>\n",
       "      <td>41.0</td>\n",
       "      <td>4.0</td>\n",
       "      <td>7.0</td>\n",
       "      <td>2012.0</td>\n",
       "      <td>4.0</td>\n",
       "      <td>11.0</td>\n",
       "      <td>2017.0</td>\n",
       "      <td>12.0</td>\n",
       "      <td>24.0</td>\n",
       "      <td>4.0</td>\n",
       "    </tr>\n",
       "    <tr>\n",
       "      <th>1627</th>\n",
       "      <td>15958352.0</td>\n",
       "      <td>768.0</td>\n",
       "      <td>1745.0</td>\n",
       "      <td>364.0</td>\n",
       "      <td>53.0</td>\n",
       "      <td>58.0</td>\n",
       "      <td>2014.0</td>\n",
       "      <td>1.0</td>\n",
       "      <td>16.0</td>\n",
       "      <td>2018.0</td>\n",
       "      <td>2.0</td>\n",
       "      <td>24.0</td>\n",
       "      <td>1.0</td>\n",
       "    </tr>\n",
       "    <tr>\n",
       "      <th>732</th>\n",
       "      <td>4808664.0</td>\n",
       "      <td>11635.0</td>\n",
       "      <td>1925.0</td>\n",
       "      <td>807.0</td>\n",
       "      <td>5.0</td>\n",
       "      <td>10.0</td>\n",
       "      <td>2012.0</td>\n",
       "      <td>6.0</td>\n",
       "      <td>27.0</td>\n",
       "      <td>2017.0</td>\n",
       "      <td>12.0</td>\n",
       "      <td>18.0</td>\n",
       "      <td>4.0</td>\n",
       "    </tr>\n",
       "    <tr>\n",
       "      <th>2439</th>\n",
       "      <td>29480568.0</td>\n",
       "      <td>15788.0</td>\n",
       "      <td>1306.0</td>\n",
       "      <td>3124.0</td>\n",
       "      <td>20.0</td>\n",
       "      <td>24.0</td>\n",
       "      <td>2015.0</td>\n",
       "      <td>1.0</td>\n",
       "      <td>19.0</td>\n",
       "      <td>2018.0</td>\n",
       "      <td>3.0</td>\n",
       "      <td>14.0</td>\n",
       "      <td>1.0</td>\n",
       "    </tr>\n",
       "  </tbody>\n",
       "</table>\n",
       "</div>"
      ],
      "text/plain": [
       "          repo_id     size    stars  commits_count  \\\n",
       "4574  108395495.0   3152.0  10567.0          200.0   \n",
       "652     3995054.0  12259.0   4280.0           41.0   \n",
       "1627   15958352.0    768.0   1745.0          364.0   \n",
       "732     4808664.0  11635.0   1925.0          807.0   \n",
       "2439   29480568.0  15788.0   1306.0         3124.0   \n",
       "\n",
       "      contributors_count_without_anonymous  contributors_count_with_anonymous  \\\n",
       "4574                                  16.0                               17.0   \n",
       "652                                    4.0                                7.0   \n",
       "1627                                  53.0                               58.0   \n",
       "732                                    5.0                               10.0   \n",
       "2439                                  20.0                               24.0   \n",
       "\n",
       "      Created_Year  Created_Month  Created_Day  Pushed_Year  Pushed_Month  \\\n",
       "4574        2017.0           10.0         26.0       2018.0           3.0   \n",
       "652         2012.0            4.0         11.0       2017.0          12.0   \n",
       "1627        2014.0            1.0         16.0       2018.0           2.0   \n",
       "732         2012.0            6.0         27.0       2017.0          12.0   \n",
       "2439        2015.0            1.0         19.0       2018.0           3.0   \n",
       "\n",
       "      Pushed_Day  Cluster  \n",
       "4574         6.0      0.0  \n",
       "652         24.0      4.0  \n",
       "1627        24.0      1.0  \n",
       "732         18.0      4.0  \n",
       "2439        14.0      1.0  "
      ]
     },
     "execution_count": 93,
     "metadata": {},
     "output_type": "execute_result"
    }
   ],
   "source": [
    "X_train.head()"
   ]
  },
  {
   "cell_type": "code",
   "execution_count": 94,
   "metadata": {},
   "outputs": [
    {
     "data": {
      "text/plain": [
       "4574    5.0\n",
       "652     5.0\n",
       "1627    8.0\n",
       "732     5.0\n",
       "2439    4.0\n",
       "Name: Primary Language, dtype: float64"
      ]
     },
     "execution_count": 94,
     "metadata": {},
     "output_type": "execute_result"
    }
   ],
   "source": [
    "Y_train.head()"
   ]
  },
  {
   "cell_type": "code",
   "execution_count": 95,
   "metadata": {},
   "outputs": [
    {
     "data": {
      "text/plain": [
       "13"
      ]
     },
     "execution_count": 95,
     "metadata": {},
     "output_type": "execute_result"
    }
   ],
   "source": [
    "X_train.shape[1]"
   ]
  },
  {
   "cell_type": "code",
   "execution_count": 96,
   "metadata": {},
   "outputs": [
    {
     "name": "stderr",
     "output_type": "stream",
     "text": [
      "Using TensorFlow backend.\n"
     ]
    }
   ],
   "source": [
    "from keras.models import Sequential\n",
    "from keras.layers import Dense"
   ]
  },
  {
   "cell_type": "code",
   "execution_count": 97,
   "metadata": {},
   "outputs": [],
   "source": [
    "n_cols = X_train.shape[1]\n",
    "model = Sequential()\n",
    "model.add(Dense(200, activation='relu', input_shape=(n_cols,)))\n",
    "model.add(Dense(200, activation='relu'))\n",
    "model.add(Dense(200, activation='relu'))\n",
    "model.add(Dense(1))"
   ]
  },
  {
   "cell_type": "code",
   "execution_count": 98,
   "metadata": {},
   "outputs": [],
   "source": [
    "# model.compile(optimizer='adam', loss='mean_squared_error')"
   ]
  },
  {
   "cell_type": "code",
   "execution_count": 99,
   "metadata": {},
   "outputs": [],
   "source": [
    "model.compile(loss='binary_crossentropy', optimizer='adam', metrics=['accuracy'])"
   ]
  },
  {
   "cell_type": "code",
   "execution_count": 100,
   "metadata": {},
   "outputs": [],
   "source": [
    "from keras.callbacks import EarlyStopping"
   ]
  },
  {
   "cell_type": "code",
   "execution_count": 101,
   "metadata": {},
   "outputs": [],
   "source": [
    "#set early stopping monitor so the model stops training when it won't improve anymore\n",
    "early_stopping_monitor = EarlyStopping(patience=3)"
   ]
  },
  {
   "cell_type": "code",
   "execution_count": 102,
   "metadata": {},
   "outputs": [
    {
     "name": "stdout",
     "output_type": "stream",
     "text": [
      "Epoch 1/30\n",
      "4136/4136 [==============================] - 1s 141us/step - loss: 85.7346 - acc: 0.0000e+00\n",
      "Epoch 2/30\n",
      "3104/4136 [=====================>........] - ETA: 0s - loss: 85.9441 - acc: 0.0000e+00"
     ]
    },
    {
     "name": "stderr",
     "output_type": "stream",
     "text": [
      "/Library/Frameworks/Python.framework/Versions/3.7/lib/python3.7/site-packages/keras/callbacks.py:569: RuntimeWarning: Early stopping conditioned on metric `val_loss` which is not available. Available metrics are: loss,acc\n",
      "  (self.monitor, ','.join(list(logs.keys()))), RuntimeWarning\n"
     ]
    },
    {
     "name": "stdout",
     "output_type": "stream",
     "text": [
      "4136/4136 [==============================] - 0s 51us/step - loss: 85.7346 - acc: 0.0000e+00\n",
      "Epoch 3/30\n",
      "4136/4136 [==============================] - 0s 50us/step - loss: 85.7346 - acc: 0.0000e+00\n",
      "Epoch 4/30\n",
      "4136/4136 [==============================] - 0s 51us/step - loss: 85.7346 - acc: 0.0000e+00\n",
      "Epoch 5/30\n",
      "4136/4136 [==============================] - 0s 50us/step - loss: 85.7346 - acc: 0.0000e+00\n",
      "Epoch 6/30\n",
      "4136/4136 [==============================] - 0s 58us/step - loss: 85.7346 - acc: 0.0000e+00\n",
      "Epoch 7/30\n",
      "4136/4136 [==============================] - 0s 51us/step - loss: 85.7346 - acc: 0.0000e+00\n",
      "Epoch 8/30\n",
      "4136/4136 [==============================] - 0s 49us/step - loss: 85.7346 - acc: 0.0000e+00\n",
      "Epoch 9/30\n",
      "4136/4136 [==============================] - 0s 49us/step - loss: 85.7346 - acc: 0.0000e+00\n",
      "Epoch 10/30\n",
      "4136/4136 [==============================] - 0s 52us/step - loss: 85.7346 - acc: 0.0000e+00\n",
      "Epoch 11/30\n",
      "4136/4136 [==============================] - 0s 51us/step - loss: 85.7346 - acc: 0.0000e+00\n",
      "Epoch 12/30\n",
      "4136/4136 [==============================] - 0s 53us/step - loss: 85.7346 - acc: 0.0000e+00\n",
      "Epoch 13/30\n",
      "4136/4136 [==============================] - 0s 51us/step - loss: 85.7346 - acc: 0.0000e+00\n",
      "Epoch 14/30\n",
      "4136/4136 [==============================] - 0s 50us/step - loss: 85.7346 - acc: 0.0000e+00\n",
      "Epoch 15/30\n",
      "4136/4136 [==============================] - 0s 49us/step - loss: 85.7346 - acc: 0.0000e+00\n",
      "Epoch 16/30\n",
      "4136/4136 [==============================] - 0s 49us/step - loss: 85.7346 - acc: 0.0000e+00\n",
      "Epoch 17/30\n",
      "4136/4136 [==============================] - 0s 51us/step - loss: 85.7346 - acc: 0.0000e+00\n",
      "Epoch 18/30\n",
      "4136/4136 [==============================] - 0s 53us/step - loss: 85.7346 - acc: 0.0000e+00\n",
      "Epoch 19/30\n",
      "4136/4136 [==============================] - 0s 52us/step - loss: 85.7346 - acc: 0.0000e+00\n",
      "Epoch 20/30\n",
      "4136/4136 [==============================] - 0s 50us/step - loss: 85.7346 - acc: 0.0000e+00\n",
      "Epoch 21/30\n",
      "4136/4136 [==============================] - 0s 50us/step - loss: 85.7346 - acc: 0.0000e+00\n",
      "Epoch 22/30\n",
      "4136/4136 [==============================] - 0s 54us/step - loss: 85.7346 - acc: 0.0000e+00\n",
      "Epoch 23/30\n",
      "4136/4136 [==============================] - 0s 54us/step - loss: 85.7346 - acc: 0.0000e+00\n",
      "Epoch 24/30\n",
      "4136/4136 [==============================] - 0s 49us/step - loss: 85.7346 - acc: 0.0000e+00\n",
      "Epoch 25/30\n",
      "4136/4136 [==============================] - 0s 49us/step - loss: 85.7346 - acc: 0.0000e+00\n",
      "Epoch 26/30\n",
      "4136/4136 [==============================] - 0s 49us/step - loss: 85.7346 - acc: 0.0000e+00\n",
      "Epoch 27/30\n",
      "4136/4136 [==============================] - 0s 49us/step - loss: 85.7346 - acc: 0.0000e+00\n",
      "Epoch 28/30\n",
      "4136/4136 [==============================] - 0s 50us/step - loss: 85.7346 - acc: 0.0000e+00\n",
      "Epoch 29/30\n",
      "4136/4136 [==============================] - 0s 52us/step - loss: 85.7346 - acc: 0.0000e+00\n",
      "Epoch 30/30\n",
      "4136/4136 [==============================] - 0s 49us/step - loss: 85.7346 - acc: 0.0000e+00\n"
     ]
    },
    {
     "data": {
      "text/plain": [
       "<keras.callbacks.History at 0x11d34b438>"
      ]
     },
     "execution_count": 102,
     "metadata": {},
     "output_type": "execute_result"
    }
   ],
   "source": [
    "model.fit(X_train, Y_train, epochs=30, callbacks=[early_stopping_monitor])"
   ]
  },
  {
   "cell_type": "code",
   "execution_count": 103,
   "metadata": {},
   "outputs": [],
   "source": [
    "Y_trainpre = model.predict(X_train)\n",
    "Y_testpre = model.predict(X_test)\n",
    "Y_validpre = model.predict(X_valid)"
   ]
  },
  {
   "cell_type": "code",
   "execution_count": 104,
   "metadata": {},
   "outputs": [
    {
     "data": {
      "text/plain": [
       "array([[-8788030.  ],\n",
       "       [ -324530.12],\n",
       "       [-1293788.1 ],\n",
       "       ...,\n",
       "       [ -548665.7 ],\n",
       "       [  -83269.33],\n",
       "       [-1599097.6 ]], dtype=float32)"
      ]
     },
     "execution_count": 104,
     "metadata": {},
     "output_type": "execute_result"
    }
   ],
   "source": [
    "Y_trainpre"
   ]
  },
  {
   "cell_type": "code",
   "execution_count": 105,
   "metadata": {},
   "outputs": [],
   "source": [
    "# Y_train"
   ]
  },
  {
   "cell_type": "code",
   "execution_count": 106,
   "metadata": {},
   "outputs": [
    {
     "name": "stdout",
     "output_type": "stream",
     "text": [
      "train:  14808616050168.93\n",
      "valid:  10962013777462.766\n",
      "test:  9619664926965.281\n"
     ]
    }
   ],
   "source": [
    "print('train: ', mean_squared_error(Y_train, Y_trainpre))\n",
    "print('valid: ', mean_squared_error(Y_valid, Y_validpre))\n",
    "print('test: ', mean_squared_error(Y_test, Y_testpre))"
   ]
  },
  {
   "cell_type": "markdown",
   "metadata": {},
   "source": [
    "## Split nltk "
   ]
  },
  {
   "cell_type": "code",
   "execution_count": 107,
   "metadata": {},
   "outputs": [],
   "source": [
    "# from nltk.corpus import stopwords"
   ]
  },
  {
   "cell_type": "code",
   "execution_count": 108,
   "metadata": {},
   "outputs": [],
   "source": [
    "# df_nltk = df.copy()"
   ]
  },
  {
   "cell_type": "code",
   "execution_count": 109,
   "metadata": {},
   "outputs": [],
   "source": [
    "# df_nltk['Repo_description']=df_nltk['Repo_description'].apply(lambda x: [item for item in x if item not in stop_word])"
   ]
  },
  {
   "cell_type": "code",
   "execution_count": 110,
   "metadata": {},
   "outputs": [],
   "source": [
    "# df_nltk['Repo_description'].head(2)"
   ]
  },
  {
   "cell_type": "code",
   "execution_count": 111,
   "metadata": {},
   "outputs": [],
   "source": [
    "# test['tweet'].apply(lambda x: [item for item in x if item not in stop])"
   ]
  },
  {
   "cell_type": "markdown",
   "metadata": {},
   "source": [
    "## Split descript"
   ]
  },
  {
   "cell_type": "code",
   "execution_count": 112,
   "metadata": {},
   "outputs": [
    {
     "data": {
      "text/html": [
       "<div>\n",
       "<style scoped>\n",
       "    .dataframe tbody tr th:only-of-type {\n",
       "        vertical-align: middle;\n",
       "    }\n",
       "\n",
       "    .dataframe tbody tr th {\n",
       "        vertical-align: top;\n",
       "    }\n",
       "\n",
       "    .dataframe thead th {\n",
       "        text-align: right;\n",
       "    }\n",
       "</style>\n",
       "<table border=\"1\" class=\"dataframe\">\n",
       "  <thead>\n",
       "    <tr style=\"text-align: right;\">\n",
       "      <th></th>\n",
       "      <th>repo_id</th>\n",
       "      <th>Primary Language</th>\n",
       "      <th>Repo_description</th>\n",
       "      <th>size</th>\n",
       "      <th>stars</th>\n",
       "      <th>commits_count</th>\n",
       "      <th>contributors_count_without_anonymous</th>\n",
       "      <th>contributors_count_with_anonymous</th>\n",
       "      <th>repo/username</th>\n",
       "      <th>Created_Year</th>\n",
       "      <th>Created_Month</th>\n",
       "      <th>Created_Day</th>\n",
       "      <th>Pushed_Year</th>\n",
       "      <th>Pushed_Month</th>\n",
       "      <th>Pushed_Day</th>\n",
       "    </tr>\n",
       "  </thead>\n",
       "  <tbody>\n",
       "    <tr>\n",
       "      <th>0</th>\n",
       "      <td>1.0</td>\n",
       "      <td>9</td>\n",
       "      <td>**Grit is no longer maintained. Check out libg...</td>\n",
       "      <td>7954.0</td>\n",
       "      <td>1877.0</td>\n",
       "      <td>516.0</td>\n",
       "      <td>43.0</td>\n",
       "      <td>48.0</td>\n",
       "      <td>grit</td>\n",
       "      <td>2007</td>\n",
       "      <td>10</td>\n",
       "      <td>29</td>\n",
       "      <td>2017</td>\n",
       "      <td>8</td>\n",
       "      <td>3</td>\n",
       "    </tr>\n",
       "    <tr>\n",
       "      <th>1</th>\n",
       "      <td>144.0</td>\n",
       "      <td>9</td>\n",
       "      <td>Chronic is a pure Ruby natural language date p...</td>\n",
       "      <td>681.0</td>\n",
       "      <td>2809.0</td>\n",
       "      <td>630.0</td>\n",
       "      <td>51.0</td>\n",
       "      <td>67.0</td>\n",
       "      <td>chronic</td>\n",
       "      <td>2008</td>\n",
       "      <td>1</td>\n",
       "      <td>29</td>\n",
       "      <td>2018</td>\n",
       "      <td>1</td>\n",
       "      <td>12</td>\n",
       "    </tr>\n",
       "  </tbody>\n",
       "</table>\n",
       "</div>"
      ],
      "text/plain": [
       "   repo_id  Primary Language  \\\n",
       "0      1.0                 9   \n",
       "1    144.0                 9   \n",
       "\n",
       "                                    Repo_description    size   stars  \\\n",
       "0  **Grit is no longer maintained. Check out libg...  7954.0  1877.0   \n",
       "1  Chronic is a pure Ruby natural language date p...   681.0  2809.0   \n",
       "\n",
       "   commits_count  contributors_count_without_anonymous  \\\n",
       "0          516.0                                  43.0   \n",
       "1          630.0                                  51.0   \n",
       "\n",
       "   contributors_count_with_anonymous repo/username  Created_Year  \\\n",
       "0                               48.0          grit          2007   \n",
       "1                               67.0       chronic          2008   \n",
       "\n",
       "   Created_Month  Created_Day  Pushed_Year  Pushed_Month  Pushed_Day  \n",
       "0             10           29         2017             8           3  \n",
       "1              1           29         2018             1          12  "
      ]
     },
     "execution_count": 112,
     "metadata": {},
     "output_type": "execute_result"
    }
   ],
   "source": [
    "df.head(2)"
   ]
  },
  {
   "cell_type": "code",
   "execution_count": 113,
   "metadata": {},
   "outputs": [],
   "source": [
    "df_split = df.copy()"
   ]
  },
  {
   "cell_type": "code",
   "execution_count": 114,
   "metadata": {},
   "outputs": [],
   "source": [
    "stop_word = []\n",
    "file = open('./englishST.txt', 'r') \n",
    "for line in file: \n",
    "#     print(line)\n",
    "    stop_word.append(line)\n",
    "    \n",
    "stop_word = [w.replace('\\n', '') for w in stop_word]\n",
    "# print(stop_word)"
   ]
  },
  {
   "cell_type": "code",
   "execution_count": 115,
   "metadata": {},
   "outputs": [],
   "source": [
    "def remove_stopword(ls):\n",
    "#     print(\"2\")\n",
    "    temp_split = ls.split()\n",
    "    for sw in stop_word:\n",
    "        if sw in temp_split:\n",
    "            temp_split.remove(sw)\n",
    "    temp_split = []\n",
    "    return temp_split"
   ]
  },
  {
   "cell_type": "code",
   "execution_count": 142,
   "metadata": {},
   "outputs": [
    {
     "name": "stderr",
     "output_type": "stream",
     "text": [
      "[nltk_data] Downloading package stopwords to\n",
      "[nltk_data]     /Users/chaiyakarn/nltk_data...\n",
      "[nltk_data]   Package stopwords is already up-to-date!\n",
      "[nltk_data] Downloading package punkt to\n",
      "[nltk_data]     /Users/chaiyakarn/nltk_data...\n",
      "[nltk_data]   Unzipping tokenizers/punkt.zip.\n"
     ]
    },
    {
     "data": {
      "text/plain": [
       "True"
      ]
     },
     "execution_count": 142,
     "metadata": {},
     "output_type": "execute_result"
    }
   ],
   "source": [
    "import nltk\n",
    "nltk.download('stopwords')\n",
    "nltk.download('punkt')"
   ]
  },
  {
   "cell_type": "code",
   "execution_count": 127,
   "metadata": {},
   "outputs": [
    {
     "name": "stdout",
     "output_type": "stream",
     "text": [
      "['arabic', 'azerbaijani', 'danish', 'dutch', 'english', 'finnish', 'french', 'german', 'greek', 'hungarian', 'indonesian', 'italian', 'kazakh', 'nepali', 'norwegian', 'portuguese', 'romanian', 'russian', 'spanish', 'swedish', 'turkish']\n"
     ]
    }
   ],
   "source": [
    "# from nltk.corpus import stopwords\n",
    "# print (stopwords.fileids())"
   ]
  },
  {
   "cell_type": "code",
   "execution_count": 130,
   "metadata": {},
   "outputs": [
    {
     "data": {
      "text/plain": [
       "set"
      ]
     },
     "execution_count": 130,
     "metadata": {},
     "output_type": "execute_result"
    }
   ],
   "source": [
    "# en_stops = set(stopwords.words('english'))\n",
    "# type(en_stops)"
   ]
  },
  {
   "cell_type": "code",
   "execution_count": null,
   "metadata": {},
   "outputs": [],
   "source": [
    "# _df = df_split[df_split['repo_id'] == 144]\n",
    "# # _df\n",
    "# temp = _df['Repo_description'].str.split()\n",
    "# type(temp)\n",
    "# # print(remove_stopword(temp[0]))"
   ]
  },
  {
   "cell_type": "code",
   "execution_count": null,
   "metadata": {},
   "outputs": [],
   "source": [
    "# for index,row in df_split.iterrows():\n",
    "#     _df = df_split[df_split['repo_id'] == row['repo_id']]\n",
    "# #     temp_list = remove_stopword(_df['Repo_description'])\n",
    "#     temp = _df['Repo_description']\n",
    "#     remove_temp = remove_stopword(temp[0])\n",
    "#     temp[0] = remove_temp\n",
    "#     _df['Repo_description'] = temp\n",
    "#     df_split.loc[df_split['repo_id'] == row['repo_id']] = _df\n",
    "#     print(row['repo_id'])\n",
    "# #     print(row['Primary Language'])"
   ]
  },
  {
   "cell_type": "code",
   "execution_count": null,
   "metadata": {},
   "outputs": [],
   "source": [
    "# # for index,row in df_split.iterrows():\n",
    "# # #     row['Primary Language'] = 8\n",
    "# #     print(row['Primary Language'])\n",
    "# #     break\n",
    "# test = df_split.loc[df_split['repo_id'] == 1.0]\n",
    "# temp = test['Repo_description']\n",
    "# temp"
   ]
  },
  {
   "cell_type": "code",
   "execution_count": 144,
   "metadata": {},
   "outputs": [],
   "source": [
    "# for d in df.Repo_description:\n",
    "#     print(type(d.split()))\n",
    "#     print(d.split())\n",
    "#     a = d.split()\n",
    "#     if 'is' in a:\n",
    "#         print(\"=======\")\n",
    "#     a.remove('is')\n",
    "#     print(a)\n",
    "#     break"
   ]
  },
  {
   "cell_type": "code",
   "execution_count": 131,
   "metadata": {},
   "outputs": [
    {
     "name": "stdout",
     "output_type": "stream",
     "text": [
      "['arabic', 'azerbaijani', 'danish', 'dutch', 'english', 'finnish', 'french', 'german', 'greek', 'hungarian', 'indonesian', 'italian', 'kazakh', 'nepali', 'norwegian', 'portuguese', 'romanian', 'russian', 'spanish', 'swedish', 'turkish']\n"
     ]
    }
   ],
   "source": [
    "from nltk.corpus import stopwords\n",
    "print (stopwords.fileids())"
   ]
  },
  {
   "cell_type": "code",
   "execution_count": 137,
   "metadata": {},
   "outputs": [
    {
     "data": {
      "text/plain": [
       "set"
      ]
     },
     "execution_count": 137,
     "metadata": {},
     "output_type": "execute_result"
    }
   ],
   "source": [
    "en_stops = set(stopwords.words('english'))\n",
    "type(en_stops)"
   ]
  },
  {
   "cell_type": "code",
   "execution_count": 140,
   "metadata": {},
   "outputs": [],
   "source": [
    "from nltk.tokenize import sent_tokenize, word_tokenize"
   ]
  },
  {
   "cell_type": "code",
   "execution_count": 147,
   "metadata": {},
   "outputs": [
    {
     "name": "stdout",
     "output_type": "stream",
     "text": [
      "['All', 'work', 'and', 'no', 'play', 'makes', 'jack', 'a', 'dull', 'boy', ',', 'all', 'work', 'and', 'no', 'play']\n",
      "<class 'list'>\n"
     ]
    }
   ],
   "source": [
    "# data = \"All work and no play makes jack a dull boy, all work and no play\"\n",
    "print(word_tokenize(data))\n",
    "print(type(word_tokenize(data)))"
   ]
  },
  {
   "cell_type": "markdown",
   "metadata": {},
   "source": [
    "## Split Description"
   ]
  },
  {
   "cell_type": "code",
   "execution_count": 161,
   "metadata": {},
   "outputs": [
    {
     "data": {
      "text/html": [
       "<div>\n",
       "<style scoped>\n",
       "    .dataframe tbody tr th:only-of-type {\n",
       "        vertical-align: middle;\n",
       "    }\n",
       "\n",
       "    .dataframe tbody tr th {\n",
       "        vertical-align: top;\n",
       "    }\n",
       "\n",
       "    .dataframe thead th {\n",
       "        text-align: right;\n",
       "    }\n",
       "</style>\n",
       "<table border=\"1\" class=\"dataframe\">\n",
       "  <thead>\n",
       "    <tr style=\"text-align: right;\">\n",
       "      <th></th>\n",
       "      <th>repo_id</th>\n",
       "      <th>Primary Language</th>\n",
       "      <th>Repo_description</th>\n",
       "      <th>size</th>\n",
       "      <th>stars</th>\n",
       "      <th>commits_count</th>\n",
       "      <th>contributors_count_without_anonymous</th>\n",
       "      <th>contributors_count_with_anonymous</th>\n",
       "      <th>repo/username</th>\n",
       "      <th>Created_Year</th>\n",
       "      <th>Created_Month</th>\n",
       "      <th>Created_Day</th>\n",
       "      <th>Pushed_Year</th>\n",
       "      <th>Pushed_Month</th>\n",
       "      <th>Pushed_Day</th>\n",
       "    </tr>\n",
       "  </thead>\n",
       "  <tbody>\n",
       "    <tr>\n",
       "      <th>0</th>\n",
       "      <td>1.0</td>\n",
       "      <td>9</td>\n",
       "      <td>**Grit is no longer maintained. Check out libg...</td>\n",
       "      <td>7954.0</td>\n",
       "      <td>1877.0</td>\n",
       "      <td>516.0</td>\n",
       "      <td>43.0</td>\n",
       "      <td>48.0</td>\n",
       "      <td>grit</td>\n",
       "      <td>2007</td>\n",
       "      <td>10</td>\n",
       "      <td>29</td>\n",
       "      <td>2017</td>\n",
       "      <td>8</td>\n",
       "      <td>3</td>\n",
       "    </tr>\n",
       "    <tr>\n",
       "      <th>1</th>\n",
       "      <td>144.0</td>\n",
       "      <td>9</td>\n",
       "      <td>Chronic is a pure Ruby natural language date p...</td>\n",
       "      <td>681.0</td>\n",
       "      <td>2809.0</td>\n",
       "      <td>630.0</td>\n",
       "      <td>51.0</td>\n",
       "      <td>67.0</td>\n",
       "      <td>chronic</td>\n",
       "      <td>2008</td>\n",
       "      <td>1</td>\n",
       "      <td>29</td>\n",
       "      <td>2018</td>\n",
       "      <td>1</td>\n",
       "      <td>12</td>\n",
       "    </tr>\n",
       "    <tr>\n",
       "      <th>2</th>\n",
       "      <td>363.0</td>\n",
       "      <td>9</td>\n",
       "      <td>Audited (formerly acts_as_audited) is an ORM e...</td>\n",
       "      <td>761.0</td>\n",
       "      <td>2077.0</td>\n",
       "      <td>668.0</td>\n",
       "      <td>84.0</td>\n",
       "      <td>100.0</td>\n",
       "      <td>audited</td>\n",
       "      <td>2008</td>\n",
       "      <td>2</td>\n",
       "      <td>9</td>\n",
       "      <td>2018</td>\n",
       "      <td>3</td>\n",
       "      <td>14</td>\n",
       "    </tr>\n",
       "    <tr>\n",
       "      <th>3</th>\n",
       "      <td>507.0</td>\n",
       "      <td>9</td>\n",
       "      <td>A Ruby interface to the Twitter API.</td>\n",
       "      <td>19823.0</td>\n",
       "      <td>4009.0</td>\n",
       "      <td>2595.0</td>\n",
       "      <td>160.0</td>\n",
       "      <td>180.0</td>\n",
       "      <td>twitter</td>\n",
       "      <td>2008</td>\n",
       "      <td>2</td>\n",
       "      <td>14</td>\n",
       "      <td>2018</td>\n",
       "      <td>2</td>\n",
       "      <td>8</td>\n",
       "    </tr>\n",
       "    <tr>\n",
       "      <th>4</th>\n",
       "      <td>1462.0</td>\n",
       "      <td>9</td>\n",
       "      <td>Annotate Rails classes with schema and routes ...</td>\n",
       "      <td>1206.0</td>\n",
       "      <td>2877.0</td>\n",
       "      <td>829.0</td>\n",
       "      <td>153.0</td>\n",
       "      <td>183.0</td>\n",
       "      <td>annotate_models</td>\n",
       "      <td>2008</td>\n",
       "      <td>2</td>\n",
       "      <td>27</td>\n",
       "      <td>2018</td>\n",
       "      <td>2</td>\n",
       "      <td>23</td>\n",
       "    </tr>\n",
       "  </tbody>\n",
       "</table>\n",
       "</div>"
      ],
      "text/plain": [
       "   repo_id  Primary Language  \\\n",
       "0      1.0                 9   \n",
       "1    144.0                 9   \n",
       "2    363.0                 9   \n",
       "3    507.0                 9   \n",
       "4   1462.0                 9   \n",
       "\n",
       "                                    Repo_description     size   stars  \\\n",
       "0  **Grit is no longer maintained. Check out libg...   7954.0  1877.0   \n",
       "1  Chronic is a pure Ruby natural language date p...    681.0  2809.0   \n",
       "2  Audited (formerly acts_as_audited) is an ORM e...    761.0  2077.0   \n",
       "3               A Ruby interface to the Twitter API.  19823.0  4009.0   \n",
       "4  Annotate Rails classes with schema and routes ...   1206.0  2877.0   \n",
       "\n",
       "   commits_count  contributors_count_without_anonymous  \\\n",
       "0          516.0                                  43.0   \n",
       "1          630.0                                  51.0   \n",
       "2          668.0                                  84.0   \n",
       "3         2595.0                                 160.0   \n",
       "4          829.0                                 153.0   \n",
       "\n",
       "   contributors_count_with_anonymous    repo/username  Created_Year  \\\n",
       "0                               48.0             grit          2007   \n",
       "1                               67.0          chronic          2008   \n",
       "2                              100.0          audited          2008   \n",
       "3                              180.0          twitter          2008   \n",
       "4                              183.0  annotate_models          2008   \n",
       "\n",
       "   Created_Month  Created_Day  Pushed_Year  Pushed_Month  Pushed_Day  \n",
       "0             10           29         2017             8           3  \n",
       "1              1           29         2018             1          12  \n",
       "2              2            9         2018             3          14  \n",
       "3              2           14         2018             2           8  \n",
       "4              2           27         2018             2          23  "
      ]
     },
     "execution_count": 161,
     "metadata": {},
     "output_type": "execute_result"
    }
   ],
   "source": [
    "df.head()"
   ]
  },
  {
   "cell_type": "code",
   "execution_count": 162,
   "metadata": {},
   "outputs": [
    {
     "name": "stdout",
     "output_type": "stream",
     "text": [
      "['All', 'work', 'and', 'no', 'play', 'makes', 'jack', 'a', 'dull', 'boy', ',', 'all', 'work', 'and', 'no', 'play']\n",
      "<class 'list'>\n"
     ]
    }
   ],
   "source": [
    "data = \"All work and no play makes jack a dull boy, all work and no play\"\n",
    "print(word_tokenize(data))\n",
    "print(type(word_tokenize(data)))"
   ]
  },
  {
   "cell_type": "code",
   "execution_count": 173,
   "metadata": {},
   "outputs": [
    {
     "data": {
      "text/plain": [
       "'All work and no play makes jack a dull boy , all work and no play'"
      ]
     },
     "execution_count": 173,
     "metadata": {},
     "output_type": "execute_result"
    }
   ],
   "source": [
    "' '.join(map(str, word_tokenize(data)))"
   ]
  },
  {
   "cell_type": "code",
   "execution_count": 175,
   "metadata": {},
   "outputs": [
    {
     "data": {
      "text/plain": [
       "{'a',\n",
       " 'about',\n",
       " 'above',\n",
       " 'after',\n",
       " 'again',\n",
       " 'against',\n",
       " 'ain',\n",
       " 'all',\n",
       " 'am',\n",
       " 'an',\n",
       " 'and',\n",
       " 'any',\n",
       " 'are',\n",
       " 'aren',\n",
       " \"aren't\",\n",
       " 'as',\n",
       " 'at',\n",
       " 'be',\n",
       " 'because',\n",
       " 'been',\n",
       " 'before',\n",
       " 'being',\n",
       " 'below',\n",
       " 'between',\n",
       " 'both',\n",
       " 'but',\n",
       " 'by',\n",
       " 'can',\n",
       " 'couldn',\n",
       " \"couldn't\",\n",
       " 'd',\n",
       " 'did',\n",
       " 'didn',\n",
       " \"didn't\",\n",
       " 'do',\n",
       " 'does',\n",
       " 'doesn',\n",
       " \"doesn't\",\n",
       " 'doing',\n",
       " 'don',\n",
       " \"don't\",\n",
       " 'down',\n",
       " 'during',\n",
       " 'each',\n",
       " 'few',\n",
       " 'for',\n",
       " 'from',\n",
       " 'further',\n",
       " 'had',\n",
       " 'hadn',\n",
       " \"hadn't\",\n",
       " 'has',\n",
       " 'hasn',\n",
       " \"hasn't\",\n",
       " 'have',\n",
       " 'haven',\n",
       " \"haven't\",\n",
       " 'having',\n",
       " 'he',\n",
       " 'her',\n",
       " 'here',\n",
       " 'hers',\n",
       " 'herself',\n",
       " 'him',\n",
       " 'himself',\n",
       " 'his',\n",
       " 'how',\n",
       " 'i',\n",
       " 'if',\n",
       " 'in',\n",
       " 'into',\n",
       " 'is',\n",
       " 'isn',\n",
       " \"isn't\",\n",
       " 'it',\n",
       " \"it's\",\n",
       " 'its',\n",
       " 'itself',\n",
       " 'just',\n",
       " 'll',\n",
       " 'm',\n",
       " 'ma',\n",
       " 'me',\n",
       " 'mightn',\n",
       " \"mightn't\",\n",
       " 'more',\n",
       " 'most',\n",
       " 'mustn',\n",
       " \"mustn't\",\n",
       " 'my',\n",
       " 'myself',\n",
       " 'needn',\n",
       " \"needn't\",\n",
       " 'no',\n",
       " 'nor',\n",
       " 'not',\n",
       " 'now',\n",
       " 'o',\n",
       " 'of',\n",
       " 'off',\n",
       " 'on',\n",
       " 'once',\n",
       " 'only',\n",
       " 'or',\n",
       " 'other',\n",
       " 'our',\n",
       " 'ours',\n",
       " 'ourselves',\n",
       " 'out',\n",
       " 'over',\n",
       " 'own',\n",
       " 're',\n",
       " 's',\n",
       " 'same',\n",
       " 'shan',\n",
       " \"shan't\",\n",
       " 'she',\n",
       " \"she's\",\n",
       " 'should',\n",
       " \"should've\",\n",
       " 'shouldn',\n",
       " \"shouldn't\",\n",
       " 'so',\n",
       " 'some',\n",
       " 'such',\n",
       " 't',\n",
       " 'than',\n",
       " 'that',\n",
       " \"that'll\",\n",
       " 'the',\n",
       " 'their',\n",
       " 'theirs',\n",
       " 'them',\n",
       " 'themselves',\n",
       " 'then',\n",
       " 'there',\n",
       " 'these',\n",
       " 'they',\n",
       " 'this',\n",
       " 'those',\n",
       " 'through',\n",
       " 'to',\n",
       " 'too',\n",
       " 'under',\n",
       " 'until',\n",
       " 'up',\n",
       " 've',\n",
       " 'very',\n",
       " 'was',\n",
       " 'wasn',\n",
       " \"wasn't\",\n",
       " 'we',\n",
       " 'were',\n",
       " 'weren',\n",
       " \"weren't\",\n",
       " 'what',\n",
       " 'when',\n",
       " 'where',\n",
       " 'which',\n",
       " 'while',\n",
       " 'who',\n",
       " 'whom',\n",
       " 'why',\n",
       " 'will',\n",
       " 'with',\n",
       " 'won',\n",
       " \"won't\",\n",
       " 'wouldn',\n",
       " \"wouldn't\",\n",
       " 'y',\n",
       " 'you',\n",
       " \"you'd\",\n",
       " \"you'll\",\n",
       " \"you're\",\n",
       " \"you've\",\n",
       " 'your',\n",
       " 'yours',\n",
       " 'yourself',\n",
       " 'yourselves'}"
      ]
     },
     "execution_count": 175,
     "metadata": {},
     "output_type": "execute_result"
    }
   ],
   "source": [
    "stop_words = set(stopwords.words('english'))\n",
    "stop_words"
   ]
  },
  {
   "cell_type": "code",
   "execution_count": 176,
   "metadata": {},
   "outputs": [
    {
     "name": "stdout",
     "output_type": "stream",
     "text": [
      "['This', 'is', 'a', 'sample', 'sentence', ',', 'showing', 'off', 'the', 'stop', 'words', 'filtration', '.']\n",
      "['This', 'sample', 'sentence', ',', 'showing', 'stop', 'words', 'filtration', '.']\n"
     ]
    }
   ],
   "source": [
    "example_sent = \"This is a sample sentence, showing off the stop words filtration.\"\n",
    "  \n",
    "stop_words = set(stopwords.words('english')) \n",
    "  \n",
    "word_tokens = word_tokenize(example_sent) \n",
    "  \n",
    "filtered_sentence = [w for w in word_tokens if not w in stop_words] \n",
    "  \n",
    "filtered_sentence = [] \n",
    "  \n",
    "for w in word_tokens: \n",
    "    if w not in stop_words: \n",
    "        filtered_sentence.append(w) \n",
    "  \n",
    "print(word_tokens) \n",
    "print(filtered_sentence) "
   ]
  },
  {
   "cell_type": "code",
   "execution_count": 172,
   "metadata": {},
   "outputs": [
    {
     "name": "stdout",
     "output_type": "stream",
     "text": [
      "**Grit is no longer maintained. Check out libgit2/rugged.** Grit gives you object oriented read/write access to Git repositories via Ruby.\n",
      "=======\n",
      "['**Grit', 'is', 'no', 'longer', 'maintained', '.', 'Check', 'out', 'libgit2/rugged', '.', '**', 'Grit', 'gives', 'you', 'object', 'oriented', 'read/write', 'access', 'to', 'Git', 'repositories', 'via', 'Ruby', '.']\n",
      "**Grit is no longer maintained . Check out libgit2/rugged . ** Grit gives you object oriented read/write access to Git repositories via Ruby .\n"
     ]
    }
   ],
   "source": [
    "for index,row in df.iterrows():\n",
    "    _row = row['Repo_description']\n",
    "#     print(type(_row))\n",
    "    print(_row)\n",
    "    print(\"=======\")\n",
    "    print(word_tokenize(_row))\n",
    "    \n",
    "#     a = ' '.join(map(str, word_tokenize(_row)))\n",
    "    print(a)\n",
    "    break"
   ]
  },
  {
   "cell_type": "code",
   "execution_count": null,
   "metadata": {},
   "outputs": [],
   "source": []
  }
 ],
 "metadata": {
  "kernelspec": {
   "display_name": "Python 3",
   "language": "python",
   "name": "python3"
  },
  "language_info": {
   "codemirror_mode": {
    "name": "ipython",
    "version": 3
   },
   "file_extension": ".py",
   "mimetype": "text/x-python",
   "name": "python",
   "nbconvert_exporter": "python",
   "pygments_lexer": "ipython3",
   "version": "3.7.2"
  }
 },
 "nbformat": 4,
 "nbformat_minor": 2
}
