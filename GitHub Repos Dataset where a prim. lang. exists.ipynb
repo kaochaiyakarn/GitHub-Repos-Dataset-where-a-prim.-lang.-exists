{
 "cells": [
  {
   "cell_type": "markdown",
   "metadata": {},
   "source": [
    "# GitHub Repos Dataset where a prim. lang. exists"
   ]
  },
  {
   "cell_type": "markdown",
   "metadata": {},
   "source": [
    "From https://www.kaggle.com/muname/github-repos-mainlang"
   ]
  },
  {
   "cell_type": "markdown",
   "metadata": {},
   "source": [
    "## pre-process"
   ]
  },
  {
   "cell_type": "code",
   "execution_count": null,
   "metadata": {},
   "outputs": [],
   "source": [
    "import pandas as pd"
   ]
  },
  {
   "cell_type": "code",
   "execution_count": 3,
   "metadata": {},
   "outputs": [],
   "source": [
    "df = pd.read_csv(\"./DatasetDataKaggle.csv\")"
   ]
  },
  {
   "cell_type": "code",
   "execution_count": 4,
   "metadata": {},
   "outputs": [
    {
     "data": {
      "text/html": [
       "<div>\n",
       "<style scoped>\n",
       "    .dataframe tbody tr th:only-of-type {\n",
       "        vertical-align: middle;\n",
       "    }\n",
       "\n",
       "    .dataframe tbody tr th {\n",
       "        vertical-align: top;\n",
       "    }\n",
       "\n",
       "    .dataframe thead th {\n",
       "        text-align: right;\n",
       "    }\n",
       "</style>\n",
       "<table border=\"1\" class=\"dataframe\">\n",
       "  <thead>\n",
       "    <tr style=\"text-align: right;\">\n",
       "      <th></th>\n",
       "      <th>repo_id</th>\n",
       "      <th>Primary Language</th>\n",
       "      <th>Repo_description</th>\n",
       "      <th>size</th>\n",
       "      <th>stars</th>\n",
       "      <th>commits_count</th>\n",
       "      <th>contributors_count_without_anonymous</th>\n",
       "      <th>contributors_count_with_anonymous</th>\n",
       "      <th>created_at</th>\n",
       "      <th>pushed_at</th>\n",
       "      <th>repo/username</th>\n",
       "      <th>repo_link</th>\n",
       "    </tr>\n",
       "  </thead>\n",
       "  <tbody>\n",
       "    <tr>\n",
       "      <th>0</th>\n",
       "      <td>1.0</td>\n",
       "      <td>Ruby</td>\n",
       "      <td>**Grit is no longer maintained. Check out libg...</td>\n",
       "      <td>7954.0</td>\n",
       "      <td>1877.0</td>\n",
       "      <td>516.0</td>\n",
       "      <td>43.0</td>\n",
       "      <td>48.0</td>\n",
       "      <td>29 October 2007</td>\n",
       "      <td>03 August 2017</td>\n",
       "      <td>grit</td>\n",
       "      <td>NaN</td>\n",
       "    </tr>\n",
       "    <tr>\n",
       "      <th>1</th>\n",
       "      <td>144.0</td>\n",
       "      <td>Ruby</td>\n",
       "      <td>Chronic is a pure Ruby natural language date p...</td>\n",
       "      <td>681.0</td>\n",
       "      <td>2809.0</td>\n",
       "      <td>630.0</td>\n",
       "      <td>51.0</td>\n",
       "      <td>67.0</td>\n",
       "      <td>29 January 2008</td>\n",
       "      <td>12 January 2018</td>\n",
       "      <td>chronic</td>\n",
       "      <td>NaN</td>\n",
       "    </tr>\n",
       "    <tr>\n",
       "      <th>2</th>\n",
       "      <td>363.0</td>\n",
       "      <td>Ruby</td>\n",
       "      <td>Audited (formerly acts_as_audited) is an ORM e...</td>\n",
       "      <td>761.0</td>\n",
       "      <td>2077.0</td>\n",
       "      <td>668.0</td>\n",
       "      <td>84.0</td>\n",
       "      <td>100.0</td>\n",
       "      <td>09 February 2008</td>\n",
       "      <td>14 March 2018</td>\n",
       "      <td>audited</td>\n",
       "      <td>NaN</td>\n",
       "    </tr>\n",
       "    <tr>\n",
       "      <th>3</th>\n",
       "      <td>507.0</td>\n",
       "      <td>Ruby</td>\n",
       "      <td>A Ruby interface to the Twitter API.</td>\n",
       "      <td>19823.0</td>\n",
       "      <td>4009.0</td>\n",
       "      <td>2595.0</td>\n",
       "      <td>160.0</td>\n",
       "      <td>180.0</td>\n",
       "      <td>14 February 2008</td>\n",
       "      <td>08 February 2018</td>\n",
       "      <td>twitter</td>\n",
       "      <td>NaN</td>\n",
       "    </tr>\n",
       "    <tr>\n",
       "      <th>4</th>\n",
       "      <td>1462.0</td>\n",
       "      <td>Ruby</td>\n",
       "      <td>Annotate Rails classes with schema and routes ...</td>\n",
       "      <td>1206.0</td>\n",
       "      <td>2877.0</td>\n",
       "      <td>829.0</td>\n",
       "      <td>153.0</td>\n",
       "      <td>183.0</td>\n",
       "      <td>27 February 2008</td>\n",
       "      <td>23 February 2018</td>\n",
       "      <td>annotate_models</td>\n",
       "      <td>NaN</td>\n",
       "    </tr>\n",
       "  </tbody>\n",
       "</table>\n",
       "</div>"
      ],
      "text/plain": [
       "   repo_id Primary Language  \\\n",
       "0      1.0             Ruby   \n",
       "1    144.0             Ruby   \n",
       "2    363.0             Ruby   \n",
       "3    507.0             Ruby   \n",
       "4   1462.0             Ruby   \n",
       "\n",
       "                                    Repo_description     size   stars  \\\n",
       "0  **Grit is no longer maintained. Check out libg...   7954.0  1877.0   \n",
       "1  Chronic is a pure Ruby natural language date p...    681.0  2809.0   \n",
       "2  Audited (formerly acts_as_audited) is an ORM e...    761.0  2077.0   \n",
       "3               A Ruby interface to the Twitter API.  19823.0  4009.0   \n",
       "4  Annotate Rails classes with schema and routes ...   1206.0  2877.0   \n",
       "\n",
       "   commits_count  contributors_count_without_anonymous  \\\n",
       "0          516.0                                  43.0   \n",
       "1          630.0                                  51.0   \n",
       "2          668.0                                  84.0   \n",
       "3         2595.0                                 160.0   \n",
       "4          829.0                                 153.0   \n",
       "\n",
       "   contributors_count_with_anonymous        created_at         pushed_at  \\\n",
       "0                               48.0   29 October 2007    03 August 2017   \n",
       "1                               67.0   29 January 2008   12 January 2018   \n",
       "2                              100.0  09 February 2008     14 March 2018   \n",
       "3                              180.0  14 February 2008  08 February 2018   \n",
       "4                              183.0  27 February 2008  23 February 2018   \n",
       "\n",
       "     repo/username  repo_link  \n",
       "0             grit        NaN  \n",
       "1          chronic        NaN  \n",
       "2          audited        NaN  \n",
       "3          twitter        NaN  \n",
       "4  annotate_models        NaN  "
      ]
     },
     "execution_count": 4,
     "metadata": {},
     "output_type": "execute_result"
    }
   ],
   "source": [
    "df.head(5)"
   ]
  },
  {
   "cell_type": "code",
   "execution_count": 5,
   "metadata": {},
   "outputs": [
    {
     "name": "stdout",
     "output_type": "stream",
     "text": [
      "<class 'pandas.core.frame.DataFrame'>\n",
      "RangeIndex: 4598 entries, 0 to 4597\n",
      "Data columns (total 12 columns):\n",
      "repo_id                                 4597 non-null float64\n",
      "Primary Language                        4597 non-null object\n",
      "Repo_description                        4541 non-null object\n",
      "size                                    4597 non-null float64\n",
      "stars                                   4597 non-null float64\n",
      "commits_count                           4597 non-null float64\n",
      "contributors_count_without_anonymous    4597 non-null float64\n",
      "contributors_count_with_anonymous       4597 non-null float64\n",
      "created_at                              4597 non-null object\n",
      "pushed_at                               4597 non-null object\n",
      "repo/username                           4597 non-null object\n",
      "repo_link                               0 non-null float64\n",
      "dtypes: float64(7), object(5)\n",
      "memory usage: 431.1+ KB\n"
     ]
    }
   ],
   "source": [
    "df.info()"
   ]
  },
  {
   "cell_type": "code",
   "execution_count": 10,
   "metadata": {},
   "outputs": [
    {
     "data": {
      "text/plain": [
       "repo_id                                    1\n",
       "Primary Language                           1\n",
       "Repo_description                          57\n",
       "size                                       1\n",
       "stars                                      1\n",
       "commits_count                              1\n",
       "contributors_count_without_anonymous       1\n",
       "contributors_count_with_anonymous          1\n",
       "created_at                                 1\n",
       "pushed_at                                  1\n",
       "repo/username                              1\n",
       "repo_link                               4598\n",
       "dtype: int64"
      ]
     },
     "execution_count": 10,
     "metadata": {},
     "output_type": "execute_result"
    }
   ],
   "source": [
    "df.isnull().sum()"
   ]
  },
  {
   "cell_type": "code",
   "execution_count": 11,
   "metadata": {},
   "outputs": [
    {
     "data": {
      "text/plain": [
       "0    **Grit is no longer maintained. Check out libg...\n",
       "1    Chronic is a pure Ruby natural language date p...\n",
       "2    Audited (formerly acts_as_audited) is an ORM e...\n",
       "3                 A Ruby interface to the Twitter API.\n",
       "4    Annotate Rails classes with schema and routes ...\n",
       "Name: Repo_description, dtype: object"
      ]
     },
     "execution_count": 11,
     "metadata": {},
     "output_type": "execute_result"
    }
   ],
   "source": [
    "df['Repo_description'].head()"
   ]
  },
  {
   "cell_type": "code",
   "execution_count": 12,
   "metadata": {},
   "outputs": [
    {
     "data": {
      "text/plain": [
       "repo_id                                 float64\n",
       "Primary Language                         object\n",
       "Repo_description                         object\n",
       "size                                    float64\n",
       "stars                                   float64\n",
       "commits_count                           float64\n",
       "contributors_count_without_anonymous    float64\n",
       "contributors_count_with_anonymous       float64\n",
       "created_at                               object\n",
       "pushed_at                                object\n",
       "repo/username                            object\n",
       "repo_link                               float64\n",
       "dtype: object"
      ]
     },
     "execution_count": 12,
     "metadata": {},
     "output_type": "execute_result"
    }
   ],
   "source": [
    "df.dtypes"
   ]
  },
  {
   "cell_type": "code",
   "execution_count": 20,
   "metadata": {},
   "outputs": [
    {
     "data": {
      "text/plain": [
       "JavaScript     1330\n",
       "Java           1067\n",
       "Python          598\n",
       "Go              364\n",
       "Objective-C     326\n",
       "Swift           244\n",
       "PHP             198\n",
       "Ruby            168\n",
       "C#              133\n",
       "C++             101\n",
       "C                68\n",
       "Name: Primary Language, dtype: int64"
      ]
     },
     "execution_count": 20,
     "metadata": {},
     "output_type": "execute_result"
    }
   ],
   "source": [
    "df['Primary Language'].value_counts()"
   ]
  },
  {
   "cell_type": "code",
   "execution_count": null,
   "metadata": {},
   "outputs": [],
   "source": []
  },
  {
   "cell_type": "code",
   "execution_count": null,
   "metadata": {},
   "outputs": [],
   "source": []
  },
  {
   "cell_type": "code",
   "execution_count": null,
   "metadata": {},
   "outputs": [],
   "source": []
  },
  {
   "cell_type": "code",
   "execution_count": null,
   "metadata": {},
   "outputs": [],
   "source": []
  },
  {
   "cell_type": "code",
   "execution_count": null,
   "metadata": {},
   "outputs": [],
   "source": []
  }
 ],
 "metadata": {
  "kernelspec": {
   "display_name": "Python 3",
   "language": "python",
   "name": "python3"
  },
  "language_info": {
   "codemirror_mode": {
    "name": "ipython",
    "version": 3
   },
   "file_extension": ".py",
   "mimetype": "text/x-python",
   "name": "python",
   "nbconvert_exporter": "python",
   "pygments_lexer": "ipython3",
   "version": "3.7.2"
  }
 },
 "nbformat": 4,
 "nbformat_minor": 2
}
